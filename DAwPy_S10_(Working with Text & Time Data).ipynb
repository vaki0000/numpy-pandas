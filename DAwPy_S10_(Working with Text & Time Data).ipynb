{
 "cells": [
  {
   "cell_type": "code",
   "execution_count": 1,
   "metadata": {
    "id": "tloWtpz4Aga4"
   },
   "outputs": [],
   "source": [
    "import numpy as np\n",
    "import pandas as pd\n",
    "import seaborn as sns\n",
    "\n",
    "import warnings\n",
    "warnings.filterwarnings(\"ignore\")  # to suppress all warnings"
   ]
  },
  {
   "cell_type": "code",
   "execution_count": 2,
   "metadata": {},
   "outputs": [],
   "source": [
    "# !pip install xlrd\n",
    "# !pip install lxml\n",
    "# !pip install openpyxl"
   ]
  },
  {
   "cell_type": "code",
   "execution_count": 3,
   "metadata": {
    "id": "Wcou4rZ3Aga6",
    "outputId": "b1002003-cccc-4cb2-b592-4988a8e220d3",
    "scrolled": true
   },
   "outputs": [
    {
     "data": {
      "text/html": [
       "<div>\n",
       "<style scoped>\n",
       "    .dataframe tbody tr th:only-of-type {\n",
       "        vertical-align: middle;\n",
       "    }\n",
       "\n",
       "    .dataframe tbody tr th {\n",
       "        vertical-align: top;\n",
       "    }\n",
       "\n",
       "    .dataframe thead th {\n",
       "        text-align: right;\n",
       "    }\n",
       "</style>\n",
       "<table border=\"1\" class=\"dataframe\">\n",
       "  <thead>\n",
       "    <tr style=\"text-align: right;\">\n",
       "      <th></th>\n",
       "      <th>id</th>\n",
       "      <th>staff</th>\n",
       "      <th>department</th>\n",
       "      <th>job</th>\n",
       "      <th>salary</th>\n",
       "      <th>age</th>\n",
       "    </tr>\n",
       "  </thead>\n",
       "  <tbody>\n",
       "    <tr>\n",
       "      <th>0</th>\n",
       "      <td>M0001</td>\n",
       "      <td>Tom BLUE</td>\n",
       "      <td>HR</td>\n",
       "      <td>manager</td>\n",
       "      <td>\"$150,000\"</td>\n",
       "      <td>52</td>\n",
       "    </tr>\n",
       "    <tr>\n",
       "      <th>1</th>\n",
       "      <td>M0002</td>\n",
       "      <td>JOHN BLACK</td>\n",
       "      <td>IT</td>\n",
       "      <td>manager</td>\n",
       "      <td>\"$180,000\"</td>\n",
       "      <td>48</td>\n",
       "    </tr>\n",
       "    <tr>\n",
       "      <th>2</th>\n",
       "      <td>E0001</td>\n",
       "      <td>Micheal Brown</td>\n",
       "      <td>IT</td>\n",
       "      <td>data scientist</td>\n",
       "      <td>\"$150,000\"</td>\n",
       "      <td>35</td>\n",
       "    </tr>\n",
       "    <tr>\n",
       "      <th>3</th>\n",
       "      <td>E0002</td>\n",
       "      <td>jason walker</td>\n",
       "      <td>HR</td>\n",
       "      <td>recruiter</td>\n",
       "      <td>130000dolar</td>\n",
       "      <td>38</td>\n",
       "    </tr>\n",
       "    <tr>\n",
       "      <th>4</th>\n",
       "      <td>E0003</td>\n",
       "      <td>Alex Green</td>\n",
       "      <td>IT</td>\n",
       "      <td>backend developer</td>\n",
       "      <td>\"$110,000\"</td>\n",
       "      <td>-</td>\n",
       "    </tr>\n",
       "    <tr>\n",
       "      <th>5</th>\n",
       "      <td>E0004</td>\n",
       "      <td>OSCAR SMİTH</td>\n",
       "      <td>IT</td>\n",
       "      <td>frontend developer</td>\n",
       "      <td>\"$120,000\"</td>\n",
       "      <td>32</td>\n",
       "    </tr>\n",
       "    <tr>\n",
       "      <th>6</th>\n",
       "      <td>E0005</td>\n",
       "      <td>Adrian STAR</td>\n",
       "      <td>IT</td>\n",
       "      <td>data scientist</td>\n",
       "      <td>\"$135,000\"</td>\n",
       "      <td>40</td>\n",
       "    </tr>\n",
       "    <tr>\n",
       "      <th>7</th>\n",
       "      <td>E0006</td>\n",
       "      <td>Albert simon</td>\n",
       "      <td>IT</td>\n",
       "      <td>data scientist</td>\n",
       "      <td>125000dolar</td>\n",
       "      <td>35</td>\n",
       "    </tr>\n",
       "  </tbody>\n",
       "</table>\n",
       "</div>"
      ],
      "text/plain": [
       "      id          staff department                 job       salary age\n",
       "0  M0001       Tom BLUE         HR             manager   \"$150,000\"  52\n",
       "1  M0002     JOHN BLACK         IT             manager   \"$180,000\"  48\n",
       "2  E0001  Micheal Brown         IT      data scientist   \"$150,000\"  35\n",
       "3  E0002   jason walker         HR           recruiter  130000dolar  38\n",
       "4  E0003     Alex Green         IT   backend developer   \"$110,000\"   -\n",
       "5  E0004    OSCAR SMİTH         IT  frontend developer   \"$120,000\"  32\n",
       "6  E0005    Adrian STAR         IT      data scientist   \"$135,000\"  40\n",
       "7  E0006   Albert simon         IT      data scientist  125000dolar  35"
      ]
     },
     "execution_count": 3,
     "metadata": {},
     "output_type": "execute_result"
    }
   ],
   "source": [
    "df = pd.read_excel(\"text_exercise.xlsx\")\n",
    "df"
   ]
  },
  {
   "cell_type": "code",
   "execution_count": 4,
   "metadata": {
    "id": "dBJWHYguAga7",
    "outputId": "9999aabf-3605-477f-b824-89f37c43973a",
    "scrolled": true
   },
   "outputs": [
    {
     "name": "stdout",
     "output_type": "stream",
     "text": [
      "<class 'pandas.core.frame.DataFrame'>\n",
      "RangeIndex: 8 entries, 0 to 7\n",
      "Data columns (total 6 columns):\n",
      " #   Column      Non-Null Count  Dtype \n",
      "---  ------      --------------  ----- \n",
      " 0   id          8 non-null      object\n",
      " 1   staff       8 non-null      object\n",
      " 2   department  8 non-null      object\n",
      " 3   job         8 non-null      object\n",
      " 4   salary      8 non-null      object\n",
      " 5   age         8 non-null      object\n",
      "dtypes: object(6)\n",
      "memory usage: 512.0+ bytes\n"
     ]
    }
   ],
   "source": [
    "df.info()"
   ]
  },
  {
   "cell_type": "code",
   "execution_count": 5,
   "metadata": {
    "id": "BUhHBhCFAga-",
    "outputId": "4b95e343-a785-4c9f-8a74-5a95b437759f"
   },
   "outputs": [
    {
     "data": {
      "text/plain": [
       "0         tom blue\n",
       "1       john black\n",
       "2    micheal brown\n",
       "3     jason walker\n",
       "4       alex green\n",
       "5     oscar smi̇th\n",
       "6      adrian star\n",
       "7     albert simon\n",
       "Name: staff, dtype: object"
      ]
     },
     "execution_count": 5,
     "metadata": {},
     "output_type": "execute_result"
    }
   ],
   "source": [
    "df[\"staff\"].str.lower()"
   ]
  },
  {
   "cell_type": "code",
   "execution_count": 6,
   "metadata": {
    "id": "CE3Nf_EuAgbA",
    "outputId": "9486383e-94a8-4022-92f8-aca418d70728"
   },
   "outputs": [
    {
     "data": {
      "text/plain": [
       "0         TOM BLUE\n",
       "1       JOHN BLACK\n",
       "2    MICHEAL BROWN\n",
       "3     JASON WALKER\n",
       "4       ALEX GREEN\n",
       "5      OSCAR SMİTH\n",
       "6      ADRIAN STAR\n",
       "7     ALBERT SIMON\n",
       "Name: staff, dtype: object"
      ]
     },
     "execution_count": 6,
     "metadata": {},
     "output_type": "execute_result"
    }
   ],
   "source": [
    "df.staff.str.upper()"
   ]
  },
  {
   "cell_type": "code",
   "execution_count": 7,
   "metadata": {
    "id": "zzwpizBNAgbB",
    "outputId": "b0be1851-2959-4984-fdd8-a381322a5748"
   },
   "outputs": [
    {
     "data": {
      "text/plain": [
       "0         Tom Blue\n",
       "1       John Black\n",
       "2    Micheal Brown\n",
       "3     Jason Walker\n",
       "4       Alex Green\n",
       "5     Oscar Smi̇th\n",
       "6      Adrian Star\n",
       "7     Albert Simon\n",
       "Name: staff, dtype: object"
      ]
     },
     "execution_count": 7,
     "metadata": {},
     "output_type": "execute_result"
    }
   ],
   "source": [
    "df.staff.str.title()"
   ]
  },
  {
   "cell_type": "code",
   "execution_count": 8,
   "metadata": {
    "id": "8tUWKQzYAgbC",
    "outputId": "d13b570e-c620-4a04-ad86-71cf6348d018"
   },
   "outputs": [
    {
     "data": {
      "text/plain": [
       "0         Tom blue\n",
       "1       John black\n",
       "2    Micheal brown\n",
       "3     Jason walker\n",
       "4       Alex green\n",
       "5     Oscar smi̇th\n",
       "6      Adrian star\n",
       "7     Albert simon\n",
       "Name: staff, dtype: object"
      ]
     },
     "execution_count": 8,
     "metadata": {},
     "output_type": "execute_result"
    }
   ],
   "source": [
    "df.staff.str.capitalize()"
   ]
  },
  {
   "cell_type": "code",
   "execution_count": 9,
   "metadata": {
    "id": "kg1DdEOEAgbC",
    "outputId": "089a55cb-1eab-49d7-826f-f8fb115feb80"
   },
   "outputs": [
    {
     "data": {
      "text/plain": [
       "0         tOM blue\n",
       "1       john black\n",
       "2    mICHEAL bROWN\n",
       "3     JASON WALKER\n",
       "4       aLEX gREEN\n",
       "5     oscar smi̇th\n",
       "6      aDRIAN star\n",
       "7     aLBERT SIMON\n",
       "Name: staff, dtype: object"
      ]
     },
     "execution_count": 9,
     "metadata": {},
     "output_type": "execute_result"
    }
   ],
   "source": [
    "df.staff.str.swapcase()"
   ]
  },
  {
   "cell_type": "code",
   "execution_count": 10,
   "metadata": {
    "id": "5-gjRh4VAgbE",
    "outputId": "2bd1d413-f3f7-40cf-f713-8ac825b20204"
   },
   "outputs": [
    {
     "data": {
      "text/html": [
       "<div>\n",
       "<style scoped>\n",
       "    .dataframe tbody tr th:only-of-type {\n",
       "        vertical-align: middle;\n",
       "    }\n",
       "\n",
       "    .dataframe tbody tr th {\n",
       "        vertical-align: top;\n",
       "    }\n",
       "\n",
       "    .dataframe thead th {\n",
       "        text-align: right;\n",
       "    }\n",
       "</style>\n",
       "<table border=\"1\" class=\"dataframe\">\n",
       "  <thead>\n",
       "    <tr style=\"text-align: right;\">\n",
       "      <th></th>\n",
       "      <th>id</th>\n",
       "      <th>staff</th>\n",
       "      <th>department</th>\n",
       "      <th>job</th>\n",
       "      <th>salary</th>\n",
       "      <th>age</th>\n",
       "    </tr>\n",
       "  </thead>\n",
       "  <tbody>\n",
       "    <tr>\n",
       "      <th>0</th>\n",
       "      <td>M0001</td>\n",
       "      <td>Tom BLUE</td>\n",
       "      <td>HR</td>\n",
       "      <td>manager</td>\n",
       "      <td>\"$150,000\"</td>\n",
       "      <td>52</td>\n",
       "    </tr>\n",
       "    <tr>\n",
       "      <th>1</th>\n",
       "      <td>M0002</td>\n",
       "      <td>JOHN BLACK</td>\n",
       "      <td>IT</td>\n",
       "      <td>manager</td>\n",
       "      <td>\"$180,000\"</td>\n",
       "      <td>48</td>\n",
       "    </tr>\n",
       "    <tr>\n",
       "      <th>2</th>\n",
       "      <td>E0001</td>\n",
       "      <td>Micheal Brown</td>\n",
       "      <td>IT</td>\n",
       "      <td>data scientist</td>\n",
       "      <td>\"$150,000\"</td>\n",
       "      <td>35</td>\n",
       "    </tr>\n",
       "    <tr>\n",
       "      <th>3</th>\n",
       "      <td>E0002</td>\n",
       "      <td>jason walker</td>\n",
       "      <td>HR</td>\n",
       "      <td>recruiter</td>\n",
       "      <td>130000dolar</td>\n",
       "      <td>38</td>\n",
       "    </tr>\n",
       "    <tr>\n",
       "      <th>4</th>\n",
       "      <td>E0003</td>\n",
       "      <td>Alex Green</td>\n",
       "      <td>IT</td>\n",
       "      <td>backend developer</td>\n",
       "      <td>\"$110,000\"</td>\n",
       "      <td>-</td>\n",
       "    </tr>\n",
       "    <tr>\n",
       "      <th>5</th>\n",
       "      <td>E0004</td>\n",
       "      <td>OSCAR SMİTH</td>\n",
       "      <td>IT</td>\n",
       "      <td>frontend developer</td>\n",
       "      <td>\"$120,000\"</td>\n",
       "      <td>32</td>\n",
       "    </tr>\n",
       "    <tr>\n",
       "      <th>6</th>\n",
       "      <td>E0005</td>\n",
       "      <td>Adrian STAR</td>\n",
       "      <td>IT</td>\n",
       "      <td>data scientist</td>\n",
       "      <td>\"$135,000\"</td>\n",
       "      <td>40</td>\n",
       "    </tr>\n",
       "    <tr>\n",
       "      <th>7</th>\n",
       "      <td>E0006</td>\n",
       "      <td>Albert simon</td>\n",
       "      <td>IT</td>\n",
       "      <td>data scientist</td>\n",
       "      <td>125000dolar</td>\n",
       "      <td>35</td>\n",
       "    </tr>\n",
       "  </tbody>\n",
       "</table>\n",
       "</div>"
      ],
      "text/plain": [
       "      id          staff department                 job       salary age\n",
       "0  M0001       Tom BLUE         HR             manager   \"$150,000\"  52\n",
       "1  M0002     JOHN BLACK         IT             manager   \"$180,000\"  48\n",
       "2  E0001  Micheal Brown         IT      data scientist   \"$150,000\"  35\n",
       "3  E0002   jason walker         HR           recruiter  130000dolar  38\n",
       "4  E0003     Alex Green         IT   backend developer   \"$110,000\"   -\n",
       "5  E0004    OSCAR SMİTH         IT  frontend developer   \"$120,000\"  32\n",
       "6  E0005    Adrian STAR         IT      data scientist   \"$135,000\"  40\n",
       "7  E0006   Albert simon         IT      data scientist  125000dolar  35"
      ]
     },
     "execution_count": 10,
     "metadata": {},
     "output_type": "execute_result"
    }
   ],
   "source": [
    "# Let us remember our df\n",
    "\n",
    "df"
   ]
  },
  {
   "cell_type": "code",
   "execution_count": 11,
   "metadata": {
    "id": "egiL851cAgbF",
    "outputId": "73efa5d3-10c7-478b-d05d-c573bb8fb1be"
   },
   "outputs": [
    {
     "data": {
      "text/plain": [
       "0     True\n",
       "1     True\n",
       "2    False\n",
       "3     True\n",
       "4    False\n",
       "5    False\n",
       "6    False\n",
       "7    False\n",
       "Name: job, dtype: bool"
      ]
     },
     "execution_count": 11,
     "metadata": {},
     "output_type": "execute_result"
    }
   ],
   "source": [
    "df.job.str.isalpha()"
   ]
  },
  {
   "cell_type": "code",
   "execution_count": 12,
   "metadata": {
    "id": "Wf9cUkshAgbG",
    "outputId": "d1ac5e64-79e6-4705-fec9-a9f21f0cbdb8"
   },
   "outputs": [
    {
     "data": {
      "text/plain": [
       "0      NaN\n",
       "1      NaN\n",
       "2      NaN\n",
       "3      NaN\n",
       "4    False\n",
       "5      NaN\n",
       "6      NaN\n",
       "7      NaN\n",
       "Name: age, dtype: object"
      ]
     },
     "execution_count": 12,
     "metadata": {},
     "output_type": "execute_result"
    }
   ],
   "source": [
    "df.age.str.isnumeric()"
   ]
  },
  {
   "cell_type": "code",
   "execution_count": 13,
   "metadata": {
    "id": "nMCQ34HaAgbG",
    "outputId": "6a53cb98-e5d7-42eb-b3a9-623295734a9c"
   },
   "outputs": [
    {
     "data": {
      "text/plain": [
       "0     True\n",
       "1     True\n",
       "2     True\n",
       "3     True\n",
       "4    False\n",
       "5     True\n",
       "6     True\n",
       "7     True\n",
       "Name: age, dtype: boolean"
      ]
     },
     "execution_count": 13,
     "metadata": {},
     "output_type": "execute_result"
    }
   ],
   "source": [
    "df.age.astype(\"string\").str.isnumeric()"
   ]
  },
  {
   "cell_type": "code",
   "execution_count": 14,
   "metadata": {
    "id": "C_nbZSKTAgbH",
    "outputId": "063b60a7-d8af-457a-e2c6-8d5f9f5a6678"
   },
   "outputs": [
    {
     "data": {
      "text/plain": [
       "0    False\n",
       "1    False\n",
       "2    False\n",
       "3     True\n",
       "4    False\n",
       "5    False\n",
       "6    False\n",
       "7     True\n",
       "Name: salary, dtype: bool"
      ]
     },
     "execution_count": 14,
     "metadata": {},
     "output_type": "execute_result"
    }
   ],
   "source": [
    "df.salary.str.isalnum()"
   ]
  },
  {
   "cell_type": "code",
   "execution_count": 15,
   "metadata": {
    "id": "YJA7lu2CAgbH",
    "outputId": "dccdb85a-07af-40bb-d3c5-7b913a2f47b5"
   },
   "outputs": [
    {
     "data": {
      "text/plain": [
       "0    False\n",
       "1    False\n",
       "2     True\n",
       "3    False\n",
       "4    False\n",
       "5    False\n",
       "6     True\n",
       "7     True\n",
       "Name: job, dtype: bool"
      ]
     },
     "execution_count": 15,
     "metadata": {},
     "output_type": "execute_result"
    }
   ],
   "source": [
    "df.job.str.startswith(\"d\")"
   ]
  },
  {
   "cell_type": "code",
   "execution_count": 16,
   "metadata": {
    "id": "Ut-kacTIAgbH",
    "outputId": "9f73090b-5b06-44b8-b771-f657fcbc9d08"
   },
   "outputs": [
    {
     "data": {
      "text/plain": [
       "0    False\n",
       "1    False\n",
       "2    False\n",
       "3    False\n",
       "4     True\n",
       "5     True\n",
       "6    False\n",
       "7    False\n",
       "Name: job, dtype: bool"
      ]
     },
     "execution_count": 16,
     "metadata": {},
     "output_type": "execute_result"
    }
   ],
   "source": [
    "df.job.str.endswith(\"per\")"
   ]
  },
  {
   "cell_type": "code",
   "execution_count": 17,
   "metadata": {
    "id": "Dh18m0YUAgbI",
    "outputId": "a712bf27-9b25-4132-9279-1aec4e1efdce"
   },
   "outputs": [
    {
     "data": {
      "text/plain": [
       "0    False\n",
       "1    False\n",
       "2     True\n",
       "3    False\n",
       "4    False\n",
       "5    False\n",
       "6     True\n",
       "7     True\n",
       "Name: job, dtype: bool"
      ]
     },
     "execution_count": 17,
     "metadata": {},
     "output_type": "execute_result"
    }
   ],
   "source": [
    "df.job.str.contains(\"data\")"
   ]
  },
  {
   "cell_type": "code",
   "execution_count": 18,
   "metadata": {
    "id": "OJmmKZf-AgbI",
    "outputId": "f327b727-9569-4889-e371-c3991025b416"
   },
   "outputs": [
    {
     "data": {
      "text/plain": [
       "0    False\n",
       "1    False\n",
       "2    False\n",
       "3     True\n",
       "4    False\n",
       "5    False\n",
       "6    False\n",
       "7     True\n",
       "Name: salary, dtype: bool"
      ]
     },
     "execution_count": 18,
     "metadata": {},
     "output_type": "execute_result"
    }
   ],
   "source": [
    "df.salary.str.contains(\"[a-z]+\")"
   ]
  },
  {
   "cell_type": "code",
   "execution_count": 19,
   "metadata": {
    "id": "xuQadChjAgbJ",
    "outputId": "30b57947-1784-4505-e797-b59ddc0290c9"
   },
   "outputs": [
    {
     "data": {
      "text/html": [
       "<div>\n",
       "<style scoped>\n",
       "    .dataframe tbody tr th:only-of-type {\n",
       "        vertical-align: middle;\n",
       "    }\n",
       "\n",
       "    .dataframe tbody tr th {\n",
       "        vertical-align: top;\n",
       "    }\n",
       "\n",
       "    .dataframe thead th {\n",
       "        text-align: right;\n",
       "    }\n",
       "</style>\n",
       "<table border=\"1\" class=\"dataframe\">\n",
       "  <thead>\n",
       "    <tr style=\"text-align: right;\">\n",
       "      <th></th>\n",
       "      <th>id</th>\n",
       "      <th>staff</th>\n",
       "      <th>department</th>\n",
       "      <th>job</th>\n",
       "      <th>salary</th>\n",
       "      <th>age</th>\n",
       "    </tr>\n",
       "  </thead>\n",
       "  <tbody>\n",
       "    <tr>\n",
       "      <th>2</th>\n",
       "      <td>E0001</td>\n",
       "      <td>Micheal Brown</td>\n",
       "      <td>IT</td>\n",
       "      <td>data scientist</td>\n",
       "      <td>\"$150,000\"</td>\n",
       "      <td>35</td>\n",
       "    </tr>\n",
       "    <tr>\n",
       "      <th>6</th>\n",
       "      <td>E0005</td>\n",
       "      <td>Adrian STAR</td>\n",
       "      <td>IT</td>\n",
       "      <td>data scientist</td>\n",
       "      <td>\"$135,000\"</td>\n",
       "      <td>40</td>\n",
       "    </tr>\n",
       "    <tr>\n",
       "      <th>7</th>\n",
       "      <td>E0006</td>\n",
       "      <td>Albert simon</td>\n",
       "      <td>IT</td>\n",
       "      <td>data scientist</td>\n",
       "      <td>125000dolar</td>\n",
       "      <td>35</td>\n",
       "    </tr>\n",
       "  </tbody>\n",
       "</table>\n",
       "</div>"
      ],
      "text/plain": [
       "      id          staff department             job       salary age\n",
       "2  E0001  Micheal Brown         IT  data scientist   \"$150,000\"  35\n",
       "6  E0005    Adrian STAR         IT  data scientist   \"$135,000\"  40\n",
       "7  E0006   Albert simon         IT  data scientist  125000dolar  35"
      ]
     },
     "execution_count": 19,
     "metadata": {},
     "output_type": "execute_result"
    }
   ],
   "source": [
    "df[df.job.str.contains(\"data\")]"
   ]
  },
  {
   "cell_type": "code",
   "execution_count": 20,
   "metadata": {
    "id": "qXgaQUNiAgbJ",
    "outputId": "758be3e4-73c5-433c-929e-c1891a3f2bfa"
   },
   "outputs": [
    {
     "data": {
      "text/plain": [
       "2    IT\n",
       "6    IT\n",
       "7    IT\n",
       "Name: department, dtype: object"
      ]
     },
     "execution_count": 20,
     "metadata": {},
     "output_type": "execute_result"
    }
   ],
   "source": [
    "df.loc[df.job.str.contains(\"data\"), \"department\"]"
   ]
  },
  {
   "cell_type": "code",
   "execution_count": 21,
   "metadata": {
    "id": "ZYQ1qHBUAgbJ",
    "outputId": "7ad73dc6-1dc1-449a-88f4-2e5f852c79d5"
   },
   "outputs": [
    {
     "data": {
      "text/html": [
       "<div>\n",
       "<style scoped>\n",
       "    .dataframe tbody tr th:only-of-type {\n",
       "        vertical-align: middle;\n",
       "    }\n",
       "\n",
       "    .dataframe tbody tr th {\n",
       "        vertical-align: top;\n",
       "    }\n",
       "\n",
       "    .dataframe thead th {\n",
       "        text-align: right;\n",
       "    }\n",
       "</style>\n",
       "<table border=\"1\" class=\"dataframe\">\n",
       "  <thead>\n",
       "    <tr style=\"text-align: right;\">\n",
       "      <th></th>\n",
       "      <th>id</th>\n",
       "      <th>staff</th>\n",
       "      <th>department</th>\n",
       "      <th>job</th>\n",
       "      <th>salary</th>\n",
       "      <th>age</th>\n",
       "    </tr>\n",
       "  </thead>\n",
       "  <tbody>\n",
       "    <tr>\n",
       "      <th>0</th>\n",
       "      <td>M0001</td>\n",
       "      <td>Tom BLUE</td>\n",
       "      <td>HR</td>\n",
       "      <td>manager</td>\n",
       "      <td>\"$150,000\"</td>\n",
       "      <td>52</td>\n",
       "    </tr>\n",
       "    <tr>\n",
       "      <th>1</th>\n",
       "      <td>M0002</td>\n",
       "      <td>JOHN BLACK</td>\n",
       "      <td>IT</td>\n",
       "      <td>manager</td>\n",
       "      <td>\"$180,000\"</td>\n",
       "      <td>48</td>\n",
       "    </tr>\n",
       "    <tr>\n",
       "      <th>2</th>\n",
       "      <td>E0001</td>\n",
       "      <td>Micheal Brown</td>\n",
       "      <td>DS</td>\n",
       "      <td>data scientist</td>\n",
       "      <td>\"$150,000\"</td>\n",
       "      <td>35</td>\n",
       "    </tr>\n",
       "    <tr>\n",
       "      <th>3</th>\n",
       "      <td>E0002</td>\n",
       "      <td>jason walker</td>\n",
       "      <td>HR</td>\n",
       "      <td>recruiter</td>\n",
       "      <td>130000dolar</td>\n",
       "      <td>38</td>\n",
       "    </tr>\n",
       "    <tr>\n",
       "      <th>4</th>\n",
       "      <td>E0003</td>\n",
       "      <td>Alex Green</td>\n",
       "      <td>IT</td>\n",
       "      <td>backend developer</td>\n",
       "      <td>\"$110,000\"</td>\n",
       "      <td>-</td>\n",
       "    </tr>\n",
       "    <tr>\n",
       "      <th>5</th>\n",
       "      <td>E0004</td>\n",
       "      <td>OSCAR SMİTH</td>\n",
       "      <td>IT</td>\n",
       "      <td>frontend developer</td>\n",
       "      <td>\"$120,000\"</td>\n",
       "      <td>32</td>\n",
       "    </tr>\n",
       "    <tr>\n",
       "      <th>6</th>\n",
       "      <td>E0005</td>\n",
       "      <td>Adrian STAR</td>\n",
       "      <td>DS</td>\n",
       "      <td>data scientist</td>\n",
       "      <td>\"$135,000\"</td>\n",
       "      <td>40</td>\n",
       "    </tr>\n",
       "    <tr>\n",
       "      <th>7</th>\n",
       "      <td>E0006</td>\n",
       "      <td>Albert simon</td>\n",
       "      <td>DS</td>\n",
       "      <td>data scientist</td>\n",
       "      <td>125000dolar</td>\n",
       "      <td>35</td>\n",
       "    </tr>\n",
       "  </tbody>\n",
       "</table>\n",
       "</div>"
      ],
      "text/plain": [
       "      id          staff department                 job       salary age\n",
       "0  M0001       Tom BLUE         HR             manager   \"$150,000\"  52\n",
       "1  M0002     JOHN BLACK         IT             manager   \"$180,000\"  48\n",
       "2  E0001  Micheal Brown         DS      data scientist   \"$150,000\"  35\n",
       "3  E0002   jason walker         HR           recruiter  130000dolar  38\n",
       "4  E0003     Alex Green         IT   backend developer   \"$110,000\"   -\n",
       "5  E0004    OSCAR SMİTH         IT  frontend developer   \"$120,000\"  32\n",
       "6  E0005    Adrian STAR         DS      data scientist   \"$135,000\"  40\n",
       "7  E0006   Albert simon         DS      data scientist  125000dolar  35"
      ]
     },
     "execution_count": 21,
     "metadata": {},
     "output_type": "execute_result"
    }
   ],
   "source": [
    "df.loc[df.job.str.contains(\"data\"), \"department\"] = \"DS\"\n",
    "df"
   ]
  },
  {
   "cell_type": "code",
   "execution_count": 22,
   "metadata": {
    "id": "3HvLsGnvAgbK",
    "outputId": "9b3ce444-3495-4cfb-a639-d0ec3aa20896"
   },
   "outputs": [
    {
     "data": {
      "text/html": [
       "<div>\n",
       "<style scoped>\n",
       "    .dataframe tbody tr th:only-of-type {\n",
       "        vertical-align: middle;\n",
       "    }\n",
       "\n",
       "    .dataframe tbody tr th {\n",
       "        vertical-align: top;\n",
       "    }\n",
       "\n",
       "    .dataframe thead th {\n",
       "        text-align: right;\n",
       "    }\n",
       "</style>\n",
       "<table border=\"1\" class=\"dataframe\">\n",
       "  <thead>\n",
       "    <tr style=\"text-align: right;\">\n",
       "      <th></th>\n",
       "      <th>id</th>\n",
       "      <th>staff</th>\n",
       "      <th>department</th>\n",
       "      <th>job</th>\n",
       "      <th>salary</th>\n",
       "      <th>age</th>\n",
       "    </tr>\n",
       "  </thead>\n",
       "  <tbody>\n",
       "    <tr>\n",
       "      <th>0</th>\n",
       "      <td>M0001</td>\n",
       "      <td>Tom BLUE</td>\n",
       "      <td>HR</td>\n",
       "      <td>manager</td>\n",
       "      <td>\"$150,000\"</td>\n",
       "      <td>52</td>\n",
       "    </tr>\n",
       "    <tr>\n",
       "      <th>1</th>\n",
       "      <td>M0002</td>\n",
       "      <td>JOHN BLACK</td>\n",
       "      <td>IT</td>\n",
       "      <td>manager</td>\n",
       "      <td>\"$180,000\"</td>\n",
       "      <td>48</td>\n",
       "    </tr>\n",
       "    <tr>\n",
       "      <th>2</th>\n",
       "      <td>E0001</td>\n",
       "      <td>Micheal Brown</td>\n",
       "      <td>IT</td>\n",
       "      <td>data scientist</td>\n",
       "      <td>\"$150,000\"</td>\n",
       "      <td>35</td>\n",
       "    </tr>\n",
       "    <tr>\n",
       "      <th>3</th>\n",
       "      <td>E0002</td>\n",
       "      <td>jason walker</td>\n",
       "      <td>HR</td>\n",
       "      <td>recruiter</td>\n",
       "      <td>130000dolar</td>\n",
       "      <td>38</td>\n",
       "    </tr>\n",
       "    <tr>\n",
       "      <th>4</th>\n",
       "      <td>E0003</td>\n",
       "      <td>Alex Green</td>\n",
       "      <td>IT</td>\n",
       "      <td>backend developer</td>\n",
       "      <td>\"$110,000\"</td>\n",
       "      <td>-</td>\n",
       "    </tr>\n",
       "    <tr>\n",
       "      <th>5</th>\n",
       "      <td>E0004</td>\n",
       "      <td>OSCAR SMİTH</td>\n",
       "      <td>IT</td>\n",
       "      <td>frontend developer</td>\n",
       "      <td>\"$120,000\"</td>\n",
       "      <td>32</td>\n",
       "    </tr>\n",
       "    <tr>\n",
       "      <th>6</th>\n",
       "      <td>E0005</td>\n",
       "      <td>Adrian STAR</td>\n",
       "      <td>IT</td>\n",
       "      <td>data scientist</td>\n",
       "      <td>\"$135,000\"</td>\n",
       "      <td>40</td>\n",
       "    </tr>\n",
       "    <tr>\n",
       "      <th>7</th>\n",
       "      <td>E0006</td>\n",
       "      <td>Albert simon</td>\n",
       "      <td>IT</td>\n",
       "      <td>data scientist</td>\n",
       "      <td>125000dolar</td>\n",
       "      <td>35</td>\n",
       "    </tr>\n",
       "  </tbody>\n",
       "</table>\n",
       "</div>"
      ],
      "text/plain": [
       "      id          staff department                 job       salary age\n",
       "0  M0001       Tom BLUE         HR             manager   \"$150,000\"  52\n",
       "1  M0002     JOHN BLACK         IT             manager   \"$180,000\"  48\n",
       "2  E0001  Micheal Brown         IT      data scientist   \"$150,000\"  35\n",
       "3  E0002   jason walker         HR           recruiter  130000dolar  38\n",
       "4  E0003     Alex Green         IT   backend developer   \"$110,000\"   -\n",
       "5  E0004    OSCAR SMİTH         IT  frontend developer   \"$120,000\"  32\n",
       "6  E0005    Adrian STAR         IT      data scientist   \"$135,000\"  40\n",
       "7  E0006   Albert simon         IT      data scientist  125000dolar  35"
      ]
     },
     "execution_count": 22,
     "metadata": {},
     "output_type": "execute_result"
    }
   ],
   "source": [
    "df.loc[df.job.str.contains(\"data\"), \"department\"] = \"IT\"\n",
    "df"
   ]
  },
  {
   "cell_type": "code",
   "execution_count": 23,
   "metadata": {
    "id": "Shci_JTXAgbL",
    "outputId": "d93af8e8-5d24-4973-8d6d-ad449e47993f"
   },
   "outputs": [
    {
     "data": {
      "text/html": [
       "<div>\n",
       "<style scoped>\n",
       "    .dataframe tbody tr th:only-of-type {\n",
       "        vertical-align: middle;\n",
       "    }\n",
       "\n",
       "    .dataframe tbody tr th {\n",
       "        vertical-align: top;\n",
       "    }\n",
       "\n",
       "    .dataframe thead th {\n",
       "        text-align: right;\n",
       "    }\n",
       "</style>\n",
       "<table border=\"1\" class=\"dataframe\">\n",
       "  <thead>\n",
       "    <tr style=\"text-align: right;\">\n",
       "      <th></th>\n",
       "      <th>id</th>\n",
       "      <th>staff</th>\n",
       "      <th>department</th>\n",
       "      <th>job</th>\n",
       "      <th>salary</th>\n",
       "      <th>age</th>\n",
       "    </tr>\n",
       "  </thead>\n",
       "  <tbody>\n",
       "    <tr>\n",
       "      <th>0</th>\n",
       "      <td>M0001</td>\n",
       "      <td>Tom BLUE</td>\n",
       "      <td>HR</td>\n",
       "      <td>manager</td>\n",
       "      <td>\"$150,000\"</td>\n",
       "      <td>52</td>\n",
       "    </tr>\n",
       "    <tr>\n",
       "      <th>1</th>\n",
       "      <td>M0002</td>\n",
       "      <td>JOHN BLACK</td>\n",
       "      <td>IT</td>\n",
       "      <td>manager</td>\n",
       "      <td>\"$180,000\"</td>\n",
       "      <td>48</td>\n",
       "    </tr>\n",
       "    <tr>\n",
       "      <th>2</th>\n",
       "      <td>E0001</td>\n",
       "      <td>Micheal Brown</td>\n",
       "      <td>IT</td>\n",
       "      <td>data scientist</td>\n",
       "      <td>\"$150,000\"</td>\n",
       "      <td>35</td>\n",
       "    </tr>\n",
       "    <tr>\n",
       "      <th>3</th>\n",
       "      <td>E0002</td>\n",
       "      <td>jason walker</td>\n",
       "      <td>HR</td>\n",
       "      <td>recruiter</td>\n",
       "      <td>130000dolar</td>\n",
       "      <td>38</td>\n",
       "    </tr>\n",
       "    <tr>\n",
       "      <th>4</th>\n",
       "      <td>E0003</td>\n",
       "      <td>Alex Green</td>\n",
       "      <td>IT</td>\n",
       "      <td>backend developer</td>\n",
       "      <td>\"$110,000\"</td>\n",
       "      <td>-</td>\n",
       "    </tr>\n",
       "    <tr>\n",
       "      <th>5</th>\n",
       "      <td>E0004</td>\n",
       "      <td>OSCAR SMİTH</td>\n",
       "      <td>IT</td>\n",
       "      <td>frontend developer</td>\n",
       "      <td>\"$120,000\"</td>\n",
       "      <td>32</td>\n",
       "    </tr>\n",
       "    <tr>\n",
       "      <th>6</th>\n",
       "      <td>E0005</td>\n",
       "      <td>Adrian STAR</td>\n",
       "      <td>IT</td>\n",
       "      <td>data scientist</td>\n",
       "      <td>\"$135,000\"</td>\n",
       "      <td>40</td>\n",
       "    </tr>\n",
       "    <tr>\n",
       "      <th>7</th>\n",
       "      <td>E0006</td>\n",
       "      <td>Albert simon</td>\n",
       "      <td>IT</td>\n",
       "      <td>data scientist</td>\n",
       "      <td>125000dolar</td>\n",
       "      <td>35</td>\n",
       "    </tr>\n",
       "  </tbody>\n",
       "</table>\n",
       "</div>"
      ],
      "text/plain": [
       "      id          staff department                 job       salary age\n",
       "0  M0001       Tom BLUE         HR             manager   \"$150,000\"  52\n",
       "1  M0002     JOHN BLACK         IT             manager   \"$180,000\"  48\n",
       "2  E0001  Micheal Brown         IT      data scientist   \"$150,000\"  35\n",
       "3  E0002   jason walker         HR           recruiter  130000dolar  38\n",
       "4  E0003     Alex Green         IT   backend developer   \"$110,000\"   -\n",
       "5  E0004    OSCAR SMİTH         IT  frontend developer   \"$120,000\"  32\n",
       "6  E0005    Adrian STAR         IT      data scientist   \"$135,000\"  40\n",
       "7  E0006   Albert simon         IT      data scientist  125000dolar  35"
      ]
     },
     "execution_count": 23,
     "metadata": {},
     "output_type": "execute_result"
    }
   ],
   "source": [
    "# Let's remember our df\n",
    "\n",
    "df"
   ]
  },
  {
   "cell_type": "code",
   "execution_count": 24,
   "metadata": {
    "id": "qXYbASxLAgbL",
    "outputId": "8f8c406e-2bd0-4166-fb9f-78185788e923"
   },
   "outputs": [
    {
     "data": {
      "text/plain": [
       "0       $150,000\n",
       "1       $180,000\n",
       "2       $150,000\n",
       "3    130000dolar\n",
       "4       $110,000\n",
       "5       $120,000\n",
       "6       $135,000\n",
       "7    125000dolar\n",
       "Name: salary, dtype: object"
      ]
     },
     "execution_count": 24,
     "metadata": {},
     "output_type": "execute_result"
    }
   ],
   "source": [
    "df.salary.str.strip(\"\\\"\")"
   ]
  },
  {
   "cell_type": "code",
   "execution_count": 25,
   "metadata": {},
   "outputs": [
    {
     "data": {
      "text/plain": [
       "0       $150,000\n",
       "1       $180,000\n",
       "2       $150,000\n",
       "3    130000dolar\n",
       "4       $110,000\n",
       "5       $120,000\n",
       "6       $135,000\n",
       "7    125000dolar\n",
       "Name: salary, dtype: object"
      ]
     },
     "execution_count": 25,
     "metadata": {},
     "output_type": "execute_result"
    }
   ],
   "source": [
    "df.salary.str.strip('\"')"
   ]
  },
  {
   "cell_type": "code",
   "execution_count": 26,
   "metadata": {
    "id": "Vv7_JyG0AgbL",
    "outputId": "b51ac2da-0ffa-46e1-c809-feeb1955adb9"
   },
   "outputs": [
    {
     "data": {
      "text/plain": [
       "0    $150,000\n",
       "1    $180,000\n",
       "2    $150,000\n",
       "3      130000\n",
       "4    $110,000\n",
       "5    $120,000\n",
       "6    $135,000\n",
       "7      125000\n",
       "Name: salary, dtype: object"
      ]
     },
     "execution_count": 26,
     "metadata": {},
     "output_type": "execute_result"
    }
   ],
   "source": [
    "df.salary.str.strip(\"\\\"\").str.rstrip(\"dolar\")"
   ]
  },
  {
   "cell_type": "code",
   "execution_count": 27,
   "metadata": {
    "id": "vSx0SfYiAgbM",
    "outputId": "5ea4d19c-ca5d-48ff-81e5-ac839abf17b1"
   },
   "outputs": [
    {
     "data": {
      "text/plain": [
       "0    150,000\n",
       "1    180,000\n",
       "2    150,000\n",
       "3     130000\n",
       "4    110,000\n",
       "5    120,000\n",
       "6    135,000\n",
       "7     125000\n",
       "Name: salary, dtype: object"
      ]
     },
     "execution_count": 27,
     "metadata": {},
     "output_type": "execute_result"
    }
   ],
   "source": [
    "df.salary.str.strip(\"\\\"\").str.rstrip(\"dolar\").str.lstrip(\"$\")"
   ]
  },
  {
   "cell_type": "code",
   "execution_count": 28,
   "metadata": {
    "id": "9Fx1llkwAgbM",
    "outputId": "2fa29efa-64fe-4215-c65f-10df823c59d4"
   },
   "outputs": [
    {
     "data": {
      "text/plain": [
       "0    150,000\n",
       "1    180,000\n",
       "2    150,000\n",
       "3     130000\n",
       "4    110,000\n",
       "5    120,000\n",
       "6    135,000\n",
       "7     125000\n",
       "Name: salary, dtype: object"
      ]
     },
     "execution_count": 28,
     "metadata": {},
     "output_type": "execute_result"
    }
   ],
   "source": [
    "df.salary.str.strip(\"\\\"dolar$\")"
   ]
  },
  {
   "cell_type": "code",
   "execution_count": 29,
   "metadata": {
    "id": "Nky2zsCAAgbM",
    "outputId": "4d1ea786-05d4-4cc6-b9ba-75a5263edb97"
   },
   "outputs": [
    {
     "data": {
      "text/plain": [
       "0    150000\n",
       "1    180000\n",
       "2    150000\n",
       "3    130000\n",
       "4    110000\n",
       "5    120000\n",
       "6    135000\n",
       "7    125000\n",
       "Name: salary, dtype: object"
      ]
     },
     "execution_count": 29,
     "metadata": {},
     "output_type": "execute_result"
    }
   ],
   "source": [
    "df.salary.str.strip(\"\\\"dolar$\").str.replace(\",\", \"\")\n",
    "\n",
    "#df.salary.str.strip(\"\\\"dolar$\").replace(\",\", \"\") # \"replace\" method without \"str\" seeks specified character/characters as a full match"
   ]
  },
  {
   "cell_type": "code",
   "execution_count": 30,
   "metadata": {
    "id": "ESsvD7UVAgbN",
    "outputId": "e51efb46-545f-41d6-f18d-04509875c851"
   },
   "outputs": [
    {
     "data": {
      "text/plain": [
       "0    150000.0\n",
       "1    180000.0\n",
       "2    150000.0\n",
       "3    130000.0\n",
       "4    110000.0\n",
       "5    120000.0\n",
       "6    135000.0\n",
       "7    125000.0\n",
       "Name: salary, dtype: float64"
      ]
     },
     "execution_count": 30,
     "metadata": {},
     "output_type": "execute_result"
    }
   ],
   "source": [
    "df.salary.str.strip(\"\\\"dolar$\").str.replace(\",\", \"\").astype(float)"
   ]
  },
  {
   "cell_type": "code",
   "execution_count": 31,
   "metadata": {
    "id": "lkmi659KAgbN",
    "outputId": "a6bdc771-3aca-4d59-8a6b-3c0b2f4f42da"
   },
   "outputs": [
    {
     "data": {
      "text/plain": [
       "0    150000.0\n",
       "1    180000.0\n",
       "2    150000.0\n",
       "3    130000.0\n",
       "4    110000.0\n",
       "5    120000.0\n",
       "6    135000.0\n",
       "7    125000.0\n",
       "Name: salary, dtype: float64"
      ]
     },
     "execution_count": 31,
     "metadata": {},
     "output_type": "execute_result"
    }
   ],
   "source": [
    "df[\"salary\"] = df.salary.str.strip(\"\\\"dolar$\").str.replace(\",\", \"\").astype(float)\n",
    "df.salary"
   ]
  },
  {
   "cell_type": "code",
   "execution_count": 32,
   "metadata": {
    "id": "EfuopQ65AgbN",
    "outputId": "48bfdc82-c4e5-4c2f-834c-5a479a35d1d2"
   },
   "outputs": [
    {
     "data": {
      "text/plain": [
       "0    52\n",
       "1    48\n",
       "2    35\n",
       "3    38\n",
       "4     -\n",
       "5    32\n",
       "6    40\n",
       "7    35\n",
       "Name: age, dtype: object"
      ]
     },
     "execution_count": 32,
     "metadata": {},
     "output_type": "execute_result"
    }
   ],
   "source": [
    "df.age"
   ]
  },
  {
   "cell_type": "code",
   "execution_count": 33,
   "metadata": {},
   "outputs": [
    {
     "name": "stdout",
     "output_type": "stream",
     "text": [
      "object\n",
      "<class 'int'>\n",
      "<class 'str'>\n"
     ]
    }
   ],
   "source": [
    "print(df.age.dtype)\n",
    "print(type(df.age[0]))\n",
    "print(type(df.age[4]))\n",
    "\n",
    "# print(df.age.dtype, type(df.age[0]), type(df.age[4]))"
   ]
  },
  {
   "cell_type": "code",
   "execution_count": 34,
   "metadata": {
    "id": "btqy2XNGAgbN",
    "outputId": "4e8ad7ba-6741-4cd8-e8ff-80be746783c2"
   },
   "outputs": [
    {
     "data": {
      "text/plain": [
       "0    52.0\n",
       "1    48.0\n",
       "2    35.0\n",
       "3    38.0\n",
       "4     NaN\n",
       "5    32.0\n",
       "6    40.0\n",
       "7    35.0\n",
       "Name: age, dtype: float64"
      ]
     },
     "execution_count": 34,
     "metadata": {},
     "output_type": "execute_result"
    }
   ],
   "source": [
    "df.age.replace(\"-\", np.nan)\n",
    "\n",
    "#df.age.str.replace(\"-\", np.nan) # gives an error"
   ]
  },
  {
   "cell_type": "code",
   "execution_count": 35,
   "metadata": {
    "id": "GIuOmW6CAgbO",
    "outputId": "8df50331-2f17-4937-9472-a730786b32e7"
   },
   "outputs": [
    {
     "data": {
      "text/plain": [
       "0    52.0\n",
       "1    48.0\n",
       "2    35.0\n",
       "3    38.0\n",
       "4     NaN\n",
       "5    32.0\n",
       "6    40.0\n",
       "7    35.0\n",
       "Name: age, dtype: float64"
      ]
     },
     "execution_count": 35,
     "metadata": {},
     "output_type": "execute_result"
    }
   ],
   "source": [
    "df[\"age\"] = df.age.replace(\"-\", np.nan)\n",
    "df.age"
   ]
  },
  {
   "cell_type": "code",
   "execution_count": 36,
   "metadata": {
    "id": "Vj2uh1NrAgbO",
    "outputId": "897f6315-ae11-49da-92b6-55daf3d3f17e"
   },
   "outputs": [
    {
     "data": {
      "text/plain": [
       "0         Tom BLUE\n",
       "1       JOHN BLACK\n",
       "2    Micheal Brown\n",
       "3     jason walker\n",
       "4       Alex Green\n",
       "5      OSCAR SMİTH\n",
       "6      Adrian STAR\n",
       "7     Albert simon\n",
       "Name: staff, dtype: object"
      ]
     },
     "execution_count": 36,
     "metadata": {},
     "output_type": "execute_result"
    }
   ],
   "source": [
    "df.staff"
   ]
  },
  {
   "cell_type": "code",
   "execution_count": 37,
   "metadata": {
    "id": "XtyT480_AgbP",
    "outputId": "e3dec857-d4ed-4e4f-f0fd-60c2da609ee8"
   },
   "outputs": [
    {
     "data": {
      "text/plain": [
       "0        Tom\n",
       "1       John\n",
       "2    Micheal\n",
       "3      Jason\n",
       "4       Alex\n",
       "5      Oscar\n",
       "6     Adrian\n",
       "7     Albert\n",
       "Name: staff, dtype: object"
      ]
     },
     "execution_count": 37,
     "metadata": {},
     "output_type": "execute_result"
    }
   ],
   "source": [
    "df.staff.str.title().str.split().str[0]\n",
    "\n",
    "df.staff.str.title().str.split().str.get(0)"
   ]
  },
  {
   "cell_type": "code",
   "execution_count": 38,
   "metadata": {
    "id": "XZhRme4_AgbP"
   },
   "outputs": [],
   "source": [
    "df[\"first_name\"] = df.staff.str.title().str.split().str[0]\n",
    "df[\"last_name\"] = df.staff.str.title().str.split().str[1]\n",
    "df.drop(\"staff\", axis=1, inplace=True)"
   ]
  },
  {
   "cell_type": "code",
   "execution_count": 39,
   "metadata": {
    "id": "jpCVoWfrAgbP",
    "outputId": "3fca84a0-34ed-4900-fa04-9652e527f862"
   },
   "outputs": [
    {
     "data": {
      "text/html": [
       "<div>\n",
       "<style scoped>\n",
       "    .dataframe tbody tr th:only-of-type {\n",
       "        vertical-align: middle;\n",
       "    }\n",
       "\n",
       "    .dataframe tbody tr th {\n",
       "        vertical-align: top;\n",
       "    }\n",
       "\n",
       "    .dataframe thead th {\n",
       "        text-align: right;\n",
       "    }\n",
       "</style>\n",
       "<table border=\"1\" class=\"dataframe\">\n",
       "  <thead>\n",
       "    <tr style=\"text-align: right;\">\n",
       "      <th></th>\n",
       "      <th>id</th>\n",
       "      <th>department</th>\n",
       "      <th>job</th>\n",
       "      <th>salary</th>\n",
       "      <th>age</th>\n",
       "      <th>first_name</th>\n",
       "      <th>last_name</th>\n",
       "    </tr>\n",
       "  </thead>\n",
       "  <tbody>\n",
       "    <tr>\n",
       "      <th>0</th>\n",
       "      <td>M0001</td>\n",
       "      <td>HR</td>\n",
       "      <td>manager</td>\n",
       "      <td>150000.0</td>\n",
       "      <td>52.0</td>\n",
       "      <td>Tom</td>\n",
       "      <td>Blue</td>\n",
       "    </tr>\n",
       "    <tr>\n",
       "      <th>1</th>\n",
       "      <td>M0002</td>\n",
       "      <td>IT</td>\n",
       "      <td>manager</td>\n",
       "      <td>180000.0</td>\n",
       "      <td>48.0</td>\n",
       "      <td>John</td>\n",
       "      <td>Black</td>\n",
       "    </tr>\n",
       "    <tr>\n",
       "      <th>2</th>\n",
       "      <td>E0001</td>\n",
       "      <td>IT</td>\n",
       "      <td>data scientist</td>\n",
       "      <td>150000.0</td>\n",
       "      <td>35.0</td>\n",
       "      <td>Micheal</td>\n",
       "      <td>Brown</td>\n",
       "    </tr>\n",
       "    <tr>\n",
       "      <th>3</th>\n",
       "      <td>E0002</td>\n",
       "      <td>HR</td>\n",
       "      <td>recruiter</td>\n",
       "      <td>130000.0</td>\n",
       "      <td>38.0</td>\n",
       "      <td>Jason</td>\n",
       "      <td>Walker</td>\n",
       "    </tr>\n",
       "    <tr>\n",
       "      <th>4</th>\n",
       "      <td>E0003</td>\n",
       "      <td>IT</td>\n",
       "      <td>backend developer</td>\n",
       "      <td>110000.0</td>\n",
       "      <td>NaN</td>\n",
       "      <td>Alex</td>\n",
       "      <td>Green</td>\n",
       "    </tr>\n",
       "    <tr>\n",
       "      <th>5</th>\n",
       "      <td>E0004</td>\n",
       "      <td>IT</td>\n",
       "      <td>frontend developer</td>\n",
       "      <td>120000.0</td>\n",
       "      <td>32.0</td>\n",
       "      <td>Oscar</td>\n",
       "      <td>Smi̇th</td>\n",
       "    </tr>\n",
       "    <tr>\n",
       "      <th>6</th>\n",
       "      <td>E0005</td>\n",
       "      <td>IT</td>\n",
       "      <td>data scientist</td>\n",
       "      <td>135000.0</td>\n",
       "      <td>40.0</td>\n",
       "      <td>Adrian</td>\n",
       "      <td>Star</td>\n",
       "    </tr>\n",
       "    <tr>\n",
       "      <th>7</th>\n",
       "      <td>E0006</td>\n",
       "      <td>IT</td>\n",
       "      <td>data scientist</td>\n",
       "      <td>125000.0</td>\n",
       "      <td>35.0</td>\n",
       "      <td>Albert</td>\n",
       "      <td>Simon</td>\n",
       "    </tr>\n",
       "  </tbody>\n",
       "</table>\n",
       "</div>"
      ],
      "text/plain": [
       "      id department                 job    salary   age first_name last_name\n",
       "0  M0001         HR             manager  150000.0  52.0        Tom      Blue\n",
       "1  M0002         IT             manager  180000.0  48.0       John     Black\n",
       "2  E0001         IT      data scientist  150000.0  35.0    Micheal     Brown\n",
       "3  E0002         HR           recruiter  130000.0  38.0      Jason    Walker\n",
       "4  E0003         IT   backend developer  110000.0   NaN       Alex     Green\n",
       "5  E0004         IT  frontend developer  120000.0  32.0      Oscar    Smi̇th\n",
       "6  E0005         IT      data scientist  135000.0  40.0     Adrian      Star\n",
       "7  E0006         IT      data scientist  125000.0  35.0     Albert     Simon"
      ]
     },
     "execution_count": 39,
     "metadata": {},
     "output_type": "execute_result"
    }
   ],
   "source": [
    "df"
   ]
  },
  {
   "cell_type": "code",
   "execution_count": 40,
   "metadata": {
    "id": "L92RYYQFAgbP",
    "outputId": "e0918aaa-0840-46e1-8661-579f2cad9efe"
   },
   "outputs": [
    {
     "data": {
      "text/plain": [
       "0               manager\n",
       "1               manager\n",
       "2        data scientist\n",
       "3             recruiter\n",
       "4     backend developer\n",
       "5    frontend developer\n",
       "6        data scientist\n",
       "7        data scientist\n",
       "Name: job, dtype: object"
      ]
     },
     "execution_count": 40,
     "metadata": {},
     "output_type": "execute_result"
    }
   ],
   "source": [
    "df.job"
   ]
  },
  {
   "cell_type": "code",
   "execution_count": 41,
   "metadata": {
    "id": "7wrFd_TKAgbQ",
    "outputId": "32f01197-3a6a-4543-dcf7-4da1cd593300"
   },
   "outputs": [
    {
     "data": {
      "text/plain": [
       "0   -1\n",
       "1   -1\n",
       "2   -1\n",
       "3   -1\n",
       "4    8\n",
       "5    9\n",
       "6   -1\n",
       "7   -1\n",
       "Name: job, dtype: int64"
      ]
     },
     "execution_count": 41,
     "metadata": {},
     "output_type": "execute_result"
    }
   ],
   "source": [
    "df.job.str.find(\"developer\")"
   ]
  },
  {
   "cell_type": "markdown",
   "metadata": {},
   "source": [
    "**str.findall** finds all occurrences of pattern or regular expression in the Series/Index [SOURCE](https://pandas.pydata.org/docs/reference/api/pandas.Series.str.findall.html)."
   ]
  },
  {
   "cell_type": "code",
   "execution_count": 42,
   "metadata": {
    "id": "De1fD0R-AgbQ",
    "outputId": "c965dcb8-0b53-4afc-d458-f1f377dbb2a2"
   },
   "outputs": [
    {
     "data": {
      "text/plain": [
       "0             []\n",
       "1             []\n",
       "2             []\n",
       "3             []\n",
       "4    [developer]\n",
       "5    [developer]\n",
       "6             []\n",
       "7             []\n",
       "Name: job, dtype: object"
      ]
     },
     "execution_count": 42,
     "metadata": {},
     "output_type": "execute_result"
    }
   ],
   "source": [
    "df.job.str.findall(\"developer\")"
   ]
  },
  {
   "cell_type": "code",
   "execution_count": 43,
   "metadata": {
    "scrolled": true
   },
   "outputs": [
    {
     "data": {
      "text/plain": [
       "0        []\n",
       "1        []\n",
       "2       [d]\n",
       "3        []\n",
       "4    [d, d]\n",
       "5    [d, d]\n",
       "6       [d]\n",
       "7       [d]\n",
       "Name: job, dtype: object"
      ]
     },
     "execution_count": 43,
     "metadata": {},
     "output_type": "execute_result"
    }
   ],
   "source": [
    "df.job.str.findall(\"d\")"
   ]
  },
  {
   "cell_type": "code",
   "execution_count": 44,
   "metadata": {
    "id": "QUEwvS34AgbU",
    "outputId": "4ffdb771-ce8b-40da-f6e4-0d545065cc42"
   },
   "outputs": [
    {
     "data": {
      "text/html": [
       "<div>\n",
       "<style scoped>\n",
       "    .dataframe tbody tr th:only-of-type {\n",
       "        vertical-align: middle;\n",
       "    }\n",
       "\n",
       "    .dataframe tbody tr th {\n",
       "        vertical-align: top;\n",
       "    }\n",
       "\n",
       "    .dataframe thead th {\n",
       "        text-align: right;\n",
       "    }\n",
       "</style>\n",
       "<table border=\"1\" class=\"dataframe\">\n",
       "  <thead>\n",
       "    <tr style=\"text-align: right;\">\n",
       "      <th></th>\n",
       "      <th>id</th>\n",
       "      <th>department</th>\n",
       "      <th>job</th>\n",
       "      <th>salary</th>\n",
       "      <th>age</th>\n",
       "      <th>first_name</th>\n",
       "      <th>last_name</th>\n",
       "      <th>skills</th>\n",
       "      <th>Skills</th>\n",
       "    </tr>\n",
       "  </thead>\n",
       "  <tbody>\n",
       "    <tr>\n",
       "      <th>0</th>\n",
       "      <td>M0001</td>\n",
       "      <td>HR</td>\n",
       "      <td>manager</td>\n",
       "      <td>150000.0</td>\n",
       "      <td>52.0</td>\n",
       "      <td>Tom</td>\n",
       "      <td>Blue</td>\n",
       "      <td>[]</td>\n",
       "      <td>[]</td>\n",
       "    </tr>\n",
       "    <tr>\n",
       "      <th>1</th>\n",
       "      <td>M0002</td>\n",
       "      <td>IT</td>\n",
       "      <td>manager</td>\n",
       "      <td>180000.0</td>\n",
       "      <td>48.0</td>\n",
       "      <td>John</td>\n",
       "      <td>Black</td>\n",
       "      <td>[Java, C++]</td>\n",
       "      <td>Java, C++</td>\n",
       "    </tr>\n",
       "    <tr>\n",
       "      <th>2</th>\n",
       "      <td>E0001</td>\n",
       "      <td>IT</td>\n",
       "      <td>data scientist</td>\n",
       "      <td>150000.0</td>\n",
       "      <td>35.0</td>\n",
       "      <td>Micheal</td>\n",
       "      <td>Brown</td>\n",
       "      <td>[Python, Tableau, SQL]</td>\n",
       "      <td>[Python, Tableau, SQL]</td>\n",
       "    </tr>\n",
       "    <tr>\n",
       "      <th>3</th>\n",
       "      <td>E0002</td>\n",
       "      <td>HR</td>\n",
       "      <td>recruiter</td>\n",
       "      <td>130000.0</td>\n",
       "      <td>38.0</td>\n",
       "      <td>Jason</td>\n",
       "      <td>Walker</td>\n",
       "      <td>[]</td>\n",
       "      <td>[]</td>\n",
       "    </tr>\n",
       "    <tr>\n",
       "      <th>4</th>\n",
       "      <td>E0003</td>\n",
       "      <td>IT</td>\n",
       "      <td>backend developer</td>\n",
       "      <td>110000.0</td>\n",
       "      <td>NaN</td>\n",
       "      <td>Alex</td>\n",
       "      <td>Green</td>\n",
       "      <td>[React, Django]</td>\n",
       "      <td>[React, Django]</td>\n",
       "    </tr>\n",
       "    <tr>\n",
       "      <th>5</th>\n",
       "      <td>E0004</td>\n",
       "      <td>IT</td>\n",
       "      <td>frontend developer</td>\n",
       "      <td>120000.0</td>\n",
       "      <td>32.0</td>\n",
       "      <td>Oscar</td>\n",
       "      <td>Smi̇th</td>\n",
       "      <td>[JavaScript, Python]</td>\n",
       "      <td>[JavaScript, Python]</td>\n",
       "    </tr>\n",
       "    <tr>\n",
       "      <th>6</th>\n",
       "      <td>E0005</td>\n",
       "      <td>IT</td>\n",
       "      <td>data scientist</td>\n",
       "      <td>135000.0</td>\n",
       "      <td>40.0</td>\n",
       "      <td>Adrian</td>\n",
       "      <td>Star</td>\n",
       "      <td>[R, SQL]</td>\n",
       "      <td>[R, SQL]</td>\n",
       "    </tr>\n",
       "    <tr>\n",
       "      <th>7</th>\n",
       "      <td>E0006</td>\n",
       "      <td>IT</td>\n",
       "      <td>data scientist</td>\n",
       "      <td>125000.0</td>\n",
       "      <td>35.0</td>\n",
       "      <td>Albert</td>\n",
       "      <td>Simon</td>\n",
       "      <td>[SQL, Python]</td>\n",
       "      <td>[SQL, Python]</td>\n",
       "    </tr>\n",
       "  </tbody>\n",
       "</table>\n",
       "</div>"
      ],
      "text/plain": [
       "      id department                 job    salary   age first_name last_name  \\\n",
       "0  M0001         HR             manager  150000.0  52.0        Tom      Blue   \n",
       "1  M0002         IT             manager  180000.0  48.0       John     Black   \n",
       "2  E0001         IT      data scientist  150000.0  35.0    Micheal     Brown   \n",
       "3  E0002         HR           recruiter  130000.0  38.0      Jason    Walker   \n",
       "4  E0003         IT   backend developer  110000.0   NaN       Alex     Green   \n",
       "5  E0004         IT  frontend developer  120000.0  32.0      Oscar    Smi̇th   \n",
       "6  E0005         IT      data scientist  135000.0  40.0     Adrian      Star   \n",
       "7  E0006         IT      data scientist  125000.0  35.0     Albert     Simon   \n",
       "\n",
       "                   skills                  Skills  \n",
       "0                      []                      []  \n",
       "1             [Java, C++]               Java, C++  \n",
       "2  [Python, Tableau, SQL]  [Python, Tableau, SQL]  \n",
       "3                      []                      []  \n",
       "4         [React, Django]         [React, Django]  \n",
       "5    [JavaScript, Python]    [JavaScript, Python]  \n",
       "6                [R, SQL]                [R, SQL]  \n",
       "7           [SQL, Python]           [SQL, Python]  "
      ]
     },
     "execution_count": 44,
     "metadata": {},
     "output_type": "execute_result"
    }
   ],
   "source": [
    "# Let's add new features named \"skils\" and \"Skills\" to our DataFrame\n",
    "\n",
    "df[\"skills\"] = [[], [\"Java\", \"C++\"], [\"Python\", \"Tableau\", \"SQL\"], [], [\"React\", \"Django\"], [\"JavaScript\", \"Python\"], [\"R\", \"SQL\"], [\"SQL\", \"Python\"]]\n",
    "df[\"Skills\"] = [[], [], [\"Python\",\"Tableau\",\"SQL\"], [], [\"React\", \"Django\"], [\"JavaScript\", \"Python\"], [\"R\", \"SQL\"], [\"SQL\", \"Python\"]]\n",
    "df.loc[1, \"Skills\"] = \"Java, C++\"\n",
    "df"
   ]
  },
  {
   "cell_type": "code",
   "execution_count": 45,
   "metadata": {
    "id": "78OCy4m2AgbU",
    "outputId": "0faaf598-5375-42f5-ddfa-e97ed66bd0b8"
   },
   "outputs": [
    {
     "data": {
      "text/plain": [
       "0                      \n",
       "1              Java,C++\n",
       "2    Python,Tableau,SQL\n",
       "3                      \n",
       "4          React,Django\n",
       "5     JavaScript,Python\n",
       "6                 R,SQL\n",
       "7            SQL,Python\n",
       "Name: skills, dtype: object"
      ]
     },
     "execution_count": 45,
     "metadata": {},
     "output_type": "execute_result"
    }
   ],
   "source": [
    "df.skills.str.join(\",\")"
   ]
  },
  {
   "cell_type": "code",
   "execution_count": 46,
   "metadata": {
    "id": "D1qul-8xAgbV",
    "outputId": "ba62e338-8d0b-49ab-df32-30bbda83aa34"
   },
   "outputs": [
    {
     "data": {
      "text/plain": [
       "0                      \n",
       "1     J,a,v,a,,, ,C,+,+\n",
       "2    Python,Tableau,SQL\n",
       "3                      \n",
       "4          React,Django\n",
       "5     JavaScript,Python\n",
       "6                 R,SQL\n",
       "7            SQL,Python\n",
       "Name: Skills, dtype: object"
      ]
     },
     "execution_count": 46,
     "metadata": {},
     "output_type": "execute_result"
    }
   ],
   "source": [
    "df.Skills.str.join(\",\")"
   ]
  },
  {
   "cell_type": "code",
   "execution_count": 47,
   "metadata": {
    "id": "GiAMxvyMAgbV",
    "outputId": "e7694d93-4fdd-4fed-ff39-b462854ca28f"
   },
   "outputs": [
    {
     "data": {
      "text/plain": [
       "0                      \n",
       "1             Java, C++\n",
       "2    Python,Tableau,SQL\n",
       "3                      \n",
       "4          React,Django\n",
       "5     JavaScript,Python\n",
       "6                 R,SQL\n",
       "7            SQL,Python\n",
       "Name: Skills, dtype: object"
      ]
     },
     "execution_count": 47,
     "metadata": {},
     "output_type": "execute_result"
    }
   ],
   "source": [
    "df.Skills.apply(lambda item: \",\".join(item) if type(item) == list else item)"
   ]
  },
  {
   "cell_type": "code",
   "execution_count": 48,
   "metadata": {
    "id": "2HE2FK0xAgbV",
    "outputId": "238cc24a-a728-41db-d983-fe5ea8ea5fa3"
   },
   "outputs": [
    {
     "data": {
      "text/plain": [
       "['',\n",
       " 'Java, C++',\n",
       " 'Python,Tableau,SQL',\n",
       " '',\n",
       " 'React,Django',\n",
       " 'JavaScript,Python',\n",
       " 'R,SQL',\n",
       " 'SQL,Python']"
      ]
     },
     "execution_count": 48,
     "metadata": {},
     "output_type": "execute_result"
    }
   ],
   "source": [
    "[\",\".join(item) if type(item) == list else item for item in df.Skills] "
   ]
  },
  {
   "cell_type": "code",
   "execution_count": 49,
   "metadata": {
    "id": "I8oDkhT0AgbV",
    "outputId": "e36de7a0-fc06-4d6d-934e-f1cedcbbfed8"
   },
   "outputs": [
    {
     "data": {
      "text/plain": [
       "0                      \n",
       "1             Java, C++\n",
       "2    Python,Tableau,SQL\n",
       "3                      \n",
       "4          React,Django\n",
       "5     JavaScript,Python\n",
       "6                 R,SQL\n",
       "7            SQL,Python\n",
       "Name: Skills, dtype: object"
      ]
     },
     "execution_count": 49,
     "metadata": {},
     "output_type": "execute_result"
    }
   ],
   "source": [
    "df[\"Skills\"] = [\",\".join(item) if type(item) == list else item for item in df.Skills]\n",
    "df.Skills"
   ]
  },
  {
   "cell_type": "code",
   "execution_count": 50,
   "metadata": {
    "id": "I-ecpSnjAgbW",
    "outputId": "1491c41e-20f6-4f24-9ff5-c097c5dc0375"
   },
   "outputs": [
    {
     "data": {
      "text/html": [
       "<div>\n",
       "<style scoped>\n",
       "    .dataframe tbody tr th:only-of-type {\n",
       "        vertical-align: middle;\n",
       "    }\n",
       "\n",
       "    .dataframe tbody tr th {\n",
       "        vertical-align: top;\n",
       "    }\n",
       "\n",
       "    .dataframe thead th {\n",
       "        text-align: right;\n",
       "    }\n",
       "</style>\n",
       "<table border=\"1\" class=\"dataframe\">\n",
       "  <thead>\n",
       "    <tr style=\"text-align: right;\">\n",
       "      <th></th>\n",
       "      <th>id</th>\n",
       "      <th>department</th>\n",
       "      <th>job</th>\n",
       "      <th>salary</th>\n",
       "      <th>age</th>\n",
       "      <th>first_name</th>\n",
       "      <th>last_name</th>\n",
       "      <th>skills</th>\n",
       "      <th>Skills</th>\n",
       "    </tr>\n",
       "  </thead>\n",
       "  <tbody>\n",
       "    <tr>\n",
       "      <th>0</th>\n",
       "      <td>M0001</td>\n",
       "      <td>HR</td>\n",
       "      <td>manager</td>\n",
       "      <td>150000.0</td>\n",
       "      <td>52.0</td>\n",
       "      <td>Tom</td>\n",
       "      <td>Blue</td>\n",
       "      <td>[]</td>\n",
       "      <td></td>\n",
       "    </tr>\n",
       "    <tr>\n",
       "      <th>1</th>\n",
       "      <td>M0002</td>\n",
       "      <td>IT</td>\n",
       "      <td>manager</td>\n",
       "      <td>180000.0</td>\n",
       "      <td>48.0</td>\n",
       "      <td>John</td>\n",
       "      <td>Black</td>\n",
       "      <td>[Java, C++]</td>\n",
       "      <td>Java, C++</td>\n",
       "    </tr>\n",
       "    <tr>\n",
       "      <th>2</th>\n",
       "      <td>E0001</td>\n",
       "      <td>IT</td>\n",
       "      <td>data scientist</td>\n",
       "      <td>150000.0</td>\n",
       "      <td>35.0</td>\n",
       "      <td>Micheal</td>\n",
       "      <td>Brown</td>\n",
       "      <td>[Python, Tableau, SQL]</td>\n",
       "      <td>Python,Tableau,SQL</td>\n",
       "    </tr>\n",
       "    <tr>\n",
       "      <th>3</th>\n",
       "      <td>E0002</td>\n",
       "      <td>HR</td>\n",
       "      <td>recruiter</td>\n",
       "      <td>130000.0</td>\n",
       "      <td>38.0</td>\n",
       "      <td>Jason</td>\n",
       "      <td>Walker</td>\n",
       "      <td>[]</td>\n",
       "      <td></td>\n",
       "    </tr>\n",
       "    <tr>\n",
       "      <th>4</th>\n",
       "      <td>E0003</td>\n",
       "      <td>IT</td>\n",
       "      <td>backend developer</td>\n",
       "      <td>110000.0</td>\n",
       "      <td>NaN</td>\n",
       "      <td>Alex</td>\n",
       "      <td>Green</td>\n",
       "      <td>[React, Django]</td>\n",
       "      <td>React,Django</td>\n",
       "    </tr>\n",
       "    <tr>\n",
       "      <th>5</th>\n",
       "      <td>E0004</td>\n",
       "      <td>IT</td>\n",
       "      <td>frontend developer</td>\n",
       "      <td>120000.0</td>\n",
       "      <td>32.0</td>\n",
       "      <td>Oscar</td>\n",
       "      <td>Smi̇th</td>\n",
       "      <td>[JavaScript, Python]</td>\n",
       "      <td>JavaScript,Python</td>\n",
       "    </tr>\n",
       "    <tr>\n",
       "      <th>6</th>\n",
       "      <td>E0005</td>\n",
       "      <td>IT</td>\n",
       "      <td>data scientist</td>\n",
       "      <td>135000.0</td>\n",
       "      <td>40.0</td>\n",
       "      <td>Adrian</td>\n",
       "      <td>Star</td>\n",
       "      <td>[R, SQL]</td>\n",
       "      <td>R,SQL</td>\n",
       "    </tr>\n",
       "    <tr>\n",
       "      <th>7</th>\n",
       "      <td>E0006</td>\n",
       "      <td>IT</td>\n",
       "      <td>data scientist</td>\n",
       "      <td>125000.0</td>\n",
       "      <td>35.0</td>\n",
       "      <td>Albert</td>\n",
       "      <td>Simon</td>\n",
       "      <td>[SQL, Python]</td>\n",
       "      <td>SQL,Python</td>\n",
       "    </tr>\n",
       "  </tbody>\n",
       "</table>\n",
       "</div>"
      ],
      "text/plain": [
       "      id department                 job    salary   age first_name last_name  \\\n",
       "0  M0001         HR             manager  150000.0  52.0        Tom      Blue   \n",
       "1  M0002         IT             manager  180000.0  48.0       John     Black   \n",
       "2  E0001         IT      data scientist  150000.0  35.0    Micheal     Brown   \n",
       "3  E0002         HR           recruiter  130000.0  38.0      Jason    Walker   \n",
       "4  E0003         IT   backend developer  110000.0   NaN       Alex     Green   \n",
       "5  E0004         IT  frontend developer  120000.0  32.0      Oscar    Smi̇th   \n",
       "6  E0005         IT      data scientist  135000.0  40.0     Adrian      Star   \n",
       "7  E0006         IT      data scientist  125000.0  35.0     Albert     Simon   \n",
       "\n",
       "                   skills              Skills  \n",
       "0                      []                      \n",
       "1             [Java, C++]           Java, C++  \n",
       "2  [Python, Tableau, SQL]  Python,Tableau,SQL  \n",
       "3                      []                      \n",
       "4         [React, Django]        React,Django  \n",
       "5    [JavaScript, Python]   JavaScript,Python  \n",
       "6                [R, SQL]               R,SQL  \n",
       "7           [SQL, Python]          SQL,Python  "
      ]
     },
     "execution_count": 50,
     "metadata": {},
     "output_type": "execute_result"
    }
   ],
   "source": [
    "df"
   ]
  },
  {
   "cell_type": "code",
   "execution_count": 51,
   "metadata": {
    "id": "qtcarQS1AgbW",
    "outputId": "52e6d82f-f6bc-46cb-9bea-8031ccaa7600"
   },
   "outputs": [
    {
     "data": {
      "text/html": [
       "<div>\n",
       "<style scoped>\n",
       "    .dataframe tbody tr th:only-of-type {\n",
       "        vertical-align: middle;\n",
       "    }\n",
       "\n",
       "    .dataframe tbody tr th {\n",
       "        vertical-align: top;\n",
       "    }\n",
       "\n",
       "    .dataframe thead th {\n",
       "        text-align: right;\n",
       "    }\n",
       "</style>\n",
       "<table border=\"1\" class=\"dataframe\">\n",
       "  <thead>\n",
       "    <tr style=\"text-align: right;\">\n",
       "      <th></th>\n",
       "      <th>HR</th>\n",
       "      <th>IT</th>\n",
       "    </tr>\n",
       "  </thead>\n",
       "  <tbody>\n",
       "    <tr>\n",
       "      <th>0</th>\n",
       "      <td>1</td>\n",
       "      <td>0</td>\n",
       "    </tr>\n",
       "    <tr>\n",
       "      <th>1</th>\n",
       "      <td>0</td>\n",
       "      <td>1</td>\n",
       "    </tr>\n",
       "    <tr>\n",
       "      <th>2</th>\n",
       "      <td>0</td>\n",
       "      <td>1</td>\n",
       "    </tr>\n",
       "    <tr>\n",
       "      <th>3</th>\n",
       "      <td>1</td>\n",
       "      <td>0</td>\n",
       "    </tr>\n",
       "    <tr>\n",
       "      <th>4</th>\n",
       "      <td>0</td>\n",
       "      <td>1</td>\n",
       "    </tr>\n",
       "    <tr>\n",
       "      <th>5</th>\n",
       "      <td>0</td>\n",
       "      <td>1</td>\n",
       "    </tr>\n",
       "    <tr>\n",
       "      <th>6</th>\n",
       "      <td>0</td>\n",
       "      <td>1</td>\n",
       "    </tr>\n",
       "    <tr>\n",
       "      <th>7</th>\n",
       "      <td>0</td>\n",
       "      <td>1</td>\n",
       "    </tr>\n",
       "  </tbody>\n",
       "</table>\n",
       "</div>"
      ],
      "text/plain": [
       "   HR  IT\n",
       "0   1   0\n",
       "1   0   1\n",
       "2   0   1\n",
       "3   1   0\n",
       "4   0   1\n",
       "5   0   1\n",
       "6   0   1\n",
       "7   0   1"
      ]
     },
     "execution_count": 51,
     "metadata": {},
     "output_type": "execute_result"
    }
   ],
   "source": [
    "pd.get_dummies(df.department)"
   ]
  },
  {
   "cell_type": "code",
   "execution_count": 52,
   "metadata": {
    "id": "ksnIuBl9AgbX",
    "outputId": "1fe8a71d-3aaa-4e14-c323-fb21b44a4fe7"
   },
   "outputs": [
    {
     "data": {
      "text/html": [
       "<div>\n",
       "<style scoped>\n",
       "    .dataframe tbody tr th:only-of-type {\n",
       "        vertical-align: middle;\n",
       "    }\n",
       "\n",
       "    .dataframe tbody tr th {\n",
       "        vertical-align: top;\n",
       "    }\n",
       "\n",
       "    .dataframe thead th {\n",
       "        text-align: right;\n",
       "    }\n",
       "</style>\n",
       "<table border=\"1\" class=\"dataframe\">\n",
       "  <thead>\n",
       "    <tr style=\"text-align: right;\">\n",
       "      <th></th>\n",
       "      <th>IT</th>\n",
       "    </tr>\n",
       "  </thead>\n",
       "  <tbody>\n",
       "    <tr>\n",
       "      <th>0</th>\n",
       "      <td>0</td>\n",
       "    </tr>\n",
       "    <tr>\n",
       "      <th>1</th>\n",
       "      <td>1</td>\n",
       "    </tr>\n",
       "    <tr>\n",
       "      <th>2</th>\n",
       "      <td>1</td>\n",
       "    </tr>\n",
       "    <tr>\n",
       "      <th>3</th>\n",
       "      <td>0</td>\n",
       "    </tr>\n",
       "    <tr>\n",
       "      <th>4</th>\n",
       "      <td>1</td>\n",
       "    </tr>\n",
       "    <tr>\n",
       "      <th>5</th>\n",
       "      <td>1</td>\n",
       "    </tr>\n",
       "    <tr>\n",
       "      <th>6</th>\n",
       "      <td>1</td>\n",
       "    </tr>\n",
       "    <tr>\n",
       "      <th>7</th>\n",
       "      <td>1</td>\n",
       "    </tr>\n",
       "  </tbody>\n",
       "</table>\n",
       "</div>"
      ],
      "text/plain": [
       "   IT\n",
       "0   0\n",
       "1   1\n",
       "2   1\n",
       "3   0\n",
       "4   1\n",
       "5   1\n",
       "6   1\n",
       "7   1"
      ]
     },
     "execution_count": 52,
     "metadata": {},
     "output_type": "execute_result"
    }
   ],
   "source": [
    "pd.get_dummies(df.department, drop_first=True)"
   ]
  },
  {
   "cell_type": "code",
   "execution_count": 53,
   "metadata": {
    "id": "sdilQe9fAgbX",
    "outputId": "f948a5ee-4c2e-46eb-8f5e-32df64e075f3"
   },
   "outputs": [
    {
     "data": {
      "text/plain": [
       "0                      \n",
       "1             Java, C++\n",
       "2    Python,Tableau,SQL\n",
       "3                      \n",
       "4          React,Django\n",
       "5     JavaScript,Python\n",
       "6                 R,SQL\n",
       "7            SQL,Python\n",
       "Name: Skills, dtype: object"
      ]
     },
     "execution_count": 53,
     "metadata": {},
     "output_type": "execute_result"
    }
   ],
   "source": [
    "df.Skills"
   ]
  },
  {
   "cell_type": "code",
   "execution_count": 54,
   "metadata": {
    "id": "TU1ckrJ8AgbX",
    "outputId": "4ed4ec71-b7d5-46e3-eab4-c2c3a0a59f86"
   },
   "outputs": [
    {
     "data": {
      "text/html": [
       "<div>\n",
       "<style scoped>\n",
       "    .dataframe tbody tr th:only-of-type {\n",
       "        vertical-align: middle;\n",
       "    }\n",
       "\n",
       "    .dataframe tbody tr th {\n",
       "        vertical-align: top;\n",
       "    }\n",
       "\n",
       "    .dataframe thead th {\n",
       "        text-align: right;\n",
       "    }\n",
       "</style>\n",
       "<table border=\"1\" class=\"dataframe\">\n",
       "  <thead>\n",
       "    <tr style=\"text-align: right;\">\n",
       "      <th></th>\n",
       "      <th>C++</th>\n",
       "      <th>Django</th>\n",
       "      <th>Java</th>\n",
       "      <th>JavaScript</th>\n",
       "      <th>Python</th>\n",
       "      <th>R</th>\n",
       "      <th>React</th>\n",
       "      <th>SQL</th>\n",
       "      <th>Tableau</th>\n",
       "    </tr>\n",
       "  </thead>\n",
       "  <tbody>\n",
       "    <tr>\n",
       "      <th>0</th>\n",
       "      <td>0</td>\n",
       "      <td>0</td>\n",
       "      <td>0</td>\n",
       "      <td>0</td>\n",
       "      <td>0</td>\n",
       "      <td>0</td>\n",
       "      <td>0</td>\n",
       "      <td>0</td>\n",
       "      <td>0</td>\n",
       "    </tr>\n",
       "    <tr>\n",
       "      <th>1</th>\n",
       "      <td>1</td>\n",
       "      <td>0</td>\n",
       "      <td>1</td>\n",
       "      <td>0</td>\n",
       "      <td>0</td>\n",
       "      <td>0</td>\n",
       "      <td>0</td>\n",
       "      <td>0</td>\n",
       "      <td>0</td>\n",
       "    </tr>\n",
       "    <tr>\n",
       "      <th>2</th>\n",
       "      <td>0</td>\n",
       "      <td>0</td>\n",
       "      <td>0</td>\n",
       "      <td>0</td>\n",
       "      <td>1</td>\n",
       "      <td>0</td>\n",
       "      <td>0</td>\n",
       "      <td>1</td>\n",
       "      <td>1</td>\n",
       "    </tr>\n",
       "    <tr>\n",
       "      <th>3</th>\n",
       "      <td>0</td>\n",
       "      <td>0</td>\n",
       "      <td>0</td>\n",
       "      <td>0</td>\n",
       "      <td>0</td>\n",
       "      <td>0</td>\n",
       "      <td>0</td>\n",
       "      <td>0</td>\n",
       "      <td>0</td>\n",
       "    </tr>\n",
       "    <tr>\n",
       "      <th>4</th>\n",
       "      <td>0</td>\n",
       "      <td>1</td>\n",
       "      <td>0</td>\n",
       "      <td>0</td>\n",
       "      <td>0</td>\n",
       "      <td>0</td>\n",
       "      <td>1</td>\n",
       "      <td>0</td>\n",
       "      <td>0</td>\n",
       "    </tr>\n",
       "    <tr>\n",
       "      <th>5</th>\n",
       "      <td>0</td>\n",
       "      <td>0</td>\n",
       "      <td>0</td>\n",
       "      <td>1</td>\n",
       "      <td>1</td>\n",
       "      <td>0</td>\n",
       "      <td>0</td>\n",
       "      <td>0</td>\n",
       "      <td>0</td>\n",
       "    </tr>\n",
       "    <tr>\n",
       "      <th>6</th>\n",
       "      <td>0</td>\n",
       "      <td>0</td>\n",
       "      <td>0</td>\n",
       "      <td>0</td>\n",
       "      <td>0</td>\n",
       "      <td>1</td>\n",
       "      <td>0</td>\n",
       "      <td>1</td>\n",
       "      <td>0</td>\n",
       "    </tr>\n",
       "    <tr>\n",
       "      <th>7</th>\n",
       "      <td>0</td>\n",
       "      <td>0</td>\n",
       "      <td>0</td>\n",
       "      <td>0</td>\n",
       "      <td>1</td>\n",
       "      <td>0</td>\n",
       "      <td>0</td>\n",
       "      <td>1</td>\n",
       "      <td>0</td>\n",
       "    </tr>\n",
       "  </tbody>\n",
       "</table>\n",
       "</div>"
      ],
      "text/plain": [
       "    C++  Django  Java  JavaScript  Python  R  React  SQL  Tableau\n",
       "0     0       0     0           0       0  0      0    0        0\n",
       "1     1       0     1           0       0  0      0    0        0\n",
       "2     0       0     0           0       1  0      0    1        1\n",
       "3     0       0     0           0       0  0      0    0        0\n",
       "4     0       1     0           0       0  0      1    0        0\n",
       "5     0       0     0           1       1  0      0    0        0\n",
       "6     0       0     0           0       0  1      0    1        0\n",
       "7     0       0     0           0       1  0      0    1        0"
      ]
     },
     "execution_count": 54,
     "metadata": {},
     "output_type": "execute_result"
    }
   ],
   "source": [
    "df.Skills.str.get_dummies(sep=\",\")"
   ]
  },
  {
   "cell_type": "code",
   "execution_count": 55,
   "metadata": {
    "id": "kx-0sPUuAgbX",
    "outputId": "d4b4169a-9fe6-46eb-cb43-a58ae0c904e2"
   },
   "outputs": [
    {
     "data": {
      "text/html": [
       "<div>\n",
       "<style scoped>\n",
       "    .dataframe tbody tr th:only-of-type {\n",
       "        vertical-align: middle;\n",
       "    }\n",
       "\n",
       "    .dataframe tbody tr th {\n",
       "        vertical-align: top;\n",
       "    }\n",
       "\n",
       "    .dataframe thead th {\n",
       "        text-align: right;\n",
       "    }\n",
       "</style>\n",
       "<table border=\"1\" class=\"dataframe\">\n",
       "  <thead>\n",
       "    <tr style=\"text-align: right;\">\n",
       "      <th></th>\n",
       "      <th>skills_ C++</th>\n",
       "      <th>skills_Django</th>\n",
       "      <th>skills_Java</th>\n",
       "      <th>skills_JavaScript</th>\n",
       "      <th>skills_Python</th>\n",
       "      <th>skills_R</th>\n",
       "      <th>skills_React</th>\n",
       "      <th>skills_SQL</th>\n",
       "      <th>skills_Tableau</th>\n",
       "    </tr>\n",
       "  </thead>\n",
       "  <tbody>\n",
       "    <tr>\n",
       "      <th>0</th>\n",
       "      <td>0</td>\n",
       "      <td>0</td>\n",
       "      <td>0</td>\n",
       "      <td>0</td>\n",
       "      <td>0</td>\n",
       "      <td>0</td>\n",
       "      <td>0</td>\n",
       "      <td>0</td>\n",
       "      <td>0</td>\n",
       "    </tr>\n",
       "    <tr>\n",
       "      <th>1</th>\n",
       "      <td>1</td>\n",
       "      <td>0</td>\n",
       "      <td>1</td>\n",
       "      <td>0</td>\n",
       "      <td>0</td>\n",
       "      <td>0</td>\n",
       "      <td>0</td>\n",
       "      <td>0</td>\n",
       "      <td>0</td>\n",
       "    </tr>\n",
       "    <tr>\n",
       "      <th>2</th>\n",
       "      <td>0</td>\n",
       "      <td>0</td>\n",
       "      <td>0</td>\n",
       "      <td>0</td>\n",
       "      <td>1</td>\n",
       "      <td>0</td>\n",
       "      <td>0</td>\n",
       "      <td>1</td>\n",
       "      <td>1</td>\n",
       "    </tr>\n",
       "    <tr>\n",
       "      <th>3</th>\n",
       "      <td>0</td>\n",
       "      <td>0</td>\n",
       "      <td>0</td>\n",
       "      <td>0</td>\n",
       "      <td>0</td>\n",
       "      <td>0</td>\n",
       "      <td>0</td>\n",
       "      <td>0</td>\n",
       "      <td>0</td>\n",
       "    </tr>\n",
       "    <tr>\n",
       "      <th>4</th>\n",
       "      <td>0</td>\n",
       "      <td>1</td>\n",
       "      <td>0</td>\n",
       "      <td>0</td>\n",
       "      <td>0</td>\n",
       "      <td>0</td>\n",
       "      <td>1</td>\n",
       "      <td>0</td>\n",
       "      <td>0</td>\n",
       "    </tr>\n",
       "    <tr>\n",
       "      <th>5</th>\n",
       "      <td>0</td>\n",
       "      <td>0</td>\n",
       "      <td>0</td>\n",
       "      <td>1</td>\n",
       "      <td>1</td>\n",
       "      <td>0</td>\n",
       "      <td>0</td>\n",
       "      <td>0</td>\n",
       "      <td>0</td>\n",
       "    </tr>\n",
       "    <tr>\n",
       "      <th>6</th>\n",
       "      <td>0</td>\n",
       "      <td>0</td>\n",
       "      <td>0</td>\n",
       "      <td>0</td>\n",
       "      <td>0</td>\n",
       "      <td>1</td>\n",
       "      <td>0</td>\n",
       "      <td>1</td>\n",
       "      <td>0</td>\n",
       "    </tr>\n",
       "    <tr>\n",
       "      <th>7</th>\n",
       "      <td>0</td>\n",
       "      <td>0</td>\n",
       "      <td>0</td>\n",
       "      <td>0</td>\n",
       "      <td>1</td>\n",
       "      <td>0</td>\n",
       "      <td>0</td>\n",
       "      <td>1</td>\n",
       "      <td>0</td>\n",
       "    </tr>\n",
       "  </tbody>\n",
       "</table>\n",
       "</div>"
      ],
      "text/plain": [
       "   skills_ C++  skills_Django  skills_Java  skills_JavaScript  skills_Python  \\\n",
       "0            0              0            0                  0              0   \n",
       "1            1              0            1                  0              0   \n",
       "2            0              0            0                  0              1   \n",
       "3            0              0            0                  0              0   \n",
       "4            0              1            0                  0              0   \n",
       "5            0              0            0                  1              1   \n",
       "6            0              0            0                  0              0   \n",
       "7            0              0            0                  0              1   \n",
       "\n",
       "   skills_R  skills_React  skills_SQL  skills_Tableau  \n",
       "0         0             0           0               0  \n",
       "1         0             0           0               0  \n",
       "2         0             0           1               1  \n",
       "3         0             0           0               0  \n",
       "4         0             1           0               0  \n",
       "5         0             0           0               0  \n",
       "6         1             0           1               0  \n",
       "7         0             0           1               0  "
      ]
     },
     "execution_count": 55,
     "metadata": {},
     "output_type": "execute_result"
    }
   ],
   "source": [
    "df.Skills.str.get_dummies(sep=\",\").add_prefix(\"skills_\")"
   ]
  },
  {
   "cell_type": "code",
   "execution_count": 56,
   "metadata": {
    "id": "fYjgl2VYAgbY"
   },
   "outputs": [],
   "source": [
    "skills_dummy = df.Skills.str.get_dummies(sep=\",\").add_prefix(\"skills_\")"
   ]
  },
  {
   "cell_type": "code",
   "execution_count": 57,
   "metadata": {
    "id": "96PFTEnfAgbY",
    "outputId": "858ad970-6104-4e57-c26c-3a8ac03d701b"
   },
   "outputs": [
    {
     "data": {
      "text/html": [
       "<div>\n",
       "<style scoped>\n",
       "    .dataframe tbody tr th:only-of-type {\n",
       "        vertical-align: middle;\n",
       "    }\n",
       "\n",
       "    .dataframe tbody tr th {\n",
       "        vertical-align: top;\n",
       "    }\n",
       "\n",
       "    .dataframe thead th {\n",
       "        text-align: right;\n",
       "    }\n",
       "</style>\n",
       "<table border=\"1\" class=\"dataframe\">\n",
       "  <thead>\n",
       "    <tr style=\"text-align: right;\">\n",
       "      <th></th>\n",
       "      <th>department</th>\n",
       "      <th>job</th>\n",
       "      <th>salary</th>\n",
       "      <th>Skills</th>\n",
       "    </tr>\n",
       "  </thead>\n",
       "  <tbody>\n",
       "    <tr>\n",
       "      <th>0</th>\n",
       "      <td>HR</td>\n",
       "      <td>manager</td>\n",
       "      <td>150000.0</td>\n",
       "      <td></td>\n",
       "    </tr>\n",
       "    <tr>\n",
       "      <th>1</th>\n",
       "      <td>IT</td>\n",
       "      <td>manager</td>\n",
       "      <td>180000.0</td>\n",
       "      <td>Java, C++</td>\n",
       "    </tr>\n",
       "    <tr>\n",
       "      <th>2</th>\n",
       "      <td>IT</td>\n",
       "      <td>data scientist</td>\n",
       "      <td>150000.0</td>\n",
       "      <td>Python,Tableau,SQL</td>\n",
       "    </tr>\n",
       "    <tr>\n",
       "      <th>3</th>\n",
       "      <td>HR</td>\n",
       "      <td>recruiter</td>\n",
       "      <td>130000.0</td>\n",
       "      <td></td>\n",
       "    </tr>\n",
       "    <tr>\n",
       "      <th>4</th>\n",
       "      <td>IT</td>\n",
       "      <td>backend developer</td>\n",
       "      <td>110000.0</td>\n",
       "      <td>React,Django</td>\n",
       "    </tr>\n",
       "    <tr>\n",
       "      <th>5</th>\n",
       "      <td>IT</td>\n",
       "      <td>frontend developer</td>\n",
       "      <td>120000.0</td>\n",
       "      <td>JavaScript,Python</td>\n",
       "    </tr>\n",
       "    <tr>\n",
       "      <th>6</th>\n",
       "      <td>IT</td>\n",
       "      <td>data scientist</td>\n",
       "      <td>135000.0</td>\n",
       "      <td>R,SQL</td>\n",
       "    </tr>\n",
       "    <tr>\n",
       "      <th>7</th>\n",
       "      <td>IT</td>\n",
       "      <td>data scientist</td>\n",
       "      <td>125000.0</td>\n",
       "      <td>SQL,Python</td>\n",
       "    </tr>\n",
       "  </tbody>\n",
       "</table>\n",
       "</div>"
      ],
      "text/plain": [
       "  department                 job    salary              Skills\n",
       "0         HR             manager  150000.0                    \n",
       "1         IT             manager  180000.0           Java, C++\n",
       "2         IT      data scientist  150000.0  Python,Tableau,SQL\n",
       "3         HR           recruiter  130000.0                    \n",
       "4         IT   backend developer  110000.0        React,Django\n",
       "5         IT  frontend developer  120000.0   JavaScript,Python\n",
       "6         IT      data scientist  135000.0               R,SQL\n",
       "7         IT      data scientist  125000.0          SQL,Python"
      ]
     },
     "execution_count": 57,
     "metadata": {},
     "output_type": "execute_result"
    }
   ],
   "source": [
    "df_final = df[[\"department\", \"job\", \"salary\", \"Skills\"]]\n",
    "df_final"
   ]
  },
  {
   "cell_type": "code",
   "execution_count": 58,
   "metadata": {
    "id": "Gcjut6yKAgbY",
    "outputId": "fec0d40a-75a5-4b8c-ec00-efc9e075ab63"
   },
   "outputs": [
    {
     "data": {
      "text/html": [
       "<div>\n",
       "<style scoped>\n",
       "    .dataframe tbody tr th:only-of-type {\n",
       "        vertical-align: middle;\n",
       "    }\n",
       "\n",
       "    .dataframe tbody tr th {\n",
       "        vertical-align: top;\n",
       "    }\n",
       "\n",
       "    .dataframe thead th {\n",
       "        text-align: right;\n",
       "    }\n",
       "</style>\n",
       "<table border=\"1\" class=\"dataframe\">\n",
       "  <thead>\n",
       "    <tr style=\"text-align: right;\">\n",
       "      <th></th>\n",
       "      <th>department</th>\n",
       "      <th>job</th>\n",
       "      <th>salary</th>\n",
       "      <th>Skills</th>\n",
       "      <th>skills_ C++</th>\n",
       "      <th>skills_Django</th>\n",
       "      <th>skills_Java</th>\n",
       "      <th>skills_JavaScript</th>\n",
       "      <th>skills_Python</th>\n",
       "      <th>skills_R</th>\n",
       "      <th>skills_React</th>\n",
       "      <th>skills_SQL</th>\n",
       "      <th>skills_Tableau</th>\n",
       "    </tr>\n",
       "  </thead>\n",
       "  <tbody>\n",
       "    <tr>\n",
       "      <th>0</th>\n",
       "      <td>HR</td>\n",
       "      <td>manager</td>\n",
       "      <td>150000.0</td>\n",
       "      <td></td>\n",
       "      <td>0</td>\n",
       "      <td>0</td>\n",
       "      <td>0</td>\n",
       "      <td>0</td>\n",
       "      <td>0</td>\n",
       "      <td>0</td>\n",
       "      <td>0</td>\n",
       "      <td>0</td>\n",
       "      <td>0</td>\n",
       "    </tr>\n",
       "    <tr>\n",
       "      <th>1</th>\n",
       "      <td>IT</td>\n",
       "      <td>manager</td>\n",
       "      <td>180000.0</td>\n",
       "      <td>Java, C++</td>\n",
       "      <td>1</td>\n",
       "      <td>0</td>\n",
       "      <td>1</td>\n",
       "      <td>0</td>\n",
       "      <td>0</td>\n",
       "      <td>0</td>\n",
       "      <td>0</td>\n",
       "      <td>0</td>\n",
       "      <td>0</td>\n",
       "    </tr>\n",
       "    <tr>\n",
       "      <th>2</th>\n",
       "      <td>IT</td>\n",
       "      <td>data scientist</td>\n",
       "      <td>150000.0</td>\n",
       "      <td>Python,Tableau,SQL</td>\n",
       "      <td>0</td>\n",
       "      <td>0</td>\n",
       "      <td>0</td>\n",
       "      <td>0</td>\n",
       "      <td>1</td>\n",
       "      <td>0</td>\n",
       "      <td>0</td>\n",
       "      <td>1</td>\n",
       "      <td>1</td>\n",
       "    </tr>\n",
       "    <tr>\n",
       "      <th>3</th>\n",
       "      <td>HR</td>\n",
       "      <td>recruiter</td>\n",
       "      <td>130000.0</td>\n",
       "      <td></td>\n",
       "      <td>0</td>\n",
       "      <td>0</td>\n",
       "      <td>0</td>\n",
       "      <td>0</td>\n",
       "      <td>0</td>\n",
       "      <td>0</td>\n",
       "      <td>0</td>\n",
       "      <td>0</td>\n",
       "      <td>0</td>\n",
       "    </tr>\n",
       "    <tr>\n",
       "      <th>4</th>\n",
       "      <td>IT</td>\n",
       "      <td>backend developer</td>\n",
       "      <td>110000.0</td>\n",
       "      <td>React,Django</td>\n",
       "      <td>0</td>\n",
       "      <td>1</td>\n",
       "      <td>0</td>\n",
       "      <td>0</td>\n",
       "      <td>0</td>\n",
       "      <td>0</td>\n",
       "      <td>1</td>\n",
       "      <td>0</td>\n",
       "      <td>0</td>\n",
       "    </tr>\n",
       "    <tr>\n",
       "      <th>5</th>\n",
       "      <td>IT</td>\n",
       "      <td>frontend developer</td>\n",
       "      <td>120000.0</td>\n",
       "      <td>JavaScript,Python</td>\n",
       "      <td>0</td>\n",
       "      <td>0</td>\n",
       "      <td>0</td>\n",
       "      <td>1</td>\n",
       "      <td>1</td>\n",
       "      <td>0</td>\n",
       "      <td>0</td>\n",
       "      <td>0</td>\n",
       "      <td>0</td>\n",
       "    </tr>\n",
       "    <tr>\n",
       "      <th>6</th>\n",
       "      <td>IT</td>\n",
       "      <td>data scientist</td>\n",
       "      <td>135000.0</td>\n",
       "      <td>R,SQL</td>\n",
       "      <td>0</td>\n",
       "      <td>0</td>\n",
       "      <td>0</td>\n",
       "      <td>0</td>\n",
       "      <td>0</td>\n",
       "      <td>1</td>\n",
       "      <td>0</td>\n",
       "      <td>1</td>\n",
       "      <td>0</td>\n",
       "    </tr>\n",
       "    <tr>\n",
       "      <th>7</th>\n",
       "      <td>IT</td>\n",
       "      <td>data scientist</td>\n",
       "      <td>125000.0</td>\n",
       "      <td>SQL,Python</td>\n",
       "      <td>0</td>\n",
       "      <td>0</td>\n",
       "      <td>0</td>\n",
       "      <td>0</td>\n",
       "      <td>1</td>\n",
       "      <td>0</td>\n",
       "      <td>0</td>\n",
       "      <td>1</td>\n",
       "      <td>0</td>\n",
       "    </tr>\n",
       "  </tbody>\n",
       "</table>\n",
       "</div>"
      ],
      "text/plain": [
       "  department                 job    salary              Skills  skills_ C++  \\\n",
       "0         HR             manager  150000.0                                0   \n",
       "1         IT             manager  180000.0           Java, C++            1   \n",
       "2         IT      data scientist  150000.0  Python,Tableau,SQL            0   \n",
       "3         HR           recruiter  130000.0                                0   \n",
       "4         IT   backend developer  110000.0        React,Django            0   \n",
       "5         IT  frontend developer  120000.0   JavaScript,Python            0   \n",
       "6         IT      data scientist  135000.0               R,SQL            0   \n",
       "7         IT      data scientist  125000.0          SQL,Python            0   \n",
       "\n",
       "   skills_Django  skills_Java  skills_JavaScript  skills_Python  skills_R  \\\n",
       "0              0            0                  0              0         0   \n",
       "1              0            1                  0              0         0   \n",
       "2              0            0                  0              1         0   \n",
       "3              0            0                  0              0         0   \n",
       "4              1            0                  0              0         0   \n",
       "5              0            0                  1              1         0   \n",
       "6              0            0                  0              0         1   \n",
       "7              0            0                  0              1         0   \n",
       "\n",
       "   skills_React  skills_SQL  skills_Tableau  \n",
       "0             0           0               0  \n",
       "1             0           0               0  \n",
       "2             0           1               1  \n",
       "3             0           0               0  \n",
       "4             1           0               0  \n",
       "5             0           0               0  \n",
       "6             0           1               0  \n",
       "7             0           1               0  "
      ]
     },
     "execution_count": 58,
     "metadata": {},
     "output_type": "execute_result"
    }
   ],
   "source": [
    "df_final.join(skills_dummy)"
   ]
  },
  {
   "cell_type": "code",
   "execution_count": 59,
   "metadata": {
    "id": "6xFv8TsuAgbY"
   },
   "outputs": [],
   "source": [
    "df_final = df_final.join(skills_dummy)\n",
    "df_final.drop(\"Skills\", axis=1, inplace=True)"
   ]
  },
  {
   "cell_type": "code",
   "execution_count": 60,
   "metadata": {
    "id": "P6ou3j9gAgbZ",
    "outputId": "8999842a-5aa7-474a-b75f-259da7fee4ee"
   },
   "outputs": [
    {
     "data": {
      "text/html": [
       "<div>\n",
       "<style scoped>\n",
       "    .dataframe tbody tr th:only-of-type {\n",
       "        vertical-align: middle;\n",
       "    }\n",
       "\n",
       "    .dataframe tbody tr th {\n",
       "        vertical-align: top;\n",
       "    }\n",
       "\n",
       "    .dataframe thead th {\n",
       "        text-align: right;\n",
       "    }\n",
       "</style>\n",
       "<table border=\"1\" class=\"dataframe\">\n",
       "  <thead>\n",
       "    <tr style=\"text-align: right;\">\n",
       "      <th></th>\n",
       "      <th>department</th>\n",
       "      <th>job</th>\n",
       "      <th>salary</th>\n",
       "      <th>skills_ C++</th>\n",
       "      <th>skills_Django</th>\n",
       "      <th>skills_Java</th>\n",
       "      <th>skills_JavaScript</th>\n",
       "      <th>skills_Python</th>\n",
       "      <th>skills_R</th>\n",
       "      <th>skills_React</th>\n",
       "      <th>skills_SQL</th>\n",
       "      <th>skills_Tableau</th>\n",
       "    </tr>\n",
       "  </thead>\n",
       "  <tbody>\n",
       "    <tr>\n",
       "      <th>0</th>\n",
       "      <td>HR</td>\n",
       "      <td>manager</td>\n",
       "      <td>150000.0</td>\n",
       "      <td>0</td>\n",
       "      <td>0</td>\n",
       "      <td>0</td>\n",
       "      <td>0</td>\n",
       "      <td>0</td>\n",
       "      <td>0</td>\n",
       "      <td>0</td>\n",
       "      <td>0</td>\n",
       "      <td>0</td>\n",
       "    </tr>\n",
       "    <tr>\n",
       "      <th>1</th>\n",
       "      <td>IT</td>\n",
       "      <td>manager</td>\n",
       "      <td>180000.0</td>\n",
       "      <td>1</td>\n",
       "      <td>0</td>\n",
       "      <td>1</td>\n",
       "      <td>0</td>\n",
       "      <td>0</td>\n",
       "      <td>0</td>\n",
       "      <td>0</td>\n",
       "      <td>0</td>\n",
       "      <td>0</td>\n",
       "    </tr>\n",
       "    <tr>\n",
       "      <th>2</th>\n",
       "      <td>IT</td>\n",
       "      <td>data scientist</td>\n",
       "      <td>150000.0</td>\n",
       "      <td>0</td>\n",
       "      <td>0</td>\n",
       "      <td>0</td>\n",
       "      <td>0</td>\n",
       "      <td>1</td>\n",
       "      <td>0</td>\n",
       "      <td>0</td>\n",
       "      <td>1</td>\n",
       "      <td>1</td>\n",
       "    </tr>\n",
       "    <tr>\n",
       "      <th>3</th>\n",
       "      <td>HR</td>\n",
       "      <td>recruiter</td>\n",
       "      <td>130000.0</td>\n",
       "      <td>0</td>\n",
       "      <td>0</td>\n",
       "      <td>0</td>\n",
       "      <td>0</td>\n",
       "      <td>0</td>\n",
       "      <td>0</td>\n",
       "      <td>0</td>\n",
       "      <td>0</td>\n",
       "      <td>0</td>\n",
       "    </tr>\n",
       "    <tr>\n",
       "      <th>4</th>\n",
       "      <td>IT</td>\n",
       "      <td>backend developer</td>\n",
       "      <td>110000.0</td>\n",
       "      <td>0</td>\n",
       "      <td>1</td>\n",
       "      <td>0</td>\n",
       "      <td>0</td>\n",
       "      <td>0</td>\n",
       "      <td>0</td>\n",
       "      <td>1</td>\n",
       "      <td>0</td>\n",
       "      <td>0</td>\n",
       "    </tr>\n",
       "    <tr>\n",
       "      <th>5</th>\n",
       "      <td>IT</td>\n",
       "      <td>frontend developer</td>\n",
       "      <td>120000.0</td>\n",
       "      <td>0</td>\n",
       "      <td>0</td>\n",
       "      <td>0</td>\n",
       "      <td>1</td>\n",
       "      <td>1</td>\n",
       "      <td>0</td>\n",
       "      <td>0</td>\n",
       "      <td>0</td>\n",
       "      <td>0</td>\n",
       "    </tr>\n",
       "    <tr>\n",
       "      <th>6</th>\n",
       "      <td>IT</td>\n",
       "      <td>data scientist</td>\n",
       "      <td>135000.0</td>\n",
       "      <td>0</td>\n",
       "      <td>0</td>\n",
       "      <td>0</td>\n",
       "      <td>0</td>\n",
       "      <td>0</td>\n",
       "      <td>1</td>\n",
       "      <td>0</td>\n",
       "      <td>1</td>\n",
       "      <td>0</td>\n",
       "    </tr>\n",
       "    <tr>\n",
       "      <th>7</th>\n",
       "      <td>IT</td>\n",
       "      <td>data scientist</td>\n",
       "      <td>125000.0</td>\n",
       "      <td>0</td>\n",
       "      <td>0</td>\n",
       "      <td>0</td>\n",
       "      <td>0</td>\n",
       "      <td>1</td>\n",
       "      <td>0</td>\n",
       "      <td>0</td>\n",
       "      <td>1</td>\n",
       "      <td>0</td>\n",
       "    </tr>\n",
       "  </tbody>\n",
       "</table>\n",
       "</div>"
      ],
      "text/plain": [
       "  department                 job    salary  skills_ C++  skills_Django  \\\n",
       "0         HR             manager  150000.0            0              0   \n",
       "1         IT             manager  180000.0            1              0   \n",
       "2         IT      data scientist  150000.0            0              0   \n",
       "3         HR           recruiter  130000.0            0              0   \n",
       "4         IT   backend developer  110000.0            0              1   \n",
       "5         IT  frontend developer  120000.0            0              0   \n",
       "6         IT      data scientist  135000.0            0              0   \n",
       "7         IT      data scientist  125000.0            0              0   \n",
       "\n",
       "   skills_Java  skills_JavaScript  skills_Python  skills_R  skills_React  \\\n",
       "0            0                  0              0         0             0   \n",
       "1            1                  0              0         0             0   \n",
       "2            0                  0              1         0             0   \n",
       "3            0                  0              0         0             0   \n",
       "4            0                  0              0         0             1   \n",
       "5            0                  1              1         0             0   \n",
       "6            0                  0              0         1             0   \n",
       "7            0                  0              1         0             0   \n",
       "\n",
       "   skills_SQL  skills_Tableau  \n",
       "0           0               0  \n",
       "1           0               0  \n",
       "2           1               1  \n",
       "3           0               0  \n",
       "4           0               0  \n",
       "5           0               0  \n",
       "6           1               0  \n",
       "7           1               0  "
      ]
     },
     "execution_count": 60,
     "metadata": {},
     "output_type": "execute_result"
    }
   ],
   "source": [
    "df_final"
   ]
  },
  {
   "cell_type": "code",
   "execution_count": 61,
   "metadata": {
    "id": "mJgTEQZlAgbZ",
    "outputId": "be68ecd0-0dda-410a-f2fb-5c4ff96c65d5"
   },
   "outputs": [
    {
     "data": {
      "text/html": [
       "<div>\n",
       "<style scoped>\n",
       "    .dataframe tbody tr th:only-of-type {\n",
       "        vertical-align: middle;\n",
       "    }\n",
       "\n",
       "    .dataframe tbody tr th {\n",
       "        vertical-align: top;\n",
       "    }\n",
       "\n",
       "    .dataframe thead th {\n",
       "        text-align: right;\n",
       "    }\n",
       "</style>\n",
       "<table border=\"1\" class=\"dataframe\">\n",
       "  <thead>\n",
       "    <tr style=\"text-align: right;\">\n",
       "      <th></th>\n",
       "      <th>salary</th>\n",
       "      <th>skills_ C++</th>\n",
       "      <th>skills_Django</th>\n",
       "      <th>skills_Java</th>\n",
       "      <th>skills_JavaScript</th>\n",
       "      <th>skills_Python</th>\n",
       "      <th>skills_R</th>\n",
       "      <th>skills_React</th>\n",
       "      <th>skills_SQL</th>\n",
       "      <th>skills_Tableau</th>\n",
       "      <th>department_IT</th>\n",
       "      <th>job_data scientist</th>\n",
       "      <th>job_frontend developer</th>\n",
       "      <th>job_manager</th>\n",
       "      <th>job_recruiter</th>\n",
       "    </tr>\n",
       "  </thead>\n",
       "  <tbody>\n",
       "    <tr>\n",
       "      <th>0</th>\n",
       "      <td>150000.0</td>\n",
       "      <td>0</td>\n",
       "      <td>0</td>\n",
       "      <td>0</td>\n",
       "      <td>0</td>\n",
       "      <td>0</td>\n",
       "      <td>0</td>\n",
       "      <td>0</td>\n",
       "      <td>0</td>\n",
       "      <td>0</td>\n",
       "      <td>0</td>\n",
       "      <td>0</td>\n",
       "      <td>0</td>\n",
       "      <td>1</td>\n",
       "      <td>0</td>\n",
       "    </tr>\n",
       "    <tr>\n",
       "      <th>1</th>\n",
       "      <td>180000.0</td>\n",
       "      <td>1</td>\n",
       "      <td>0</td>\n",
       "      <td>1</td>\n",
       "      <td>0</td>\n",
       "      <td>0</td>\n",
       "      <td>0</td>\n",
       "      <td>0</td>\n",
       "      <td>0</td>\n",
       "      <td>0</td>\n",
       "      <td>1</td>\n",
       "      <td>0</td>\n",
       "      <td>0</td>\n",
       "      <td>1</td>\n",
       "      <td>0</td>\n",
       "    </tr>\n",
       "    <tr>\n",
       "      <th>2</th>\n",
       "      <td>150000.0</td>\n",
       "      <td>0</td>\n",
       "      <td>0</td>\n",
       "      <td>0</td>\n",
       "      <td>0</td>\n",
       "      <td>1</td>\n",
       "      <td>0</td>\n",
       "      <td>0</td>\n",
       "      <td>1</td>\n",
       "      <td>1</td>\n",
       "      <td>1</td>\n",
       "      <td>1</td>\n",
       "      <td>0</td>\n",
       "      <td>0</td>\n",
       "      <td>0</td>\n",
       "    </tr>\n",
       "    <tr>\n",
       "      <th>3</th>\n",
       "      <td>130000.0</td>\n",
       "      <td>0</td>\n",
       "      <td>0</td>\n",
       "      <td>0</td>\n",
       "      <td>0</td>\n",
       "      <td>0</td>\n",
       "      <td>0</td>\n",
       "      <td>0</td>\n",
       "      <td>0</td>\n",
       "      <td>0</td>\n",
       "      <td>0</td>\n",
       "      <td>0</td>\n",
       "      <td>0</td>\n",
       "      <td>0</td>\n",
       "      <td>1</td>\n",
       "    </tr>\n",
       "    <tr>\n",
       "      <th>4</th>\n",
       "      <td>110000.0</td>\n",
       "      <td>0</td>\n",
       "      <td>1</td>\n",
       "      <td>0</td>\n",
       "      <td>0</td>\n",
       "      <td>0</td>\n",
       "      <td>0</td>\n",
       "      <td>1</td>\n",
       "      <td>0</td>\n",
       "      <td>0</td>\n",
       "      <td>1</td>\n",
       "      <td>0</td>\n",
       "      <td>0</td>\n",
       "      <td>0</td>\n",
       "      <td>0</td>\n",
       "    </tr>\n",
       "    <tr>\n",
       "      <th>5</th>\n",
       "      <td>120000.0</td>\n",
       "      <td>0</td>\n",
       "      <td>0</td>\n",
       "      <td>0</td>\n",
       "      <td>1</td>\n",
       "      <td>1</td>\n",
       "      <td>0</td>\n",
       "      <td>0</td>\n",
       "      <td>0</td>\n",
       "      <td>0</td>\n",
       "      <td>1</td>\n",
       "      <td>0</td>\n",
       "      <td>1</td>\n",
       "      <td>0</td>\n",
       "      <td>0</td>\n",
       "    </tr>\n",
       "    <tr>\n",
       "      <th>6</th>\n",
       "      <td>135000.0</td>\n",
       "      <td>0</td>\n",
       "      <td>0</td>\n",
       "      <td>0</td>\n",
       "      <td>0</td>\n",
       "      <td>0</td>\n",
       "      <td>1</td>\n",
       "      <td>0</td>\n",
       "      <td>1</td>\n",
       "      <td>0</td>\n",
       "      <td>1</td>\n",
       "      <td>1</td>\n",
       "      <td>0</td>\n",
       "      <td>0</td>\n",
       "      <td>0</td>\n",
       "    </tr>\n",
       "    <tr>\n",
       "      <th>7</th>\n",
       "      <td>125000.0</td>\n",
       "      <td>0</td>\n",
       "      <td>0</td>\n",
       "      <td>0</td>\n",
       "      <td>0</td>\n",
       "      <td>1</td>\n",
       "      <td>0</td>\n",
       "      <td>0</td>\n",
       "      <td>1</td>\n",
       "      <td>0</td>\n",
       "      <td>1</td>\n",
       "      <td>1</td>\n",
       "      <td>0</td>\n",
       "      <td>0</td>\n",
       "      <td>0</td>\n",
       "    </tr>\n",
       "  </tbody>\n",
       "</table>\n",
       "</div>"
      ],
      "text/plain": [
       "     salary  skills_ C++  skills_Django  skills_Java  skills_JavaScript  \\\n",
       "0  150000.0            0              0            0                  0   \n",
       "1  180000.0            1              0            1                  0   \n",
       "2  150000.0            0              0            0                  0   \n",
       "3  130000.0            0              0            0                  0   \n",
       "4  110000.0            0              1            0                  0   \n",
       "5  120000.0            0              0            0                  1   \n",
       "6  135000.0            0              0            0                  0   \n",
       "7  125000.0            0              0            0                  0   \n",
       "\n",
       "   skills_Python  skills_R  skills_React  skills_SQL  skills_Tableau  \\\n",
       "0              0         0             0           0               0   \n",
       "1              0         0             0           0               0   \n",
       "2              1         0             0           1               1   \n",
       "3              0         0             0           0               0   \n",
       "4              0         0             1           0               0   \n",
       "5              1         0             0           0               0   \n",
       "6              0         1             0           1               0   \n",
       "7              1         0             0           1               0   \n",
       "\n",
       "   department_IT  job_data scientist  job_frontend developer  job_manager  \\\n",
       "0              0                   0                       0            1   \n",
       "1              1                   0                       0            1   \n",
       "2              1                   1                       0            0   \n",
       "3              0                   0                       0            0   \n",
       "4              1                   0                       0            0   \n",
       "5              1                   0                       1            0   \n",
       "6              1                   1                       0            0   \n",
       "7              1                   1                       0            0   \n",
       "\n",
       "   job_recruiter  \n",
       "0              0  \n",
       "1              0  \n",
       "2              0  \n",
       "3              1  \n",
       "4              0  \n",
       "5              0  \n",
       "6              0  \n",
       "7              0  "
      ]
     },
     "execution_count": 61,
     "metadata": {},
     "output_type": "execute_result"
    }
   ],
   "source": [
    "pd.get_dummies(df_final, drop_first = True)"
   ]
  },
  {
   "cell_type": "code",
   "execution_count": 62,
   "metadata": {
    "id": "biPZ4JkRAgbZ"
   },
   "outputs": [
    {
     "data": {
      "text/html": [
       "<div>\n",
       "<style scoped>\n",
       "    .dataframe tbody tr th:only-of-type {\n",
       "        vertical-align: middle;\n",
       "    }\n",
       "\n",
       "    .dataframe tbody tr th {\n",
       "        vertical-align: top;\n",
       "    }\n",
       "\n",
       "    .dataframe thead th {\n",
       "        text-align: right;\n",
       "    }\n",
       "</style>\n",
       "<table border=\"1\" class=\"dataframe\">\n",
       "  <thead>\n",
       "    <tr style=\"text-align: right;\">\n",
       "      <th></th>\n",
       "      <th>salary</th>\n",
       "      <th>skills_ C++</th>\n",
       "      <th>skills_Django</th>\n",
       "      <th>skills_Java</th>\n",
       "      <th>skills_JavaScript</th>\n",
       "      <th>skills_Python</th>\n",
       "      <th>skills_R</th>\n",
       "      <th>skills_React</th>\n",
       "      <th>skills_SQL</th>\n",
       "      <th>skills_Tableau</th>\n",
       "      <th>department_IT</th>\n",
       "      <th>job_data scientist</th>\n",
       "      <th>job_frontend developer</th>\n",
       "      <th>job_manager</th>\n",
       "      <th>job_recruiter</th>\n",
       "    </tr>\n",
       "  </thead>\n",
       "  <tbody>\n",
       "    <tr>\n",
       "      <th>0</th>\n",
       "      <td>150000.0</td>\n",
       "      <td>0</td>\n",
       "      <td>0</td>\n",
       "      <td>0</td>\n",
       "      <td>0</td>\n",
       "      <td>0</td>\n",
       "      <td>0</td>\n",
       "      <td>0</td>\n",
       "      <td>0</td>\n",
       "      <td>0</td>\n",
       "      <td>0</td>\n",
       "      <td>0</td>\n",
       "      <td>0</td>\n",
       "      <td>1</td>\n",
       "      <td>0</td>\n",
       "    </tr>\n",
       "    <tr>\n",
       "      <th>1</th>\n",
       "      <td>180000.0</td>\n",
       "      <td>1</td>\n",
       "      <td>0</td>\n",
       "      <td>1</td>\n",
       "      <td>0</td>\n",
       "      <td>0</td>\n",
       "      <td>0</td>\n",
       "      <td>0</td>\n",
       "      <td>0</td>\n",
       "      <td>0</td>\n",
       "      <td>1</td>\n",
       "      <td>0</td>\n",
       "      <td>0</td>\n",
       "      <td>1</td>\n",
       "      <td>0</td>\n",
       "    </tr>\n",
       "    <tr>\n",
       "      <th>2</th>\n",
       "      <td>150000.0</td>\n",
       "      <td>0</td>\n",
       "      <td>0</td>\n",
       "      <td>0</td>\n",
       "      <td>0</td>\n",
       "      <td>1</td>\n",
       "      <td>0</td>\n",
       "      <td>0</td>\n",
       "      <td>1</td>\n",
       "      <td>1</td>\n",
       "      <td>1</td>\n",
       "      <td>1</td>\n",
       "      <td>0</td>\n",
       "      <td>0</td>\n",
       "      <td>0</td>\n",
       "    </tr>\n",
       "    <tr>\n",
       "      <th>3</th>\n",
       "      <td>130000.0</td>\n",
       "      <td>0</td>\n",
       "      <td>0</td>\n",
       "      <td>0</td>\n",
       "      <td>0</td>\n",
       "      <td>0</td>\n",
       "      <td>0</td>\n",
       "      <td>0</td>\n",
       "      <td>0</td>\n",
       "      <td>0</td>\n",
       "      <td>0</td>\n",
       "      <td>0</td>\n",
       "      <td>0</td>\n",
       "      <td>0</td>\n",
       "      <td>1</td>\n",
       "    </tr>\n",
       "    <tr>\n",
       "      <th>4</th>\n",
       "      <td>110000.0</td>\n",
       "      <td>0</td>\n",
       "      <td>1</td>\n",
       "      <td>0</td>\n",
       "      <td>0</td>\n",
       "      <td>0</td>\n",
       "      <td>0</td>\n",
       "      <td>1</td>\n",
       "      <td>0</td>\n",
       "      <td>0</td>\n",
       "      <td>1</td>\n",
       "      <td>0</td>\n",
       "      <td>0</td>\n",
       "      <td>0</td>\n",
       "      <td>0</td>\n",
       "    </tr>\n",
       "    <tr>\n",
       "      <th>5</th>\n",
       "      <td>120000.0</td>\n",
       "      <td>0</td>\n",
       "      <td>0</td>\n",
       "      <td>0</td>\n",
       "      <td>1</td>\n",
       "      <td>1</td>\n",
       "      <td>0</td>\n",
       "      <td>0</td>\n",
       "      <td>0</td>\n",
       "      <td>0</td>\n",
       "      <td>1</td>\n",
       "      <td>0</td>\n",
       "      <td>1</td>\n",
       "      <td>0</td>\n",
       "      <td>0</td>\n",
       "    </tr>\n",
       "    <tr>\n",
       "      <th>6</th>\n",
       "      <td>135000.0</td>\n",
       "      <td>0</td>\n",
       "      <td>0</td>\n",
       "      <td>0</td>\n",
       "      <td>0</td>\n",
       "      <td>0</td>\n",
       "      <td>1</td>\n",
       "      <td>0</td>\n",
       "      <td>1</td>\n",
       "      <td>0</td>\n",
       "      <td>1</td>\n",
       "      <td>1</td>\n",
       "      <td>0</td>\n",
       "      <td>0</td>\n",
       "      <td>0</td>\n",
       "    </tr>\n",
       "    <tr>\n",
       "      <th>7</th>\n",
       "      <td>125000.0</td>\n",
       "      <td>0</td>\n",
       "      <td>0</td>\n",
       "      <td>0</td>\n",
       "      <td>0</td>\n",
       "      <td>1</td>\n",
       "      <td>0</td>\n",
       "      <td>0</td>\n",
       "      <td>1</td>\n",
       "      <td>0</td>\n",
       "      <td>1</td>\n",
       "      <td>1</td>\n",
       "      <td>0</td>\n",
       "      <td>0</td>\n",
       "      <td>0</td>\n",
       "    </tr>\n",
       "  </tbody>\n",
       "</table>\n",
       "</div>"
      ],
      "text/plain": [
       "     salary  skills_ C++  skills_Django  skills_Java  skills_JavaScript  \\\n",
       "0  150000.0            0              0            0                  0   \n",
       "1  180000.0            1              0            1                  0   \n",
       "2  150000.0            0              0            0                  0   \n",
       "3  130000.0            0              0            0                  0   \n",
       "4  110000.0            0              1            0                  0   \n",
       "5  120000.0            0              0            0                  1   \n",
       "6  135000.0            0              0            0                  0   \n",
       "7  125000.0            0              0            0                  0   \n",
       "\n",
       "   skills_Python  skills_R  skills_React  skills_SQL  skills_Tableau  \\\n",
       "0              0         0             0           0               0   \n",
       "1              0         0             0           0               0   \n",
       "2              1         0             0           1               1   \n",
       "3              0         0             0           0               0   \n",
       "4              0         0             1           0               0   \n",
       "5              1         0             0           0               0   \n",
       "6              0         1             0           1               0   \n",
       "7              1         0             0           1               0   \n",
       "\n",
       "   department_IT  job_data scientist  job_frontend developer  job_manager  \\\n",
       "0              0                   0                       0            1   \n",
       "1              1                   0                       0            1   \n",
       "2              1                   1                       0            0   \n",
       "3              0                   0                       0            0   \n",
       "4              1                   0                       0            0   \n",
       "5              1                   0                       1            0   \n",
       "6              1                   1                       0            0   \n",
       "7              1                   1                       0            0   \n",
       "\n",
       "   job_recruiter  \n",
       "0              0  \n",
       "1              0  \n",
       "2              0  \n",
       "3              1  \n",
       "4              0  \n",
       "5              0  \n",
       "6              0  \n",
       "7              0  "
      ]
     },
     "execution_count": 62,
     "metadata": {},
     "output_type": "execute_result"
    }
   ],
   "source": [
    "df_final = pd.get_dummies(df_final, drop_first = True)\n",
    "df_final"
   ]
  },
  {
   "cell_type": "code",
   "execution_count": 63,
   "metadata": {
    "id": "RsfZojumAgba",
    "outputId": "6cf4415d-cf33-4491-e00e-784b02bee94f"
   },
   "outputs": [
    {
     "data": {
      "text/html": [
       "<div>\n",
       "<style scoped>\n",
       "    .dataframe tbody tr th:only-of-type {\n",
       "        vertical-align: middle;\n",
       "    }\n",
       "\n",
       "    .dataframe tbody tr th {\n",
       "        vertical-align: top;\n",
       "    }\n",
       "\n",
       "    .dataframe thead th {\n",
       "        text-align: right;\n",
       "    }\n",
       "</style>\n",
       "<table border=\"1\" class=\"dataframe\">\n",
       "  <thead>\n",
       "    <tr style=\"text-align: right;\">\n",
       "      <th></th>\n",
       "      <th>id_product</th>\n",
       "      <th>order_date</th>\n",
       "      <th>product_quantity</th>\n",
       "      <th>product_price</th>\n",
       "      <th>entry_date</th>\n",
       "    </tr>\n",
       "  </thead>\n",
       "  <tbody>\n",
       "    <tr>\n",
       "      <th>0</th>\n",
       "      <td>401</td>\n",
       "      <td>2021-01-23</td>\n",
       "      <td>1.0</td>\n",
       "      <td>541.487603</td>\n",
       "      <td>2018-12-04</td>\n",
       "    </tr>\n",
       "    <tr>\n",
       "      <th>1</th>\n",
       "      <td>416</td>\n",
       "      <td>2020-04-02</td>\n",
       "      <td>1.0</td>\n",
       "      <td>131.181818</td>\n",
       "      <td>2018-12-04</td>\n",
       "    </tr>\n",
       "    <tr>\n",
       "      <th>2</th>\n",
       "      <td>717</td>\n",
       "      <td>2019-03-10</td>\n",
       "      <td>1.0</td>\n",
       "      <td>2035.488500</td>\n",
       "      <td>2018-12-04</td>\n",
       "    </tr>\n",
       "    <tr>\n",
       "      <th>3</th>\n",
       "      <td>778</td>\n",
       "      <td>2019-12-27</td>\n",
       "      <td>1.0</td>\n",
       "      <td>335.988000</td>\n",
       "      <td>2018-12-04</td>\n",
       "    </tr>\n",
       "    <tr>\n",
       "      <th>4</th>\n",
       "      <td>826</td>\n",
       "      <td>2020-02-19</td>\n",
       "      <td>1.0</td>\n",
       "      <td>342.292302</td>\n",
       "      <td>2018-12-04</td>\n",
       "    </tr>\n",
       "  </tbody>\n",
       "</table>\n",
       "</div>"
      ],
      "text/plain": [
       "   id_product  order_date  product_quantity  product_price  entry_date\n",
       "0         401  2021-01-23               1.0     541.487603  2018-12-04\n",
       "1         416  2020-04-02               1.0     131.181818  2018-12-04\n",
       "2         717  2019-03-10               1.0    2035.488500  2018-12-04\n",
       "3         778  2019-12-27               1.0     335.988000  2018-12-04\n",
       "4         826  2020-02-19               1.0     342.292302  2018-12-04"
      ]
     },
     "execution_count": 63,
     "metadata": {},
     "output_type": "execute_result"
    }
   ],
   "source": [
    "# pd.read_csv(\"time_exercise.csv\", parse_dates=[\"entry_date\", \"order_date\"]\n",
    "\n",
    "df = pd.read_csv(\"time_exercise.csv\")\n",
    "df.head()"
   ]
  },
  {
   "cell_type": "code",
   "execution_count": 64,
   "metadata": {
    "id": "RmufYcZmAgba",
    "outputId": "48ddee4f-ba51-4a4e-f3a4-e3e6ba74183a",
    "scrolled": true
   },
   "outputs": [
    {
     "name": "stdout",
     "output_type": "stream",
     "text": [
      "<class 'pandas.core.frame.DataFrame'>\n",
      "RangeIndex: 911 entries, 0 to 910\n",
      "Data columns (total 5 columns):\n",
      " #   Column            Non-Null Count  Dtype  \n",
      "---  ------            --------------  -----  \n",
      " 0   id_product        911 non-null    int64  \n",
      " 1   order_date        911 non-null    object \n",
      " 2   product_quantity  911 non-null    float64\n",
      " 3   product_price     911 non-null    float64\n",
      " 4   entry_date        911 non-null    object \n",
      "dtypes: float64(2), int64(1), object(2)\n",
      "memory usage: 35.7+ KB\n"
     ]
    }
   ],
   "source": [
    "df.info()"
   ]
  },
  {
   "cell_type": "code",
   "execution_count": 65,
   "metadata": {
    "id": "CSxLDEtQAgba",
    "outputId": "0837ba59-75e5-4d86-dce2-6692d19942c1"
   },
   "outputs": [
    {
     "data": {
      "text/plain": [
       "0      2021-01-23\n",
       "1      2020-04-02\n",
       "2      2019-03-10\n",
       "3      2019-12-27\n",
       "4      2020-02-19\n",
       "          ...    \n",
       "906    2020-11-24\n",
       "907    2020-11-24\n",
       "908    2020-11-22\n",
       "909    2021-01-26\n",
       "910    2020-12-06\n",
       "Name: order_date, Length: 911, dtype: object"
      ]
     },
     "execution_count": 65,
     "metadata": {},
     "output_type": "execute_result"
    }
   ],
   "source": [
    "df[\"order_date\"]"
   ]
  },
  {
   "cell_type": "code",
   "execution_count": 66,
   "metadata": {
    "id": "rbu9ZlteAgba",
    "outputId": "f2c4632f-38ed-40a1-fb48-0d04c3d55b46"
   },
   "outputs": [
    {
     "data": {
      "text/plain": [
       "0     2021-01-23\n",
       "1     2020-04-02\n",
       "2     2019-03-10\n",
       "3     2019-12-27\n",
       "4     2020-02-19\n",
       "         ...    \n",
       "906   2020-11-24\n",
       "907   2020-11-24\n",
       "908   2020-11-22\n",
       "909   2021-01-26\n",
       "910   2020-12-06\n",
       "Name: order_date, Length: 911, dtype: datetime64[ns]"
      ]
     },
     "execution_count": 66,
     "metadata": {},
     "output_type": "execute_result"
    }
   ],
   "source": [
    "pd.to_datetime(df[\"order_date\"])"
   ]
  },
  {
   "cell_type": "code",
   "execution_count": 67,
   "metadata": {
    "id": "hcvpAi_DAgbb"
   },
   "outputs": [],
   "source": [
    "df[\"entry_date\"] = pd.to_datetime(df[\"entry_date\"])\n",
    "df[\"order_date\"] = pd.to_datetime(df[\"order_date\"])"
   ]
  },
  {
   "cell_type": "code",
   "execution_count": 68,
   "metadata": {
    "id": "Do_MlUJ8Agbb",
    "outputId": "33cf9f50-ade1-4330-c71d-a5b2e836af5f"
   },
   "outputs": [
    {
     "data": {
      "text/html": [
       "<div>\n",
       "<style scoped>\n",
       "    .dataframe tbody tr th:only-of-type {\n",
       "        vertical-align: middle;\n",
       "    }\n",
       "\n",
       "    .dataframe tbody tr th {\n",
       "        vertical-align: top;\n",
       "    }\n",
       "\n",
       "    .dataframe thead th {\n",
       "        text-align: right;\n",
       "    }\n",
       "</style>\n",
       "<table border=\"1\" class=\"dataframe\">\n",
       "  <thead>\n",
       "    <tr style=\"text-align: right;\">\n",
       "      <th></th>\n",
       "      <th>id_product</th>\n",
       "      <th>order_date</th>\n",
       "      <th>product_quantity</th>\n",
       "      <th>product_price</th>\n",
       "      <th>entry_date</th>\n",
       "    </tr>\n",
       "  </thead>\n",
       "  <tbody>\n",
       "    <tr>\n",
       "      <th>0</th>\n",
       "      <td>401</td>\n",
       "      <td>2021-01-23</td>\n",
       "      <td>1.0</td>\n",
       "      <td>541.487603</td>\n",
       "      <td>2018-12-04</td>\n",
       "    </tr>\n",
       "    <tr>\n",
       "      <th>1</th>\n",
       "      <td>416</td>\n",
       "      <td>2020-04-02</td>\n",
       "      <td>1.0</td>\n",
       "      <td>131.181818</td>\n",
       "      <td>2018-12-04</td>\n",
       "    </tr>\n",
       "    <tr>\n",
       "      <th>2</th>\n",
       "      <td>717</td>\n",
       "      <td>2019-03-10</td>\n",
       "      <td>1.0</td>\n",
       "      <td>2035.488500</td>\n",
       "      <td>2018-12-04</td>\n",
       "    </tr>\n",
       "    <tr>\n",
       "      <th>3</th>\n",
       "      <td>778</td>\n",
       "      <td>2019-12-27</td>\n",
       "      <td>1.0</td>\n",
       "      <td>335.988000</td>\n",
       "      <td>2018-12-04</td>\n",
       "    </tr>\n",
       "    <tr>\n",
       "      <th>4</th>\n",
       "      <td>826</td>\n",
       "      <td>2020-02-19</td>\n",
       "      <td>1.0</td>\n",
       "      <td>342.292302</td>\n",
       "      <td>2018-12-04</td>\n",
       "    </tr>\n",
       "  </tbody>\n",
       "</table>\n",
       "</div>"
      ],
      "text/plain": [
       "   id_product order_date  product_quantity  product_price entry_date\n",
       "0         401 2021-01-23               1.0     541.487603 2018-12-04\n",
       "1         416 2020-04-02               1.0     131.181818 2018-12-04\n",
       "2         717 2019-03-10               1.0    2035.488500 2018-12-04\n",
       "3         778 2019-12-27               1.0     335.988000 2018-12-04\n",
       "4         826 2020-02-19               1.0     342.292302 2018-12-04"
      ]
     },
     "execution_count": 68,
     "metadata": {},
     "output_type": "execute_result"
    }
   ],
   "source": [
    "df.head()"
   ]
  },
  {
   "cell_type": "code",
   "execution_count": 69,
   "metadata": {
    "id": "UQ2FUP8bAgbb",
    "outputId": "5c48ba19-191c-46cb-d53a-7179a71d0a37",
    "scrolled": true
   },
   "outputs": [
    {
     "name": "stdout",
     "output_type": "stream",
     "text": [
      "<class 'pandas.core.frame.DataFrame'>\n",
      "RangeIndex: 911 entries, 0 to 910\n",
      "Data columns (total 5 columns):\n",
      " #   Column            Non-Null Count  Dtype         \n",
      "---  ------            --------------  -----         \n",
      " 0   id_product        911 non-null    int64         \n",
      " 1   order_date        911 non-null    datetime64[ns]\n",
      " 2   product_quantity  911 non-null    float64       \n",
      " 3   product_price     911 non-null    float64       \n",
      " 4   entry_date        911 non-null    datetime64[ns]\n",
      "dtypes: datetime64[ns](2), float64(2), int64(1)\n",
      "memory usage: 35.7 KB\n"
     ]
    }
   ],
   "source": [
    "df.info()"
   ]
  },
  {
   "cell_type": "markdown",
   "metadata": {},
   "source": [
    "Now let's apply some aggregate methods for Datatime object at the given dataset:"
   ]
  },
  {
   "cell_type": "code",
   "execution_count": 70,
   "metadata": {
    "id": "N4uQfqKCAgbb",
    "outputId": "b08182d4-992e-421b-bb81-48487f79b3cf"
   },
   "outputs": [
    {
     "data": {
      "text/plain": [
       "Timestamp('2018-12-04 00:00:00')"
      ]
     },
     "execution_count": 70,
     "metadata": {},
     "output_type": "execute_result"
    }
   ],
   "source": [
    "df.entry_date.min()"
   ]
  },
  {
   "cell_type": "code",
   "execution_count": 71,
   "metadata": {
    "id": "qdKM3kmKAgbb",
    "outputId": "b934afa1-5450-4f07-ce03-d2c685609357"
   },
   "outputs": [
    {
     "data": {
      "text/plain": [
       "Timestamp('2020-11-26 00:00:00')"
      ]
     },
     "execution_count": 71,
     "metadata": {},
     "output_type": "execute_result"
    }
   ],
   "source": [
    "df.entry_date.max()"
   ]
  },
  {
   "cell_type": "code",
   "execution_count": 72,
   "metadata": {},
   "outputs": [
    {
     "data": {
      "text/plain": [
       "Timedelta('723 days 00:00:00')"
      ]
     },
     "execution_count": 72,
     "metadata": {},
     "output_type": "execute_result"
    }
   ],
   "source": [
    "df.entry_date.max() - df.entry_date.min()"
   ]
  },
  {
   "cell_type": "code",
   "execution_count": 73,
   "metadata": {
    "id": "C1kNKskpAgbc",
    "outputId": "86cc02c1-99c1-4293-c597-b4f429b701d4"
   },
   "outputs": [
    {
     "data": {
      "text/plain": [
       "0    15-03-2020\n",
       "1    18-05-2019\n",
       "2    24-07-2018\n",
       "dtype: object"
      ]
     },
     "execution_count": 73,
     "metadata": {},
     "output_type": "execute_result"
    }
   ],
   "source": [
    "a = pd.Series([\"15-03-2020\", \"18-05-2019\", \"24-07-2018\"])\n",
    "a"
   ]
  },
  {
   "cell_type": "code",
   "execution_count": 74,
   "metadata": {
    "id": "oFoFiNMPAgbc",
    "outputId": "d38a3b1a-3c0d-47c9-a760-25f8733c7631"
   },
   "outputs": [
    {
     "data": {
      "text/plain": [
       "'24-07-2018'"
      ]
     },
     "execution_count": 74,
     "metadata": {},
     "output_type": "execute_result"
    }
   ],
   "source": [
    "a.max()"
   ]
  },
  {
   "cell_type": "code",
   "execution_count": 75,
   "metadata": {},
   "outputs": [],
   "source": [
    "# a.max() - a.min()\n",
    "\n",
    "# # Give an error of \"TypeError: unsupported operand type(s) for -: 'str' and 'str'\"\""
   ]
  },
  {
   "cell_type": "code",
   "execution_count": 76,
   "metadata": {
    "id": "FmOfhTySAgbc",
    "outputId": "78f40ee6-a146-446a-b154-ba370d6858c7"
   },
   "outputs": [
    {
     "data": {
      "text/plain": [
       "0   2020-03-15\n",
       "1   2019-05-18\n",
       "2   2018-07-24\n",
       "dtype: datetime64[ns]"
      ]
     },
     "execution_count": 76,
     "metadata": {},
     "output_type": "execute_result"
    }
   ],
   "source": [
    "pd.to_datetime(a, format='%d-%m-%Y')"
   ]
  },
  {
   "cell_type": "code",
   "execution_count": 77,
   "metadata": {},
   "outputs": [
    {
     "data": {
      "text/plain": [
       "0   2020-03-15\n",
       "1   2019-05-18\n",
       "2   2018-07-24\n",
       "dtype: datetime64[ns]"
      ]
     },
     "execution_count": 77,
     "metadata": {},
     "output_type": "execute_result"
    }
   ],
   "source": [
    "a = pd.to_datetime(a, format='%d-%m-%Y')\n",
    "a"
   ]
  },
  {
   "cell_type": "code",
   "execution_count": 78,
   "metadata": {
    "id": "tdK7OQGiAgbd",
    "outputId": "0621a6aa-0dd9-4769-aadd-d1076815c1a3"
   },
   "outputs": [
    {
     "data": {
      "text/plain": [
       "Timestamp('2020-03-15 00:00:00')"
      ]
     },
     "execution_count": 78,
     "metadata": {},
     "output_type": "execute_result"
    }
   ],
   "source": [
    "k = pd.to_datetime(a, format='%d-%m-%Y').max()\n",
    "k"
   ]
  },
  {
   "cell_type": "code",
   "execution_count": 79,
   "metadata": {},
   "outputs": [
    {
     "data": {
      "text/plain": [
       "Timestamp('2018-07-24 00:00:00')"
      ]
     },
     "execution_count": 79,
     "metadata": {},
     "output_type": "execute_result"
    }
   ],
   "source": [
    "s = pd.to_datetime(a, format='%d-%m-%Y').min()\n",
    "s"
   ]
  },
  {
   "cell_type": "code",
   "execution_count": 80,
   "metadata": {},
   "outputs": [
    {
     "data": {
      "text/plain": [
       "Timedelta('600 days 00:00:00')"
      ]
     },
     "execution_count": 80,
     "metadata": {},
     "output_type": "execute_result"
    }
   ],
   "source": [
    "k - s"
   ]
  },
  {
   "cell_type": "code",
   "execution_count": 81,
   "metadata": {
    "id": "Zo4TbzygAgbd",
    "outputId": "890366a6-e3ec-4fd6-96bf-4aa606e11bc9"
   },
   "outputs": [
    {
     "data": {
      "text/plain": [
       "0      2018\n",
       "1      2018\n",
       "2      2018\n",
       "3      2018\n",
       "4      2018\n",
       "       ... \n",
       "906    2020\n",
       "907    2020\n",
       "908    2020\n",
       "909    2020\n",
       "910    2020\n",
       "Name: entry_date, Length: 911, dtype: int64"
      ]
     },
     "execution_count": 81,
     "metadata": {},
     "output_type": "execute_result"
    }
   ],
   "source": [
    "df[\"entry_date\"].dt.year \n",
    "\n",
    "# it can be date, year, quarter, month, week, day, weekday, dayofweek, hour, minute, second, microsecond  "
   ]
  },
  {
   "cell_type": "code",
   "execution_count": 82,
   "metadata": {
    "id": "XshBg-z3Agbe",
    "outputId": "9f0028ff-15c4-4f7d-b384-f9c1423927cf"
   },
   "outputs": [
    {
     "data": {
      "text/plain": [
       "0      4\n",
       "1      4\n",
       "2      4\n",
       "3      4\n",
       "4      4\n",
       "      ..\n",
       "906    4\n",
       "907    4\n",
       "908    4\n",
       "909    4\n",
       "910    4\n",
       "Name: entry_date, Length: 911, dtype: int64"
      ]
     },
     "execution_count": 82,
     "metadata": {},
     "output_type": "execute_result"
    }
   ],
   "source": [
    "df.entry_date.dt.quarter"
   ]
  },
  {
   "cell_type": "code",
   "execution_count": 83,
   "metadata": {
    "id": "9k04TpnnAgbe",
    "outputId": "b60e05e0-87c9-4be7-e6e4-ee1949c5c8c2"
   },
   "outputs": [
    {
     "data": {
      "text/plain": [
       "0      1\n",
       "1      1\n",
       "2      1\n",
       "3      1\n",
       "4      1\n",
       "      ..\n",
       "906    2\n",
       "907    2\n",
       "908    4\n",
       "909    1\n",
       "910    3\n",
       "Name: entry_date, Length: 911, dtype: int64"
      ]
     },
     "execution_count": 83,
     "metadata": {},
     "output_type": "execute_result"
    }
   ],
   "source": [
    "df.entry_date.dt.dayofweek"
   ]
  },
  {
   "cell_type": "code",
   "execution_count": 84,
   "metadata": {
    "id": "8h8dEpGXAgbf"
   },
   "outputs": [],
   "source": [
    "from datetime import datetime"
   ]
  },
  {
   "cell_type": "code",
   "execution_count": 85,
   "metadata": {
    "id": "c0ixvLTdAgbf",
    "outputId": "1bba42ec-f601-46ae-8b6d-5bdb65386ac7"
   },
   "outputs": [
    {
     "data": {
      "text/plain": [
       "datetime.datetime(2022, 9, 1, 8, 21, 0, 354847)"
      ]
     },
     "execution_count": 85,
     "metadata": {},
     "output_type": "execute_result"
    }
   ],
   "source": [
    "datetime.now()"
   ]
  },
  {
   "cell_type": "code",
   "execution_count": 86,
   "metadata": {
    "id": "sDnraMYlAgbf",
    "outputId": "ce62bf5f-232b-461b-872d-6530a0848b61"
   },
   "outputs": [
    {
     "name": "stdout",
     "output_type": "stream",
     "text": [
      "2022-09-01 08:21:00.453884\n"
     ]
    }
   ],
   "source": [
    "print(datetime.now())"
   ]
  },
  {
   "cell_type": "code",
   "execution_count": 87,
   "metadata": {
    "id": "Ctk18EO1Agbf",
    "outputId": "1b1d0144-b858-4657-e674-1db52772db5d"
   },
   "outputs": [
    {
     "name": "stdout",
     "output_type": "stream",
     "text": [
      "2022-09-01 08:21:00.595433\n"
     ]
    }
   ],
   "source": [
    "print(datetime.today())"
   ]
  },
  {
   "cell_type": "code",
   "execution_count": 88,
   "metadata": {
    "id": "ykHDEMtIAgbg",
    "outputId": "93fdc8d9-5a0f-4b8b-e661-8b8685a3df10"
   },
   "outputs": [
    {
     "name": "stdout",
     "output_type": "stream",
     "text": [
      "2022-09-01 08:21:00.680265\n"
     ]
    }
   ],
   "source": [
    "current_datetime = datetime.now()\n",
    "\n",
    "print(current_datetime)"
   ]
  },
  {
   "cell_type": "code",
   "execution_count": 89,
   "metadata": {
    "id": "5srBVP05Agbg",
    "outputId": "c43128ab-0ef0-435d-9f45-7868c6effadf"
   },
   "outputs": [
    {
     "data": {
      "text/plain": [
       "datetime.date(2022, 9, 1)"
      ]
     },
     "execution_count": 89,
     "metadata": {},
     "output_type": "execute_result"
    }
   ],
   "source": [
    "current_datetime.date() \n",
    "\n",
    "# it can be date, year, month, day, weekday, isoweekday, hour, minute, second, microsecond, tzinfo "
   ]
  },
  {
   "cell_type": "code",
   "execution_count": 90,
   "metadata": {
    "id": "59L4kswpAgbg",
    "outputId": "f65d8ba0-ffb0-4654-edba-6199e3079fbd"
   },
   "outputs": [
    {
     "data": {
      "text/plain": [
       "2022"
      ]
     },
     "execution_count": 90,
     "metadata": {},
     "output_type": "execute_result"
    }
   ],
   "source": [
    "current_datetime.year"
   ]
  },
  {
   "cell_type": "code",
   "execution_count": 91,
   "metadata": {
    "id": "axdFCvlqAgbg",
    "outputId": "4265f7c8-f9b4-4ce3-a2d8-08b2f52ee876"
   },
   "outputs": [
    {
     "data": {
      "text/plain": [
       "3"
      ]
     },
     "execution_count": 91,
     "metadata": {},
     "output_type": "execute_result"
    }
   ],
   "source": [
    "current_datetime.weekday() \n",
    "\n",
    "# Return the day of the week as an integer, where Monday is 0 and Sunday is 6."
   ]
  },
  {
   "cell_type": "code",
   "execution_count": 92,
   "metadata": {
    "id": "zEev3QaAAgbh",
    "outputId": "c0cd497f-35f8-427f-eefb-bcaa0a718624"
   },
   "outputs": [
    {
     "data": {
      "text/plain": [
       "4"
      ]
     },
     "execution_count": 92,
     "metadata": {},
     "output_type": "execute_result"
    }
   ],
   "source": [
    "current_datetime.isoweekday() \n",
    "\n",
    "# Return the day of the week as an integer, where Monday is 1 and Sunday is 7."
   ]
  },
  {
   "cell_type": "code",
   "execution_count": 93,
   "metadata": {
    "id": "Png7K7IxAgbh"
   },
   "outputs": [],
   "source": [
    "from datetime import timedelta"
   ]
  },
  {
   "cell_type": "code",
   "execution_count": 94,
   "metadata": {
    "id": "wg8E2F9fAgbi",
    "outputId": "c4e4ff41-75b8-4c3c-cefc-89e63497fd50"
   },
   "outputs": [
    {
     "data": {
      "text/plain": [
       "datetime.timedelta(days=2)"
      ]
     },
     "execution_count": 94,
     "metadata": {},
     "output_type": "execute_result"
    }
   ],
   "source": [
    "timedelta(days=2)"
   ]
  },
  {
   "cell_type": "code",
   "execution_count": 95,
   "metadata": {
    "id": "zroV7fqxAgbi",
    "outputId": "4b220d7f-3471-4170-f439-e3e40ef34edd"
   },
   "outputs": [
    {
     "name": "stdout",
     "output_type": "stream",
     "text": [
      "2 days, 0:00:00\n"
     ]
    }
   ],
   "source": [
    "print(timedelta(days=2))"
   ]
  },
  {
   "cell_type": "code",
   "execution_count": 96,
   "metadata": {
    "id": "luo_qUd0Agbi",
    "outputId": "d02b127e-4c10-4fb5-f0c5-3c3f004a9b77"
   },
   "outputs": [
    {
     "data": {
      "text/plain": [
       "datetime.datetime(2022, 9, 1, 8, 21, 0, 680265)"
      ]
     },
     "execution_count": 96,
     "metadata": {},
     "output_type": "execute_result"
    }
   ],
   "source": [
    "current_datetime"
   ]
  },
  {
   "cell_type": "code",
   "execution_count": 97,
   "metadata": {
    "id": "i-llLd4AAgbj",
    "outputId": "65508d40-e94e-4e36-8fec-ee21232bcc05"
   },
   "outputs": [
    {
     "data": {
      "text/plain": [
       "datetime.datetime(2022, 8, 30, 8, 21, 0, 680265)"
      ]
     },
     "execution_count": 97,
     "metadata": {},
     "output_type": "execute_result"
    }
   ],
   "source": [
    "two_days_before = current_datetime - timedelta(days=2)\n",
    "two_days_before"
   ]
  },
  {
   "cell_type": "code",
   "execution_count": 98,
   "metadata": {
    "id": "15Oyc94eAgbj",
    "outputId": "56476576-365f-45b1-84ef-a8a35e252291"
   },
   "outputs": [
    {
     "data": {
      "text/plain": [
       "datetime.datetime(2022, 9, 18, 12, 31, 0, 680265)"
      ]
     },
     "execution_count": 98,
     "metadata": {},
     "output_type": "execute_result"
    }
   ],
   "source": [
    "current_datetime + timedelta(weeks=2, days=3, hours=4, minutes=10)"
   ]
  },
  {
   "cell_type": "code",
   "execution_count": 99,
   "metadata": {
    "id": "TXjE5tegAgbj",
    "outputId": "5db56059-7a6d-4e69-9bb4-48f95815f7a7"
   },
   "outputs": [
    {
     "name": "stdout",
     "output_type": "stream",
     "text": [
      "current_date    2022-09-01 08:21:00.680265\n",
      "plus            14 days, 4:10:00\n",
      "total           2022-09-18 12:31:00.680265\n"
     ]
    }
   ],
   "source": [
    "print(f\"{'current_date': <15}\", current_datetime)\n",
    "\n",
    "print(f\"{'plus': <15}\", timedelta(weeks=2, hours=4, minutes=10))\n",
    "\n",
    "print(f\"{'total': <15}\", current_datetime + timedelta(weeks=2, days=3, hours=4, minutes=10))"
   ]
  },
  {
   "cell_type": "code",
   "execution_count": 100,
   "metadata": {
    "id": "gGRCO7cHAgbk",
    "outputId": "0d6f9d7f-500d-42c8-bbfe-c62a3099242d"
   },
   "outputs": [
    {
     "data": {
      "text/plain": [
       "datetime.datetime(2022, 9, 1, 8, 21, 0, 680265)"
      ]
     },
     "execution_count": 100,
     "metadata": {},
     "output_type": "execute_result"
    }
   ],
   "source": [
    "current_datetime"
   ]
  },
  {
   "cell_type": "code",
   "execution_count": 101,
   "metadata": {
    "id": "fPS-2MP9Agbk",
    "outputId": "7f017741-c6fd-4797-d777-81a30eccffb8"
   },
   "outputs": [
    {
     "name": "stdout",
     "output_type": "stream",
     "text": [
      "2022-09-01 08:21:00.680265\n"
     ]
    }
   ],
   "source": [
    "print(current_datetime)"
   ]
  },
  {
   "cell_type": "code",
   "execution_count": 102,
   "metadata": {},
   "outputs": [
    {
     "data": {
      "text/plain": [
       "2022"
      ]
     },
     "execution_count": 102,
     "metadata": {},
     "output_type": "execute_result"
    }
   ],
   "source": [
    "current_datetime.year"
   ]
  },
  {
   "cell_type": "code",
   "execution_count": 103,
   "metadata": {},
   "outputs": [
    {
     "data": {
      "text/plain": [
       "int"
      ]
     },
     "execution_count": 103,
     "metadata": {},
     "output_type": "execute_result"
    }
   ],
   "source": [
    "type(current_datetime.year)  # This is class datetime.datetime provided by Datetime Module"
   ]
  },
  {
   "cell_type": "code",
   "execution_count": 104,
   "metadata": {
    "id": "tbczih7VAgbk",
    "outputId": "5d069c60-a25e-4428-b3b8-f57335132e8c"
   },
   "outputs": [
    {
     "data": {
      "text/plain": [
       "'2022'"
      ]
     },
     "execution_count": 104,
     "metadata": {},
     "output_type": "execute_result"
    }
   ],
   "source": [
    "current_datetime.strftime(\"%Y\")  # This is a strftime(format) method provided by Datetime Module"
   ]
  },
  {
   "cell_type": "code",
   "execution_count": 105,
   "metadata": {},
   "outputs": [
    {
     "data": {
      "text/plain": [
       "str"
      ]
     },
     "execution_count": 105,
     "metadata": {},
     "output_type": "execute_result"
    }
   ],
   "source": [
    "type(current_datetime.strftime(\"%Y\"))"
   ]
  },
  {
   "cell_type": "code",
   "execution_count": 106,
   "metadata": {
    "id": "RuHe4ZVFAgbk",
    "outputId": "8b2f1f06-bd4d-4322-a55f-68903deb9090"
   },
   "outputs": [
    {
     "name": "stdout",
     "output_type": "stream",
     "text": [
      "year: 2022\n",
      "year's type is: <class 'str'> \n",
      "\n",
      "month: 09\n",
      "month's type is: <class 'str'> \n",
      "\n",
      "day: 01\n",
      "day's type is: <class 'str'> \n",
      "\n",
      "time: 08:21:00\n",
      "time's type is: <class 'str'> \n",
      "\n",
      "date and time: 09/01/2022, 08:21:00\n",
      "date_time's type is: <class 'str'> \n",
      "\n"
     ]
    }
   ],
   "source": [
    "year = current_datetime.strftime(\"%Y\")\n",
    "print(\"year:\", year)\n",
    "print(\"year's type is:\", type(year), \"\\n\")\n",
    "\n",
    "month = current_datetime.strftime(\"%m\")\n",
    "print(\"month:\", month)\n",
    "print(\"month's type is:\", type(month), \"\\n\")\n",
    "\n",
    "day = current_datetime.strftime(\"%d\")\n",
    "print(\"day:\", day)\n",
    "print(\"day's type is:\", type(day), \"\\n\")\n",
    "\n",
    "time = current_datetime.strftime(\"%H:%M:%S\")\n",
    "print(\"time:\", time)\n",
    "print(\"time's type is:\", type(time), \"\\n\")\n",
    "\n",
    "date_time = current_datetime.strftime(\"%m/%d/%Y, %H:%M:%S\")\n",
    "print(\"date and time:\", date_time)\n",
    "print(\"date_time's type is:\", type(date_time), \"\\n\")"
   ]
  },
  {
   "cell_type": "markdown",
   "metadata": {
    "id": "N95SRJrdAgbl"
   },
   "source": [
    "### [strptime()](https://docs.python.org/3/library/datetime.html)\n",
    "\n",
    "**Converting** from string type **to datetime object**"
   ]
  },
  {
   "cell_type": "code",
   "execution_count": 107,
   "metadata": {
    "id": "EjZffScrAgbl",
    "outputId": "ae48a780-cf7f-4c6f-aceb-13c94cbd31a3"
   },
   "outputs": [
    {
     "data": {
      "text/plain": [
       "'21 June, 2018'"
      ]
     },
     "execution_count": 107,
     "metadata": {},
     "output_type": "execute_result"
    }
   ],
   "source": [
    "date_string = \"21 June, 2018\"\n",
    "date_string"
   ]
  },
  {
   "cell_type": "code",
   "execution_count": 108,
   "metadata": {
    "id": "ij8nVxsNAgbl",
    "outputId": "c0e3ec48-d0b7-4971-91e1-c5366872a583"
   },
   "outputs": [
    {
     "data": {
      "text/plain": [
       "datetime.datetime(2018, 6, 21, 0, 0)"
      ]
     },
     "execution_count": 108,
     "metadata": {},
     "output_type": "execute_result"
    }
   ],
   "source": [
    "datetime.strptime(date_string, \"%d %B, %Y\")\n",
    "\n",
    "#datetime.strptime(date_string) # gives an error"
   ]
  },
  {
   "cell_type": "code",
   "execution_count": 109,
   "metadata": {
    "id": "KJEoBpAUAgbl",
    "outputId": "50ae0479-0052-40fb-f786-1f3bd45ab491"
   },
   "outputs": [
    {
     "data": {
      "text/plain": [
       "Timestamp('2018-06-21 00:00:00')"
      ]
     },
     "execution_count": 109,
     "metadata": {},
     "output_type": "execute_result"
    }
   ],
   "source": [
    "pd.to_datetime(date_string)"
   ]
  },
  {
   "cell_type": "code",
   "execution_count": 110,
   "metadata": {
    "id": "cgxoZ7hMAgbm",
    "outputId": "98fb0dc0-5a4d-4bff-abe6-00acbe0267ea"
   },
   "outputs": [
    {
     "data": {
      "text/plain": [
       "datetime.datetime(2018, 6, 21, 0, 0)"
      ]
     },
     "execution_count": 110,
     "metadata": {},
     "output_type": "execute_result"
    }
   ],
   "source": [
    "datetime_object = datetime.strptime(date_string, \"%d %B, %Y\")\n",
    "datetime_object"
   ]
  },
  {
   "cell_type": "code",
   "execution_count": 111,
   "metadata": {},
   "outputs": [
    {
     "data": {
      "text/plain": [
       "datetime.datetime"
      ]
     },
     "execution_count": 111,
     "metadata": {},
     "output_type": "execute_result"
    }
   ],
   "source": [
    "type(datetime_object)"
   ]
  },
  {
   "cell_type": "code",
   "execution_count": 112,
   "metadata": {
    "id": "eGrHITqrAgbm",
    "outputId": "e065943a-29c3-427c-9cbb-7b543c4b1a01"
   },
   "outputs": [
    {
     "data": {
      "text/plain": [
       "2018"
      ]
     },
     "execution_count": 112,
     "metadata": {},
     "output_type": "execute_result"
    }
   ],
   "source": [
    "datetime_object.year"
   ]
  },
  {
   "cell_type": "code",
   "execution_count": 113,
   "metadata": {
    "id": "CKcY7U1qAgbn",
    "outputId": "7f8d874b-6a86-4eea-bae9-7a7b852f273e"
   },
   "outputs": [
    {
     "data": {
      "text/html": [
       "<div>\n",
       "<style scoped>\n",
       "    .dataframe tbody tr th:only-of-type {\n",
       "        vertical-align: middle;\n",
       "    }\n",
       "\n",
       "    .dataframe tbody tr th {\n",
       "        vertical-align: top;\n",
       "    }\n",
       "\n",
       "    .dataframe thead th {\n",
       "        text-align: right;\n",
       "    }\n",
       "</style>\n",
       "<table border=\"1\" class=\"dataframe\">\n",
       "  <thead>\n",
       "    <tr style=\"text-align: right;\">\n",
       "      <th></th>\n",
       "      <th>id_product</th>\n",
       "      <th>order_date</th>\n",
       "      <th>product_quantity</th>\n",
       "      <th>product_price</th>\n",
       "      <th>entry_date</th>\n",
       "    </tr>\n",
       "  </thead>\n",
       "  <tbody>\n",
       "    <tr>\n",
       "      <th>0</th>\n",
       "      <td>401</td>\n",
       "      <td>2021-01-23</td>\n",
       "      <td>1.0</td>\n",
       "      <td>541.487603</td>\n",
       "      <td>2018-12-04</td>\n",
       "    </tr>\n",
       "    <tr>\n",
       "      <th>1</th>\n",
       "      <td>416</td>\n",
       "      <td>2020-04-02</td>\n",
       "      <td>1.0</td>\n",
       "      <td>131.181818</td>\n",
       "      <td>2018-12-04</td>\n",
       "    </tr>\n",
       "    <tr>\n",
       "      <th>2</th>\n",
       "      <td>717</td>\n",
       "      <td>2019-03-10</td>\n",
       "      <td>1.0</td>\n",
       "      <td>2035.488500</td>\n",
       "      <td>2018-12-04</td>\n",
       "    </tr>\n",
       "    <tr>\n",
       "      <th>3</th>\n",
       "      <td>778</td>\n",
       "      <td>2019-12-27</td>\n",
       "      <td>1.0</td>\n",
       "      <td>335.988000</td>\n",
       "      <td>2018-12-04</td>\n",
       "    </tr>\n",
       "    <tr>\n",
       "      <th>4</th>\n",
       "      <td>826</td>\n",
       "      <td>2020-02-19</td>\n",
       "      <td>1.0</td>\n",
       "      <td>342.292302</td>\n",
       "      <td>2018-12-04</td>\n",
       "    </tr>\n",
       "    <tr>\n",
       "      <th>...</th>\n",
       "      <td>...</td>\n",
       "      <td>...</td>\n",
       "      <td>...</td>\n",
       "      <td>...</td>\n",
       "      <td>...</td>\n",
       "    </tr>\n",
       "    <tr>\n",
       "      <th>906</th>\n",
       "      <td>1536842</td>\n",
       "      <td>2020-11-24</td>\n",
       "      <td>1.0</td>\n",
       "      <td>1186.776860</td>\n",
       "      <td>2020-10-07</td>\n",
       "    </tr>\n",
       "    <tr>\n",
       "      <th>907</th>\n",
       "      <td>1536842</td>\n",
       "      <td>2020-11-24</td>\n",
       "      <td>1.0</td>\n",
       "      <td>1186.776860</td>\n",
       "      <td>2020-10-07</td>\n",
       "    </tr>\n",
       "    <tr>\n",
       "      <th>908</th>\n",
       "      <td>1536887</td>\n",
       "      <td>2020-11-22</td>\n",
       "      <td>1.0</td>\n",
       "      <td>0.000000</td>\n",
       "      <td>2020-11-13</td>\n",
       "    </tr>\n",
       "    <tr>\n",
       "      <th>909</th>\n",
       "      <td>1536952</td>\n",
       "      <td>2021-01-26</td>\n",
       "      <td>1.0</td>\n",
       "      <td>988.429752</td>\n",
       "      <td>2020-11-24</td>\n",
       "    </tr>\n",
       "    <tr>\n",
       "      <th>910</th>\n",
       "      <td>1536974</td>\n",
       "      <td>2020-12-06</td>\n",
       "      <td>1.0</td>\n",
       "      <td>0.000000</td>\n",
       "      <td>2020-11-26</td>\n",
       "    </tr>\n",
       "  </tbody>\n",
       "</table>\n",
       "<p>911 rows × 5 columns</p>\n",
       "</div>"
      ],
      "text/plain": [
       "     id_product order_date  product_quantity  product_price entry_date\n",
       "0           401 2021-01-23               1.0     541.487603 2018-12-04\n",
       "1           416 2020-04-02               1.0     131.181818 2018-12-04\n",
       "2           717 2019-03-10               1.0    2035.488500 2018-12-04\n",
       "3           778 2019-12-27               1.0     335.988000 2018-12-04\n",
       "4           826 2020-02-19               1.0     342.292302 2018-12-04\n",
       "..          ...        ...               ...            ...        ...\n",
       "906     1536842 2020-11-24               1.0    1186.776860 2020-10-07\n",
       "907     1536842 2020-11-24               1.0    1186.776860 2020-10-07\n",
       "908     1536887 2020-11-22               1.0       0.000000 2020-11-13\n",
       "909     1536952 2021-01-26               1.0     988.429752 2020-11-24\n",
       "910     1536974 2020-12-06               1.0       0.000000 2020-11-26\n",
       "\n",
       "[911 rows x 5 columns]"
      ]
     },
     "execution_count": 113,
     "metadata": {},
     "output_type": "execute_result"
    }
   ],
   "source": [
    "# Let's remember our df\n",
    "\n",
    "df"
   ]
  },
  {
   "cell_type": "code",
   "execution_count": 114,
   "metadata": {},
   "outputs": [
    {
     "name": "stdout",
     "output_type": "stream",
     "text": [
      "<class 'pandas.core.frame.DataFrame'>\n",
      "RangeIndex: 911 entries, 0 to 910\n",
      "Data columns (total 5 columns):\n",
      " #   Column            Non-Null Count  Dtype         \n",
      "---  ------            --------------  -----         \n",
      " 0   id_product        911 non-null    int64         \n",
      " 1   order_date        911 non-null    datetime64[ns]\n",
      " 2   product_quantity  911 non-null    float64       \n",
      " 3   product_price     911 non-null    float64       \n",
      " 4   entry_date        911 non-null    datetime64[ns]\n",
      "dtypes: datetime64[ns](2), float64(2), int64(1)\n",
      "memory usage: 35.7 KB\n"
     ]
    }
   ],
   "source": [
    "df.info()"
   ]
  },
  {
   "cell_type": "markdown",
   "metadata": {},
   "source": [
    "**Let us do it by string methods**"
   ]
  },
  {
   "cell_type": "code",
   "execution_count": 115,
   "metadata": {
    "id": "wOEBzezNAgbn",
    "outputId": "beee4e93-918a-481a-e840-a645ce807c23"
   },
   "outputs": [
    {
     "data": {
      "text/plain": [
       "0     781 days\n",
       "1     485 days\n",
       "2      96 days\n",
       "3     388 days\n",
       "4     442 days\n",
       "        ...   \n",
       "906    48 days\n",
       "907    48 days\n",
       "908     9 days\n",
       "909    63 days\n",
       "910    10 days\n",
       "Length: 911, dtype: timedelta64[ns]"
      ]
     },
     "execution_count": 115,
     "metadata": {},
     "output_type": "execute_result"
    }
   ],
   "source": [
    "df[\"order_date\"] - df[\"entry_date\"]"
   ]
  },
  {
   "cell_type": "code",
   "execution_count": 116,
   "metadata": {
    "id": "gZ_EXm6tAgbn"
   },
   "outputs": [
    {
     "data": {
      "text/html": [
       "<div>\n",
       "<style scoped>\n",
       "    .dataframe tbody tr th:only-of-type {\n",
       "        vertical-align: middle;\n",
       "    }\n",
       "\n",
       "    .dataframe tbody tr th {\n",
       "        vertical-align: top;\n",
       "    }\n",
       "\n",
       "    .dataframe thead th {\n",
       "        text-align: right;\n",
       "    }\n",
       "</style>\n",
       "<table border=\"1\" class=\"dataframe\">\n",
       "  <thead>\n",
       "    <tr style=\"text-align: right;\">\n",
       "      <th></th>\n",
       "      <th>id_product</th>\n",
       "      <th>order_date</th>\n",
       "      <th>product_quantity</th>\n",
       "      <th>product_price</th>\n",
       "      <th>entry_date</th>\n",
       "      <th>time_delta</th>\n",
       "    </tr>\n",
       "  </thead>\n",
       "  <tbody>\n",
       "    <tr>\n",
       "      <th>0</th>\n",
       "      <td>401</td>\n",
       "      <td>2021-01-23</td>\n",
       "      <td>1.0</td>\n",
       "      <td>541.487603</td>\n",
       "      <td>2018-12-04</td>\n",
       "      <td>781 days</td>\n",
       "    </tr>\n",
       "    <tr>\n",
       "      <th>1</th>\n",
       "      <td>416</td>\n",
       "      <td>2020-04-02</td>\n",
       "      <td>1.0</td>\n",
       "      <td>131.181818</td>\n",
       "      <td>2018-12-04</td>\n",
       "      <td>485 days</td>\n",
       "    </tr>\n",
       "    <tr>\n",
       "      <th>2</th>\n",
       "      <td>717</td>\n",
       "      <td>2019-03-10</td>\n",
       "      <td>1.0</td>\n",
       "      <td>2035.488500</td>\n",
       "      <td>2018-12-04</td>\n",
       "      <td>96 days</td>\n",
       "    </tr>\n",
       "  </tbody>\n",
       "</table>\n",
       "</div>"
      ],
      "text/plain": [
       "   id_product order_date  product_quantity  product_price entry_date  \\\n",
       "0         401 2021-01-23               1.0     541.487603 2018-12-04   \n",
       "1         416 2020-04-02               1.0     131.181818 2018-12-04   \n",
       "2         717 2019-03-10               1.0    2035.488500 2018-12-04   \n",
       "\n",
       "  time_delta  \n",
       "0   781 days  \n",
       "1   485 days  \n",
       "2    96 days  "
      ]
     },
     "execution_count": 116,
     "metadata": {},
     "output_type": "execute_result"
    }
   ],
   "source": [
    "df[\"time_delta\"] = df[\"order_date\"] - df[\"entry_date\"]\n",
    "df.head(3)"
   ]
  },
  {
   "cell_type": "code",
   "execution_count": 117,
   "metadata": {
    "id": "EkOMcRAMAgbo",
    "outputId": "821172bf-4f4a-48ab-ac83-976233d63c6e"
   },
   "outputs": [
    {
     "data": {
      "text/plain": [
       "0      781\n",
       "1      485\n",
       "2       96\n",
       "3      388\n",
       "4      442\n",
       "      ... \n",
       "906     48\n",
       "907     48\n",
       "908      9\n",
       "909     63\n",
       "910     10\n",
       "Name: time_delta, Length: 911, dtype: int32"
      ]
     },
     "execution_count": 117,
     "metadata": {},
     "output_type": "execute_result"
    }
   ],
   "source": [
    "df[\"time_delta\"].astype(\"str\").str.split(\" \").str[0].astype(int)"
   ]
  },
  {
   "cell_type": "code",
   "execution_count": 118,
   "metadata": {
    "id": "B90q32nYAgbo",
    "outputId": "9e3670c8-85d8-4b43-c4af-3444306e3536"
   },
   "outputs": [
    {
     "data": {
      "text/html": [
       "<div>\n",
       "<style scoped>\n",
       "    .dataframe tbody tr th:only-of-type {\n",
       "        vertical-align: middle;\n",
       "    }\n",
       "\n",
       "    .dataframe tbody tr th {\n",
       "        vertical-align: top;\n",
       "    }\n",
       "\n",
       "    .dataframe thead th {\n",
       "        text-align: right;\n",
       "    }\n",
       "</style>\n",
       "<table border=\"1\" class=\"dataframe\">\n",
       "  <thead>\n",
       "    <tr style=\"text-align: right;\">\n",
       "      <th></th>\n",
       "      <th>id_product</th>\n",
       "      <th>order_date</th>\n",
       "      <th>product_quantity</th>\n",
       "      <th>product_price</th>\n",
       "      <th>entry_date</th>\n",
       "      <th>time_delta</th>\n",
       "    </tr>\n",
       "  </thead>\n",
       "  <tbody>\n",
       "    <tr>\n",
       "      <th>0</th>\n",
       "      <td>401</td>\n",
       "      <td>2021-01-23</td>\n",
       "      <td>1.0</td>\n",
       "      <td>541.487603</td>\n",
       "      <td>2018-12-04</td>\n",
       "      <td>781</td>\n",
       "    </tr>\n",
       "    <tr>\n",
       "      <th>1</th>\n",
       "      <td>416</td>\n",
       "      <td>2020-04-02</td>\n",
       "      <td>1.0</td>\n",
       "      <td>131.181818</td>\n",
       "      <td>2018-12-04</td>\n",
       "      <td>485</td>\n",
       "    </tr>\n",
       "    <tr>\n",
       "      <th>2</th>\n",
       "      <td>717</td>\n",
       "      <td>2019-03-10</td>\n",
       "      <td>1.0</td>\n",
       "      <td>2035.488500</td>\n",
       "      <td>2018-12-04</td>\n",
       "      <td>96</td>\n",
       "    </tr>\n",
       "    <tr>\n",
       "      <th>3</th>\n",
       "      <td>778</td>\n",
       "      <td>2019-12-27</td>\n",
       "      <td>1.0</td>\n",
       "      <td>335.988000</td>\n",
       "      <td>2018-12-04</td>\n",
       "      <td>388</td>\n",
       "    </tr>\n",
       "    <tr>\n",
       "      <th>4</th>\n",
       "      <td>826</td>\n",
       "      <td>2020-02-19</td>\n",
       "      <td>1.0</td>\n",
       "      <td>342.292302</td>\n",
       "      <td>2018-12-04</td>\n",
       "      <td>442</td>\n",
       "    </tr>\n",
       "    <tr>\n",
       "      <th>...</th>\n",
       "      <td>...</td>\n",
       "      <td>...</td>\n",
       "      <td>...</td>\n",
       "      <td>...</td>\n",
       "      <td>...</td>\n",
       "      <td>...</td>\n",
       "    </tr>\n",
       "    <tr>\n",
       "      <th>906</th>\n",
       "      <td>1536842</td>\n",
       "      <td>2020-11-24</td>\n",
       "      <td>1.0</td>\n",
       "      <td>1186.776860</td>\n",
       "      <td>2020-10-07</td>\n",
       "      <td>48</td>\n",
       "    </tr>\n",
       "    <tr>\n",
       "      <th>907</th>\n",
       "      <td>1536842</td>\n",
       "      <td>2020-11-24</td>\n",
       "      <td>1.0</td>\n",
       "      <td>1186.776860</td>\n",
       "      <td>2020-10-07</td>\n",
       "      <td>48</td>\n",
       "    </tr>\n",
       "    <tr>\n",
       "      <th>908</th>\n",
       "      <td>1536887</td>\n",
       "      <td>2020-11-22</td>\n",
       "      <td>1.0</td>\n",
       "      <td>0.000000</td>\n",
       "      <td>2020-11-13</td>\n",
       "      <td>9</td>\n",
       "    </tr>\n",
       "    <tr>\n",
       "      <th>909</th>\n",
       "      <td>1536952</td>\n",
       "      <td>2021-01-26</td>\n",
       "      <td>1.0</td>\n",
       "      <td>988.429752</td>\n",
       "      <td>2020-11-24</td>\n",
       "      <td>63</td>\n",
       "    </tr>\n",
       "    <tr>\n",
       "      <th>910</th>\n",
       "      <td>1536974</td>\n",
       "      <td>2020-12-06</td>\n",
       "      <td>1.0</td>\n",
       "      <td>0.000000</td>\n",
       "      <td>2020-11-26</td>\n",
       "      <td>10</td>\n",
       "    </tr>\n",
       "  </tbody>\n",
       "</table>\n",
       "<p>911 rows × 6 columns</p>\n",
       "</div>"
      ],
      "text/plain": [
       "     id_product order_date  product_quantity  product_price entry_date  \\\n",
       "0           401 2021-01-23               1.0     541.487603 2018-12-04   \n",
       "1           416 2020-04-02               1.0     131.181818 2018-12-04   \n",
       "2           717 2019-03-10               1.0    2035.488500 2018-12-04   \n",
       "3           778 2019-12-27               1.0     335.988000 2018-12-04   \n",
       "4           826 2020-02-19               1.0     342.292302 2018-12-04   \n",
       "..          ...        ...               ...            ...        ...   \n",
       "906     1536842 2020-11-24               1.0    1186.776860 2020-10-07   \n",
       "907     1536842 2020-11-24               1.0    1186.776860 2020-10-07   \n",
       "908     1536887 2020-11-22               1.0       0.000000 2020-11-13   \n",
       "909     1536952 2021-01-26               1.0     988.429752 2020-11-24   \n",
       "910     1536974 2020-12-06               1.0       0.000000 2020-11-26   \n",
       "\n",
       "     time_delta  \n",
       "0           781  \n",
       "1           485  \n",
       "2            96  \n",
       "3           388  \n",
       "4           442  \n",
       "..          ...  \n",
       "906          48  \n",
       "907          48  \n",
       "908           9  \n",
       "909          63  \n",
       "910          10  \n",
       "\n",
       "[911 rows x 6 columns]"
      ]
     },
     "execution_count": 118,
     "metadata": {},
     "output_type": "execute_result"
    }
   ],
   "source": [
    "df[\"time_delta\"] = df[\"time_delta\"].astype(\"str\").str.split(\" \").str[0].astype(int)\n",
    "df"
   ]
  },
  {
   "cell_type": "code",
   "execution_count": 119,
   "metadata": {
    "id": "QMkMTe98Agbo",
    "outputId": "e33060a8-e99c-47bc-c506-47e9a8834e62",
    "scrolled": true
   },
   "outputs": [
    {
     "data": {
      "text/plain": [
       "id_product\n",
       "401        781\n",
       "416        485\n",
       "717         96\n",
       "778        388\n",
       "826        442\n",
       "          ... \n",
       "1536841     38\n",
       "1536842     48\n",
       "1536887      9\n",
       "1536952     63\n",
       "1536974     10\n",
       "Name: time_delta, Length: 498, dtype: int32"
      ]
     },
     "execution_count": 119,
     "metadata": {},
     "output_type": "execute_result"
    }
   ],
   "source": [
    "df.groupby(\"id_product\")[\"time_delta\"].min()"
   ]
  },
  {
   "cell_type": "code",
   "execution_count": 120,
   "metadata": {},
   "outputs": [
    {
     "data": {
      "text/plain": [
       "0      781\n",
       "1      485\n",
       "2       96\n",
       "3      388\n",
       "4      442\n",
       "      ... \n",
       "906     48\n",
       "907     48\n",
       "908      9\n",
       "909     63\n",
       "910     10\n",
       "Name: time_delta, Length: 911, dtype: int32"
      ]
     },
     "execution_count": 120,
     "metadata": {},
     "output_type": "execute_result"
    }
   ],
   "source": [
    "df.groupby(\"id_product\")[\"time_delta\"].transform(min)"
   ]
  },
  {
   "cell_type": "code",
   "execution_count": 121,
   "metadata": {
    "id": "soR1VcxyAgbp",
    "outputId": "de2d4d6d-b105-4815-96f9-123cd0f70f4f"
   },
   "outputs": [
    {
     "data": {
      "text/html": [
       "<div>\n",
       "<style scoped>\n",
       "    .dataframe tbody tr th:only-of-type {\n",
       "        vertical-align: middle;\n",
       "    }\n",
       "\n",
       "    .dataframe tbody tr th {\n",
       "        vertical-align: top;\n",
       "    }\n",
       "\n",
       "    .dataframe thead th {\n",
       "        text-align: right;\n",
       "    }\n",
       "</style>\n",
       "<table border=\"1\" class=\"dataframe\">\n",
       "  <thead>\n",
       "    <tr style=\"text-align: right;\">\n",
       "      <th></th>\n",
       "      <th>id_product</th>\n",
       "      <th>order_date</th>\n",
       "      <th>product_quantity</th>\n",
       "      <th>product_price</th>\n",
       "      <th>entry_date</th>\n",
       "      <th>time_delta</th>\n",
       "      <th>passing_time_to_firstsale</th>\n",
       "    </tr>\n",
       "  </thead>\n",
       "  <tbody>\n",
       "    <tr>\n",
       "      <th>0</th>\n",
       "      <td>401</td>\n",
       "      <td>2021-01-23</td>\n",
       "      <td>1.0</td>\n",
       "      <td>541.487603</td>\n",
       "      <td>2018-12-04</td>\n",
       "      <td>781</td>\n",
       "      <td>781</td>\n",
       "    </tr>\n",
       "    <tr>\n",
       "      <th>1</th>\n",
       "      <td>416</td>\n",
       "      <td>2020-04-02</td>\n",
       "      <td>1.0</td>\n",
       "      <td>131.181818</td>\n",
       "      <td>2018-12-04</td>\n",
       "      <td>485</td>\n",
       "      <td>485</td>\n",
       "    </tr>\n",
       "    <tr>\n",
       "      <th>2</th>\n",
       "      <td>717</td>\n",
       "      <td>2019-03-10</td>\n",
       "      <td>1.0</td>\n",
       "      <td>2035.488500</td>\n",
       "      <td>2018-12-04</td>\n",
       "      <td>96</td>\n",
       "      <td>96</td>\n",
       "    </tr>\n",
       "    <tr>\n",
       "      <th>3</th>\n",
       "      <td>778</td>\n",
       "      <td>2019-12-27</td>\n",
       "      <td>1.0</td>\n",
       "      <td>335.988000</td>\n",
       "      <td>2018-12-04</td>\n",
       "      <td>388</td>\n",
       "      <td>388</td>\n",
       "    </tr>\n",
       "    <tr>\n",
       "      <th>4</th>\n",
       "      <td>826</td>\n",
       "      <td>2020-02-19</td>\n",
       "      <td>1.0</td>\n",
       "      <td>342.292302</td>\n",
       "      <td>2018-12-04</td>\n",
       "      <td>442</td>\n",
       "      <td>442</td>\n",
       "    </tr>\n",
       "    <tr>\n",
       "      <th>...</th>\n",
       "      <td>...</td>\n",
       "      <td>...</td>\n",
       "      <td>...</td>\n",
       "      <td>...</td>\n",
       "      <td>...</td>\n",
       "      <td>...</td>\n",
       "      <td>...</td>\n",
       "    </tr>\n",
       "    <tr>\n",
       "      <th>906</th>\n",
       "      <td>1536842</td>\n",
       "      <td>2020-11-24</td>\n",
       "      <td>1.0</td>\n",
       "      <td>1186.776860</td>\n",
       "      <td>2020-10-07</td>\n",
       "      <td>48</td>\n",
       "      <td>48</td>\n",
       "    </tr>\n",
       "    <tr>\n",
       "      <th>907</th>\n",
       "      <td>1536842</td>\n",
       "      <td>2020-11-24</td>\n",
       "      <td>1.0</td>\n",
       "      <td>1186.776860</td>\n",
       "      <td>2020-10-07</td>\n",
       "      <td>48</td>\n",
       "      <td>48</td>\n",
       "    </tr>\n",
       "    <tr>\n",
       "      <th>908</th>\n",
       "      <td>1536887</td>\n",
       "      <td>2020-11-22</td>\n",
       "      <td>1.0</td>\n",
       "      <td>0.000000</td>\n",
       "      <td>2020-11-13</td>\n",
       "      <td>9</td>\n",
       "      <td>9</td>\n",
       "    </tr>\n",
       "    <tr>\n",
       "      <th>909</th>\n",
       "      <td>1536952</td>\n",
       "      <td>2021-01-26</td>\n",
       "      <td>1.0</td>\n",
       "      <td>988.429752</td>\n",
       "      <td>2020-11-24</td>\n",
       "      <td>63</td>\n",
       "      <td>63</td>\n",
       "    </tr>\n",
       "    <tr>\n",
       "      <th>910</th>\n",
       "      <td>1536974</td>\n",
       "      <td>2020-12-06</td>\n",
       "      <td>1.0</td>\n",
       "      <td>0.000000</td>\n",
       "      <td>2020-11-26</td>\n",
       "      <td>10</td>\n",
       "      <td>10</td>\n",
       "    </tr>\n",
       "  </tbody>\n",
       "</table>\n",
       "<p>911 rows × 7 columns</p>\n",
       "</div>"
      ],
      "text/plain": [
       "     id_product order_date  product_quantity  product_price entry_date  \\\n",
       "0           401 2021-01-23               1.0     541.487603 2018-12-04   \n",
       "1           416 2020-04-02               1.0     131.181818 2018-12-04   \n",
       "2           717 2019-03-10               1.0    2035.488500 2018-12-04   \n",
       "3           778 2019-12-27               1.0     335.988000 2018-12-04   \n",
       "4           826 2020-02-19               1.0     342.292302 2018-12-04   \n",
       "..          ...        ...               ...            ...        ...   \n",
       "906     1536842 2020-11-24               1.0    1186.776860 2020-10-07   \n",
       "907     1536842 2020-11-24               1.0    1186.776860 2020-10-07   \n",
       "908     1536887 2020-11-22               1.0       0.000000 2020-11-13   \n",
       "909     1536952 2021-01-26               1.0     988.429752 2020-11-24   \n",
       "910     1536974 2020-12-06               1.0       0.000000 2020-11-26   \n",
       "\n",
       "     time_delta  passing_time_to_firstsale  \n",
       "0           781                        781  \n",
       "1           485                        485  \n",
       "2            96                         96  \n",
       "3           388                        388  \n",
       "4           442                        442  \n",
       "..          ...                        ...  \n",
       "906          48                         48  \n",
       "907          48                         48  \n",
       "908           9                          9  \n",
       "909          63                         63  \n",
       "910          10                         10  \n",
       "\n",
       "[911 rows x 7 columns]"
      ]
     },
     "execution_count": 121,
     "metadata": {},
     "output_type": "execute_result"
    }
   ],
   "source": [
    "df[\"passing_time_to_firstsale\"] = df.groupby(\"id_product\")[\"time_delta\"].transform(min)\n",
    "df"
   ]
  },
  {
   "cell_type": "code",
   "execution_count": 122,
   "metadata": {},
   "outputs": [
    {
     "data": {
      "text/html": [
       "<div>\n",
       "<style scoped>\n",
       "    .dataframe tbody tr th:only-of-type {\n",
       "        vertical-align: middle;\n",
       "    }\n",
       "\n",
       "    .dataframe tbody tr th {\n",
       "        vertical-align: top;\n",
       "    }\n",
       "\n",
       "    .dataframe thead th {\n",
       "        text-align: right;\n",
       "    }\n",
       "</style>\n",
       "<table border=\"1\" class=\"dataframe\">\n",
       "  <thead>\n",
       "    <tr style=\"text-align: right;\">\n",
       "      <th></th>\n",
       "      <th>id_product</th>\n",
       "      <th>order_date</th>\n",
       "      <th>product_quantity</th>\n",
       "      <th>product_price</th>\n",
       "      <th>entry_date</th>\n",
       "      <th>time_delta</th>\n",
       "      <th>passing_time_to_firstsale</th>\n",
       "    </tr>\n",
       "  </thead>\n",
       "  <tbody>\n",
       "    <tr>\n",
       "      <th>131</th>\n",
       "      <td>3674</td>\n",
       "      <td>2020-05-07</td>\n",
       "      <td>1.0</td>\n",
       "      <td>607.1868</td>\n",
       "      <td>2018-12-04</td>\n",
       "      <td>520</td>\n",
       "      <td>195</td>\n",
       "    </tr>\n",
       "    <tr>\n",
       "      <th>57</th>\n",
       "      <td>2925</td>\n",
       "      <td>2019-11-06</td>\n",
       "      <td>1.0</td>\n",
       "      <td>383.9880</td>\n",
       "      <td>2018-12-04</td>\n",
       "      <td>337</td>\n",
       "      <td>337</td>\n",
       "    </tr>\n",
       "    <tr>\n",
       "      <th>623</th>\n",
       "      <td>10097</td>\n",
       "      <td>2019-10-22</td>\n",
       "      <td>1.0</td>\n",
       "      <td>1633.8000</td>\n",
       "      <td>2018-12-04</td>\n",
       "      <td>322</td>\n",
       "      <td>322</td>\n",
       "    </tr>\n",
       "    <tr>\n",
       "      <th>332</th>\n",
       "      <td>4176</td>\n",
       "      <td>2020-05-06</td>\n",
       "      <td>1.0</td>\n",
       "      <td>349.7868</td>\n",
       "      <td>2018-12-04</td>\n",
       "      <td>519</td>\n",
       "      <td>519</td>\n",
       "    </tr>\n",
       "    <tr>\n",
       "      <th>771</th>\n",
       "      <td>1525105</td>\n",
       "      <td>2019-07-06</td>\n",
       "      <td>1.0</td>\n",
       "      <td>1300.5000</td>\n",
       "      <td>2018-12-04</td>\n",
       "      <td>214</td>\n",
       "      <td>103</td>\n",
       "    </tr>\n",
       "    <tr>\n",
       "      <th>210</th>\n",
       "      <td>3726</td>\n",
       "      <td>2019-12-15</td>\n",
       "      <td>1.0</td>\n",
       "      <td>407.9880</td>\n",
       "      <td>2018-12-04</td>\n",
       "      <td>376</td>\n",
       "      <td>337</td>\n",
       "    </tr>\n",
       "    <tr>\n",
       "      <th>749</th>\n",
       "      <td>1525099</td>\n",
       "      <td>2019-11-21</td>\n",
       "      <td>1.0</td>\n",
       "      <td>221.0000</td>\n",
       "      <td>2018-12-04</td>\n",
       "      <td>352</td>\n",
       "      <td>325</td>\n",
       "    </tr>\n",
       "    <tr>\n",
       "      <th>401</th>\n",
       "      <td>4792</td>\n",
       "      <td>2020-11-23</td>\n",
       "      <td>1.0</td>\n",
       "      <td>49.5600</td>\n",
       "      <td>2018-12-04</td>\n",
       "      <td>720</td>\n",
       "      <td>482</td>\n",
       "    </tr>\n",
       "    <tr>\n",
       "      <th>126</th>\n",
       "      <td>3674</td>\n",
       "      <td>2020-03-14</td>\n",
       "      <td>1.0</td>\n",
       "      <td>607.1868</td>\n",
       "      <td>2018-12-04</td>\n",
       "      <td>466</td>\n",
       "      <td>195</td>\n",
       "    </tr>\n",
       "    <tr>\n",
       "      <th>424</th>\n",
       "      <td>5007</td>\n",
       "      <td>2020-01-17</td>\n",
       "      <td>1.0</td>\n",
       "      <td>83.5800</td>\n",
       "      <td>2018-12-04</td>\n",
       "      <td>409</td>\n",
       "      <td>392</td>\n",
       "    </tr>\n",
       "  </tbody>\n",
       "</table>\n",
       "</div>"
      ],
      "text/plain": [
       "     id_product order_date  product_quantity  product_price entry_date  \\\n",
       "131        3674 2020-05-07               1.0       607.1868 2018-12-04   \n",
       "57         2925 2019-11-06               1.0       383.9880 2018-12-04   \n",
       "623       10097 2019-10-22               1.0      1633.8000 2018-12-04   \n",
       "332        4176 2020-05-06               1.0       349.7868 2018-12-04   \n",
       "771     1525105 2019-07-06               1.0      1300.5000 2018-12-04   \n",
       "210        3726 2019-12-15               1.0       407.9880 2018-12-04   \n",
       "749     1525099 2019-11-21               1.0       221.0000 2018-12-04   \n",
       "401        4792 2020-11-23               1.0        49.5600 2018-12-04   \n",
       "126        3674 2020-03-14               1.0       607.1868 2018-12-04   \n",
       "424        5007 2020-01-17               1.0        83.5800 2018-12-04   \n",
       "\n",
       "     time_delta  passing_time_to_firstsale  \n",
       "131         520                        195  \n",
       "57          337                        337  \n",
       "623         322                        322  \n",
       "332         519                        519  \n",
       "771         214                        103  \n",
       "210         376                        337  \n",
       "749         352                        325  \n",
       "401         720                        482  \n",
       "126         466                        195  \n",
       "424         409                        392  "
      ]
     },
     "execution_count": 122,
     "metadata": {},
     "output_type": "execute_result"
    }
   ],
   "source": [
    "df.sample(10)"
   ]
  },
  {
   "cell_type": "code",
   "execution_count": 123,
   "metadata": {},
   "outputs": [
    {
     "data": {
      "text/html": [
       "<div>\n",
       "<style scoped>\n",
       "    .dataframe tbody tr th:only-of-type {\n",
       "        vertical-align: middle;\n",
       "    }\n",
       "\n",
       "    .dataframe tbody tr th {\n",
       "        vertical-align: top;\n",
       "    }\n",
       "\n",
       "    .dataframe thead th {\n",
       "        text-align: right;\n",
       "    }\n",
       "</style>\n",
       "<table border=\"1\" class=\"dataframe\">\n",
       "  <thead>\n",
       "    <tr style=\"text-align: right;\">\n",
       "      <th></th>\n",
       "      <th>id_product</th>\n",
       "      <th>order_date</th>\n",
       "      <th>product_quantity</th>\n",
       "      <th>product_price</th>\n",
       "      <th>entry_date</th>\n",
       "      <th>time_delta</th>\n",
       "      <th>passing_time_to_firstsale</th>\n",
       "    </tr>\n",
       "  </thead>\n",
       "  <tbody>\n",
       "    <tr>\n",
       "      <th>15</th>\n",
       "      <td>1031</td>\n",
       "      <td>2018-12-16</td>\n",
       "      <td>1.0</td>\n",
       "      <td>234.990000</td>\n",
       "      <td>2018-12-04</td>\n",
       "      <td>12</td>\n",
       "      <td>-16</td>\n",
       "    </tr>\n",
       "    <tr>\n",
       "      <th>25</th>\n",
       "      <td>1410</td>\n",
       "      <td>2020-11-29</td>\n",
       "      <td>1.0</td>\n",
       "      <td>227.988000</td>\n",
       "      <td>2018-12-04</td>\n",
       "      <td>726</td>\n",
       "      <td>404</td>\n",
       "    </tr>\n",
       "    <tr>\n",
       "      <th>39</th>\n",
       "      <td>2051</td>\n",
       "      <td>2020-10-21</td>\n",
       "      <td>1.0</td>\n",
       "      <td>329.000000</td>\n",
       "      <td>2018-12-04</td>\n",
       "      <td>687</td>\n",
       "      <td>670</td>\n",
       "    </tr>\n",
       "    <tr>\n",
       "      <th>41</th>\n",
       "      <td>2065</td>\n",
       "      <td>2019-06-20</td>\n",
       "      <td>1.0</td>\n",
       "      <td>246.662350</td>\n",
       "      <td>2018-12-04</td>\n",
       "      <td>198</td>\n",
       "      <td>-17</td>\n",
       "    </tr>\n",
       "    <tr>\n",
       "      <th>43</th>\n",
       "      <td>2072</td>\n",
       "      <td>2019-07-03</td>\n",
       "      <td>1.0</td>\n",
       "      <td>189.737350</td>\n",
       "      <td>2018-12-04</td>\n",
       "      <td>211</td>\n",
       "      <td>185</td>\n",
       "    </tr>\n",
       "    <tr>\n",
       "      <th>...</th>\n",
       "      <td>...</td>\n",
       "      <td>...</td>\n",
       "      <td>...</td>\n",
       "      <td>...</td>\n",
       "      <td>...</td>\n",
       "      <td>...</td>\n",
       "      <td>...</td>\n",
       "    </tr>\n",
       "    <tr>\n",
       "      <th>898</th>\n",
       "      <td>1536753</td>\n",
       "      <td>2020-09-04</td>\n",
       "      <td>1.0</td>\n",
       "      <td>450.000000</td>\n",
       "      <td>2020-08-15</td>\n",
       "      <td>20</td>\n",
       "      <td>-38</td>\n",
       "    </tr>\n",
       "    <tr>\n",
       "      <th>899</th>\n",
       "      <td>1536753</td>\n",
       "      <td>2020-11-23</td>\n",
       "      <td>1.0</td>\n",
       "      <td>450.000000</td>\n",
       "      <td>2020-08-15</td>\n",
       "      <td>100</td>\n",
       "      <td>-38</td>\n",
       "    </tr>\n",
       "    <tr>\n",
       "      <th>900</th>\n",
       "      <td>1536753</td>\n",
       "      <td>2020-11-25</td>\n",
       "      <td>2.0</td>\n",
       "      <td>408.000000</td>\n",
       "      <td>2020-08-15</td>\n",
       "      <td>102</td>\n",
       "      <td>-38</td>\n",
       "    </tr>\n",
       "    <tr>\n",
       "      <th>904</th>\n",
       "      <td>1536841</td>\n",
       "      <td>2020-11-20</td>\n",
       "      <td>1.0</td>\n",
       "      <td>988.429752</td>\n",
       "      <td>2020-10-07</td>\n",
       "      <td>44</td>\n",
       "      <td>38</td>\n",
       "    </tr>\n",
       "    <tr>\n",
       "      <th>905</th>\n",
       "      <td>1536841</td>\n",
       "      <td>2020-11-22</td>\n",
       "      <td>1.0</td>\n",
       "      <td>988.429752</td>\n",
       "      <td>2020-10-07</td>\n",
       "      <td>46</td>\n",
       "      <td>38</td>\n",
       "    </tr>\n",
       "  </tbody>\n",
       "</table>\n",
       "<p>408 rows × 7 columns</p>\n",
       "</div>"
      ],
      "text/plain": [
       "     id_product order_date  product_quantity  product_price entry_date  \\\n",
       "15         1031 2018-12-16               1.0     234.990000 2018-12-04   \n",
       "25         1410 2020-11-29               1.0     227.988000 2018-12-04   \n",
       "39         2051 2020-10-21               1.0     329.000000 2018-12-04   \n",
       "41         2065 2019-06-20               1.0     246.662350 2018-12-04   \n",
       "43         2072 2019-07-03               1.0     189.737350 2018-12-04   \n",
       "..          ...        ...               ...            ...        ...   \n",
       "898     1536753 2020-09-04               1.0     450.000000 2020-08-15   \n",
       "899     1536753 2020-11-23               1.0     450.000000 2020-08-15   \n",
       "900     1536753 2020-11-25               2.0     408.000000 2020-08-15   \n",
       "904     1536841 2020-11-20               1.0     988.429752 2020-10-07   \n",
       "905     1536841 2020-11-22               1.0     988.429752 2020-10-07   \n",
       "\n",
       "     time_delta  passing_time_to_firstsale  \n",
       "15           12                        -16  \n",
       "25          726                        404  \n",
       "39          687                        670  \n",
       "41          198                        -17  \n",
       "43          211                        185  \n",
       "..          ...                        ...  \n",
       "898          20                        -38  \n",
       "899         100                        -38  \n",
       "900         102                        -38  \n",
       "904          44                         38  \n",
       "905          46                         38  \n",
       "\n",
       "[408 rows x 7 columns]"
      ]
     },
     "execution_count": 123,
     "metadata": {},
     "output_type": "execute_result"
    }
   ],
   "source": [
    "df[(df.time_delta != df.passing_time_to_firstsale)]"
   ]
  },
  {
   "cell_type": "code",
   "execution_count": 124,
   "metadata": {},
   "outputs": [
    {
     "data": {
      "text/plain": [
       "id_product\n",
       "3674       33\n",
       "3671       21\n",
       "3711       15\n",
       "11364      13\n",
       "1525105    13\n",
       "           ..\n",
       "4791        1\n",
       "4745        1\n",
       "4713        1\n",
       "4699        1\n",
       "1536974     1\n",
       "Name: id_product, Length: 498, dtype: int64"
      ]
     },
     "execution_count": 124,
     "metadata": {},
     "output_type": "execute_result"
    }
   ],
   "source": [
    "df.groupby(\"id_product\")[\"id_product\"].count().sort_values(ascending=False)"
   ]
  },
  {
   "cell_type": "code",
   "execution_count": 125,
   "metadata": {},
   "outputs": [
    {
     "data": {
      "text/html": [
       "<div>\n",
       "<style scoped>\n",
       "    .dataframe tbody tr th:only-of-type {\n",
       "        vertical-align: middle;\n",
       "    }\n",
       "\n",
       "    .dataframe tbody tr th {\n",
       "        vertical-align: top;\n",
       "    }\n",
       "\n",
       "    .dataframe thead th {\n",
       "        text-align: right;\n",
       "    }\n",
       "</style>\n",
       "<table border=\"1\" class=\"dataframe\">\n",
       "  <thead>\n",
       "    <tr style=\"text-align: right;\">\n",
       "      <th></th>\n",
       "      <th>id_product</th>\n",
       "      <th>order_date</th>\n",
       "      <th>product_quantity</th>\n",
       "      <th>product_price</th>\n",
       "      <th>entry_date</th>\n",
       "      <th>time_delta</th>\n",
       "      <th>passing_time_to_firstsale</th>\n",
       "    </tr>\n",
       "  </thead>\n",
       "  <tbody>\n",
       "    <tr>\n",
       "      <th>116</th>\n",
       "      <td>3674</td>\n",
       "      <td>2019-06-17</td>\n",
       "      <td>1.0</td>\n",
       "      <td>528.988500</td>\n",
       "      <td>2018-12-04</td>\n",
       "      <td>195</td>\n",
       "      <td>195</td>\n",
       "    </tr>\n",
       "    <tr>\n",
       "      <th>117</th>\n",
       "      <td>3674</td>\n",
       "      <td>2020-01-08</td>\n",
       "      <td>1.0</td>\n",
       "      <td>551.988000</td>\n",
       "      <td>2018-12-04</td>\n",
       "      <td>400</td>\n",
       "      <td>195</td>\n",
       "    </tr>\n",
       "    <tr>\n",
       "      <th>118</th>\n",
       "      <td>3674</td>\n",
       "      <td>2020-01-13</td>\n",
       "      <td>1.0</td>\n",
       "      <td>551.988000</td>\n",
       "      <td>2018-12-04</td>\n",
       "      <td>405</td>\n",
       "      <td>195</td>\n",
       "    </tr>\n",
       "    <tr>\n",
       "      <th>119</th>\n",
       "      <td>3674</td>\n",
       "      <td>2020-01-23</td>\n",
       "      <td>1.0</td>\n",
       "      <td>551.988000</td>\n",
       "      <td>2018-12-04</td>\n",
       "      <td>415</td>\n",
       "      <td>195</td>\n",
       "    </tr>\n",
       "    <tr>\n",
       "      <th>120</th>\n",
       "      <td>3674</td>\n",
       "      <td>2020-01-28</td>\n",
       "      <td>1.0</td>\n",
       "      <td>551.988000</td>\n",
       "      <td>2018-12-04</td>\n",
       "      <td>420</td>\n",
       "      <td>195</td>\n",
       "    </tr>\n",
       "    <tr>\n",
       "      <th>121</th>\n",
       "      <td>3674</td>\n",
       "      <td>2020-02-16</td>\n",
       "      <td>1.0</td>\n",
       "      <td>607.186800</td>\n",
       "      <td>2018-12-04</td>\n",
       "      <td>439</td>\n",
       "      <td>195</td>\n",
       "    </tr>\n",
       "    <tr>\n",
       "      <th>122</th>\n",
       "      <td>3674</td>\n",
       "      <td>2020-02-21</td>\n",
       "      <td>1.0</td>\n",
       "      <td>607.186800</td>\n",
       "      <td>2018-12-04</td>\n",
       "      <td>444</td>\n",
       "      <td>195</td>\n",
       "    </tr>\n",
       "    <tr>\n",
       "      <th>123</th>\n",
       "      <td>3674</td>\n",
       "      <td>2020-03-06</td>\n",
       "      <td>1.0</td>\n",
       "      <td>607.186800</td>\n",
       "      <td>2018-12-04</td>\n",
       "      <td>458</td>\n",
       "      <td>195</td>\n",
       "    </tr>\n",
       "    <tr>\n",
       "      <th>124</th>\n",
       "      <td>3674</td>\n",
       "      <td>2020-03-08</td>\n",
       "      <td>1.0</td>\n",
       "      <td>607.186800</td>\n",
       "      <td>2018-12-04</td>\n",
       "      <td>460</td>\n",
       "      <td>195</td>\n",
       "    </tr>\n",
       "    <tr>\n",
       "      <th>125</th>\n",
       "      <td>3674</td>\n",
       "      <td>2020-03-09</td>\n",
       "      <td>1.0</td>\n",
       "      <td>607.186800</td>\n",
       "      <td>2018-12-04</td>\n",
       "      <td>461</td>\n",
       "      <td>195</td>\n",
       "    </tr>\n",
       "    <tr>\n",
       "      <th>126</th>\n",
       "      <td>3674</td>\n",
       "      <td>2020-03-14</td>\n",
       "      <td>1.0</td>\n",
       "      <td>607.186800</td>\n",
       "      <td>2018-12-04</td>\n",
       "      <td>466</td>\n",
       "      <td>195</td>\n",
       "    </tr>\n",
       "    <tr>\n",
       "      <th>127</th>\n",
       "      <td>3674</td>\n",
       "      <td>2020-04-12</td>\n",
       "      <td>1.0</td>\n",
       "      <td>607.186800</td>\n",
       "      <td>2018-12-04</td>\n",
       "      <td>495</td>\n",
       "      <td>195</td>\n",
       "    </tr>\n",
       "    <tr>\n",
       "      <th>128</th>\n",
       "      <td>3674</td>\n",
       "      <td>2020-04-20</td>\n",
       "      <td>1.0</td>\n",
       "      <td>607.186800</td>\n",
       "      <td>2018-12-04</td>\n",
       "      <td>503</td>\n",
       "      <td>195</td>\n",
       "    </tr>\n",
       "    <tr>\n",
       "      <th>129</th>\n",
       "      <td>3674</td>\n",
       "      <td>2020-04-23</td>\n",
       "      <td>2.0</td>\n",
       "      <td>607.186800</td>\n",
       "      <td>2018-12-04</td>\n",
       "      <td>506</td>\n",
       "      <td>195</td>\n",
       "    </tr>\n",
       "    <tr>\n",
       "      <th>130</th>\n",
       "      <td>3674</td>\n",
       "      <td>2020-04-26</td>\n",
       "      <td>1.0</td>\n",
       "      <td>607.186800</td>\n",
       "      <td>2018-12-04</td>\n",
       "      <td>509</td>\n",
       "      <td>195</td>\n",
       "    </tr>\n",
       "    <tr>\n",
       "      <th>131</th>\n",
       "      <td>3674</td>\n",
       "      <td>2020-05-07</td>\n",
       "      <td>1.0</td>\n",
       "      <td>607.186800</td>\n",
       "      <td>2018-12-04</td>\n",
       "      <td>520</td>\n",
       "      <td>195</td>\n",
       "    </tr>\n",
       "    <tr>\n",
       "      <th>132</th>\n",
       "      <td>3674</td>\n",
       "      <td>2020-05-15</td>\n",
       "      <td>1.0</td>\n",
       "      <td>607.186800</td>\n",
       "      <td>2018-12-04</td>\n",
       "      <td>528</td>\n",
       "      <td>195</td>\n",
       "    </tr>\n",
       "    <tr>\n",
       "      <th>133</th>\n",
       "      <td>3674</td>\n",
       "      <td>2020-05-17</td>\n",
       "      <td>1.0</td>\n",
       "      <td>610.743802</td>\n",
       "      <td>2018-12-04</td>\n",
       "      <td>530</td>\n",
       "      <td>195</td>\n",
       "    </tr>\n",
       "    <tr>\n",
       "      <th>134</th>\n",
       "      <td>3674</td>\n",
       "      <td>2020-06-08</td>\n",
       "      <td>1.0</td>\n",
       "      <td>610.743802</td>\n",
       "      <td>2018-12-04</td>\n",
       "      <td>552</td>\n",
       "      <td>195</td>\n",
       "    </tr>\n",
       "    <tr>\n",
       "      <th>135</th>\n",
       "      <td>3674</td>\n",
       "      <td>2020-06-25</td>\n",
       "      <td>1.0</td>\n",
       "      <td>610.743802</td>\n",
       "      <td>2018-12-04</td>\n",
       "      <td>569</td>\n",
       "      <td>195</td>\n",
       "    </tr>\n",
       "    <tr>\n",
       "      <th>136</th>\n",
       "      <td>3674</td>\n",
       "      <td>2020-09-06</td>\n",
       "      <td>1.0</td>\n",
       "      <td>555.221638</td>\n",
       "      <td>2018-12-04</td>\n",
       "      <td>642</td>\n",
       "      <td>195</td>\n",
       "    </tr>\n",
       "    <tr>\n",
       "      <th>137</th>\n",
       "      <td>3674</td>\n",
       "      <td>2020-09-11</td>\n",
       "      <td>1.0</td>\n",
       "      <td>555.221638</td>\n",
       "      <td>2018-12-04</td>\n",
       "      <td>647</td>\n",
       "      <td>195</td>\n",
       "    </tr>\n",
       "    <tr>\n",
       "      <th>138</th>\n",
       "      <td>3674</td>\n",
       "      <td>2020-09-18</td>\n",
       "      <td>1.0</td>\n",
       "      <td>555.221638</td>\n",
       "      <td>2018-12-04</td>\n",
       "      <td>654</td>\n",
       "      <td>195</td>\n",
       "    </tr>\n",
       "    <tr>\n",
       "      <th>139</th>\n",
       "      <td>3674</td>\n",
       "      <td>2020-09-20</td>\n",
       "      <td>1.0</td>\n",
       "      <td>555.221638</td>\n",
       "      <td>2018-12-04</td>\n",
       "      <td>656</td>\n",
       "      <td>195</td>\n",
       "    </tr>\n",
       "    <tr>\n",
       "      <th>140</th>\n",
       "      <td>3674</td>\n",
       "      <td>2020-09-23</td>\n",
       "      <td>1.0</td>\n",
       "      <td>555.221638</td>\n",
       "      <td>2018-12-04</td>\n",
       "      <td>659</td>\n",
       "      <td>195</td>\n",
       "    </tr>\n",
       "    <tr>\n",
       "      <th>141</th>\n",
       "      <td>3674</td>\n",
       "      <td>2020-09-26</td>\n",
       "      <td>1.0</td>\n",
       "      <td>555.221638</td>\n",
       "      <td>2018-12-04</td>\n",
       "      <td>662</td>\n",
       "      <td>195</td>\n",
       "    </tr>\n",
       "    <tr>\n",
       "      <th>142</th>\n",
       "      <td>3674</td>\n",
       "      <td>2020-10-08</td>\n",
       "      <td>1.0</td>\n",
       "      <td>555.221638</td>\n",
       "      <td>2018-12-04</td>\n",
       "      <td>674</td>\n",
       "      <td>195</td>\n",
       "    </tr>\n",
       "    <tr>\n",
       "      <th>143</th>\n",
       "      <td>3674</td>\n",
       "      <td>2020-10-11</td>\n",
       "      <td>1.0</td>\n",
       "      <td>555.221638</td>\n",
       "      <td>2018-12-04</td>\n",
       "      <td>677</td>\n",
       "      <td>195</td>\n",
       "    </tr>\n",
       "    <tr>\n",
       "      <th>144</th>\n",
       "      <td>3674</td>\n",
       "      <td>2020-11-04</td>\n",
       "      <td>1.0</td>\n",
       "      <td>555.221638</td>\n",
       "      <td>2018-12-04</td>\n",
       "      <td>701</td>\n",
       "      <td>195</td>\n",
       "    </tr>\n",
       "    <tr>\n",
       "      <th>145</th>\n",
       "      <td>3674</td>\n",
       "      <td>2020-11-23</td>\n",
       "      <td>1.0</td>\n",
       "      <td>555.221638</td>\n",
       "      <td>2018-12-04</td>\n",
       "      <td>720</td>\n",
       "      <td>195</td>\n",
       "    </tr>\n",
       "    <tr>\n",
       "      <th>146</th>\n",
       "      <td>3674</td>\n",
       "      <td>2020-11-25</td>\n",
       "      <td>1.0</td>\n",
       "      <td>555.221638</td>\n",
       "      <td>2018-12-04</td>\n",
       "      <td>722</td>\n",
       "      <td>195</td>\n",
       "    </tr>\n",
       "    <tr>\n",
       "      <th>147</th>\n",
       "      <td>3674</td>\n",
       "      <td>2020-11-29</td>\n",
       "      <td>1.0</td>\n",
       "      <td>555.221638</td>\n",
       "      <td>2018-12-04</td>\n",
       "      <td>726</td>\n",
       "      <td>195</td>\n",
       "    </tr>\n",
       "    <tr>\n",
       "      <th>148</th>\n",
       "      <td>3674</td>\n",
       "      <td>2020-12-07</td>\n",
       "      <td>1.0</td>\n",
       "      <td>333.801653</td>\n",
       "      <td>2018-12-04</td>\n",
       "      <td>734</td>\n",
       "      <td>195</td>\n",
       "    </tr>\n",
       "  </tbody>\n",
       "</table>\n",
       "</div>"
      ],
      "text/plain": [
       "     id_product order_date  product_quantity  product_price entry_date  \\\n",
       "116        3674 2019-06-17               1.0     528.988500 2018-12-04   \n",
       "117        3674 2020-01-08               1.0     551.988000 2018-12-04   \n",
       "118        3674 2020-01-13               1.0     551.988000 2018-12-04   \n",
       "119        3674 2020-01-23               1.0     551.988000 2018-12-04   \n",
       "120        3674 2020-01-28               1.0     551.988000 2018-12-04   \n",
       "121        3674 2020-02-16               1.0     607.186800 2018-12-04   \n",
       "122        3674 2020-02-21               1.0     607.186800 2018-12-04   \n",
       "123        3674 2020-03-06               1.0     607.186800 2018-12-04   \n",
       "124        3674 2020-03-08               1.0     607.186800 2018-12-04   \n",
       "125        3674 2020-03-09               1.0     607.186800 2018-12-04   \n",
       "126        3674 2020-03-14               1.0     607.186800 2018-12-04   \n",
       "127        3674 2020-04-12               1.0     607.186800 2018-12-04   \n",
       "128        3674 2020-04-20               1.0     607.186800 2018-12-04   \n",
       "129        3674 2020-04-23               2.0     607.186800 2018-12-04   \n",
       "130        3674 2020-04-26               1.0     607.186800 2018-12-04   \n",
       "131        3674 2020-05-07               1.0     607.186800 2018-12-04   \n",
       "132        3674 2020-05-15               1.0     607.186800 2018-12-04   \n",
       "133        3674 2020-05-17               1.0     610.743802 2018-12-04   \n",
       "134        3674 2020-06-08               1.0     610.743802 2018-12-04   \n",
       "135        3674 2020-06-25               1.0     610.743802 2018-12-04   \n",
       "136        3674 2020-09-06               1.0     555.221638 2018-12-04   \n",
       "137        3674 2020-09-11               1.0     555.221638 2018-12-04   \n",
       "138        3674 2020-09-18               1.0     555.221638 2018-12-04   \n",
       "139        3674 2020-09-20               1.0     555.221638 2018-12-04   \n",
       "140        3674 2020-09-23               1.0     555.221638 2018-12-04   \n",
       "141        3674 2020-09-26               1.0     555.221638 2018-12-04   \n",
       "142        3674 2020-10-08               1.0     555.221638 2018-12-04   \n",
       "143        3674 2020-10-11               1.0     555.221638 2018-12-04   \n",
       "144        3674 2020-11-04               1.0     555.221638 2018-12-04   \n",
       "145        3674 2020-11-23               1.0     555.221638 2018-12-04   \n",
       "146        3674 2020-11-25               1.0     555.221638 2018-12-04   \n",
       "147        3674 2020-11-29               1.0     555.221638 2018-12-04   \n",
       "148        3674 2020-12-07               1.0     333.801653 2018-12-04   \n",
       "\n",
       "     time_delta  passing_time_to_firstsale  \n",
       "116         195                        195  \n",
       "117         400                        195  \n",
       "118         405                        195  \n",
       "119         415                        195  \n",
       "120         420                        195  \n",
       "121         439                        195  \n",
       "122         444                        195  \n",
       "123         458                        195  \n",
       "124         460                        195  \n",
       "125         461                        195  \n",
       "126         466                        195  \n",
       "127         495                        195  \n",
       "128         503                        195  \n",
       "129         506                        195  \n",
       "130         509                        195  \n",
       "131         520                        195  \n",
       "132         528                        195  \n",
       "133         530                        195  \n",
       "134         552                        195  \n",
       "135         569                        195  \n",
       "136         642                        195  \n",
       "137         647                        195  \n",
       "138         654                        195  \n",
       "139         656                        195  \n",
       "140         659                        195  \n",
       "141         662                        195  \n",
       "142         674                        195  \n",
       "143         677                        195  \n",
       "144         701                        195  \n",
       "145         720                        195  \n",
       "146         722                        195  \n",
       "147         726                        195  \n",
       "148         734                        195  "
      ]
     },
     "execution_count": 125,
     "metadata": {},
     "output_type": "execute_result"
    }
   ],
   "source": [
    "df[(df.id_product == 3674)].sort_values(\"time_delta\")"
   ]
  },
  {
   "cell_type": "code",
   "execution_count": 126,
   "metadata": {
    "id": "60S9UvSXAgbp",
    "outputId": "85a20868-2f8d-4167-ec97-ad0a75d59ef9"
   },
   "outputs": [
    {
     "data": {
      "text/plain": [
       "id_product\n",
       "401       2021-01-23\n",
       "416       2020-04-02\n",
       "717       2019-03-10\n",
       "778       2019-12-27\n",
       "826       2020-02-19\n",
       "             ...    \n",
       "1536841   2020-11-22\n",
       "1536842   2020-11-24\n",
       "1536887   2020-11-22\n",
       "1536952   2021-01-26\n",
       "1536974   2020-12-06\n",
       "Name: order_date, Length: 498, dtype: datetime64[ns]"
      ]
     },
     "execution_count": 126,
     "metadata": {},
     "output_type": "execute_result"
    }
   ],
   "source": [
    "df.groupby(\"id_product\").order_date.max()"
   ]
  },
  {
   "cell_type": "code",
   "execution_count": 127,
   "metadata": {
    "id": "FMFLUGZWAgbq",
    "outputId": "6c01d007-04ec-4581-b9f2-73ecd07bcd86",
    "scrolled": true
   },
   "outputs": [
    {
     "data": {
      "text/plain": [
       "0      2021-01-23\n",
       "1      2020-04-02\n",
       "2      2019-03-10\n",
       "3      2019-12-27\n",
       "4      2020-02-19\n",
       "          ...    \n",
       "906    2020-11-24\n",
       "907    2020-11-24\n",
       "908    2020-11-22\n",
       "909    2021-01-26\n",
       "910    2020-12-06\n",
       "Name: order_date, Length: 911, dtype: object"
      ]
     },
     "execution_count": 127,
     "metadata": {},
     "output_type": "execute_result"
    }
   ],
   "source": [
    "df.groupby(\"id_product\").order_date.transform(max).dt.date"
   ]
  },
  {
   "cell_type": "code",
   "execution_count": 128,
   "metadata": {
    "id": "UIOcmO58Agbq"
   },
   "outputs": [],
   "source": [
    "last_order_date = df.groupby(\"id_product\").order_date.transform(max).dt.date "
   ]
  },
  {
   "cell_type": "code",
   "execution_count": 129,
   "metadata": {
    "id": "8HQJaqm3Agbq",
    "outputId": "2813c7f6-1f10-4aa5-d6d6-0b402cd08f7e"
   },
   "outputs": [
    {
     "name": "stdout",
     "output_type": "stream",
     "text": [
      "2021-02-27\n"
     ]
    }
   ],
   "source": [
    "today = pd.to_datetime(\"27-02-2021\", format='%d-%m-%Y').date()\n",
    "print(today)"
   ]
  },
  {
   "cell_type": "code",
   "execution_count": 130,
   "metadata": {
    "id": "_VHumQbHAgbq",
    "outputId": "dbb4bd0e-b73d-45de-f082-24deff5e98e7"
   },
   "outputs": [
    {
     "data": {
      "text/plain": [
       "0      35 days\n",
       "1     331 days\n",
       "2     720 days\n",
       "3     428 days\n",
       "4     374 days\n",
       "        ...   \n",
       "906    95 days\n",
       "907    95 days\n",
       "908    97 days\n",
       "909    32 days\n",
       "910    83 days\n",
       "Name: order_date, Length: 911, dtype: timedelta64[ns]"
      ]
     },
     "execution_count": 130,
     "metadata": {},
     "output_type": "execute_result"
    }
   ],
   "source": [
    "today - last_order_date"
   ]
  },
  {
   "cell_type": "code",
   "execution_count": 131,
   "metadata": {
    "id": "I8tCaY6JAgbq"
   },
   "outputs": [],
   "source": [
    "df[\"passing_time_from_lastsale\"] = today - last_order_date"
   ]
  },
  {
   "cell_type": "code",
   "execution_count": 132,
   "metadata": {},
   "outputs": [
    {
     "data": {
      "text/html": [
       "<div>\n",
       "<style scoped>\n",
       "    .dataframe tbody tr th:only-of-type {\n",
       "        vertical-align: middle;\n",
       "    }\n",
       "\n",
       "    .dataframe tbody tr th {\n",
       "        vertical-align: top;\n",
       "    }\n",
       "\n",
       "    .dataframe thead th {\n",
       "        text-align: right;\n",
       "    }\n",
       "</style>\n",
       "<table border=\"1\" class=\"dataframe\">\n",
       "  <thead>\n",
       "    <tr style=\"text-align: right;\">\n",
       "      <th></th>\n",
       "      <th>id_product</th>\n",
       "      <th>order_date</th>\n",
       "      <th>product_quantity</th>\n",
       "      <th>product_price</th>\n",
       "      <th>entry_date</th>\n",
       "      <th>time_delta</th>\n",
       "      <th>passing_time_to_firstsale</th>\n",
       "      <th>passing_time_from_lastsale</th>\n",
       "    </tr>\n",
       "  </thead>\n",
       "  <tbody>\n",
       "    <tr>\n",
       "      <th>0</th>\n",
       "      <td>401</td>\n",
       "      <td>2021-01-23</td>\n",
       "      <td>1.0</td>\n",
       "      <td>541.487603</td>\n",
       "      <td>2018-12-04</td>\n",
       "      <td>781</td>\n",
       "      <td>781</td>\n",
       "      <td>35 days</td>\n",
       "    </tr>\n",
       "    <tr>\n",
       "      <th>1</th>\n",
       "      <td>416</td>\n",
       "      <td>2020-04-02</td>\n",
       "      <td>1.0</td>\n",
       "      <td>131.181818</td>\n",
       "      <td>2018-12-04</td>\n",
       "      <td>485</td>\n",
       "      <td>485</td>\n",
       "      <td>331 days</td>\n",
       "    </tr>\n",
       "    <tr>\n",
       "      <th>2</th>\n",
       "      <td>717</td>\n",
       "      <td>2019-03-10</td>\n",
       "      <td>1.0</td>\n",
       "      <td>2035.488500</td>\n",
       "      <td>2018-12-04</td>\n",
       "      <td>96</td>\n",
       "      <td>96</td>\n",
       "      <td>720 days</td>\n",
       "    </tr>\n",
       "    <tr>\n",
       "      <th>3</th>\n",
       "      <td>778</td>\n",
       "      <td>2019-12-27</td>\n",
       "      <td>1.0</td>\n",
       "      <td>335.988000</td>\n",
       "      <td>2018-12-04</td>\n",
       "      <td>388</td>\n",
       "      <td>388</td>\n",
       "      <td>428 days</td>\n",
       "    </tr>\n",
       "    <tr>\n",
       "      <th>4</th>\n",
       "      <td>826</td>\n",
       "      <td>2020-02-19</td>\n",
       "      <td>1.0</td>\n",
       "      <td>342.292302</td>\n",
       "      <td>2018-12-04</td>\n",
       "      <td>442</td>\n",
       "      <td>442</td>\n",
       "      <td>374 days</td>\n",
       "    </tr>\n",
       "    <tr>\n",
       "      <th>...</th>\n",
       "      <td>...</td>\n",
       "      <td>...</td>\n",
       "      <td>...</td>\n",
       "      <td>...</td>\n",
       "      <td>...</td>\n",
       "      <td>...</td>\n",
       "      <td>...</td>\n",
       "      <td>...</td>\n",
       "    </tr>\n",
       "    <tr>\n",
       "      <th>906</th>\n",
       "      <td>1536842</td>\n",
       "      <td>2020-11-24</td>\n",
       "      <td>1.0</td>\n",
       "      <td>1186.776860</td>\n",
       "      <td>2020-10-07</td>\n",
       "      <td>48</td>\n",
       "      <td>48</td>\n",
       "      <td>95 days</td>\n",
       "    </tr>\n",
       "    <tr>\n",
       "      <th>907</th>\n",
       "      <td>1536842</td>\n",
       "      <td>2020-11-24</td>\n",
       "      <td>1.0</td>\n",
       "      <td>1186.776860</td>\n",
       "      <td>2020-10-07</td>\n",
       "      <td>48</td>\n",
       "      <td>48</td>\n",
       "      <td>95 days</td>\n",
       "    </tr>\n",
       "    <tr>\n",
       "      <th>908</th>\n",
       "      <td>1536887</td>\n",
       "      <td>2020-11-22</td>\n",
       "      <td>1.0</td>\n",
       "      <td>0.000000</td>\n",
       "      <td>2020-11-13</td>\n",
       "      <td>9</td>\n",
       "      <td>9</td>\n",
       "      <td>97 days</td>\n",
       "    </tr>\n",
       "    <tr>\n",
       "      <th>909</th>\n",
       "      <td>1536952</td>\n",
       "      <td>2021-01-26</td>\n",
       "      <td>1.0</td>\n",
       "      <td>988.429752</td>\n",
       "      <td>2020-11-24</td>\n",
       "      <td>63</td>\n",
       "      <td>63</td>\n",
       "      <td>32 days</td>\n",
       "    </tr>\n",
       "    <tr>\n",
       "      <th>910</th>\n",
       "      <td>1536974</td>\n",
       "      <td>2020-12-06</td>\n",
       "      <td>1.0</td>\n",
       "      <td>0.000000</td>\n",
       "      <td>2020-11-26</td>\n",
       "      <td>10</td>\n",
       "      <td>10</td>\n",
       "      <td>83 days</td>\n",
       "    </tr>\n",
       "  </tbody>\n",
       "</table>\n",
       "<p>911 rows × 8 columns</p>\n",
       "</div>"
      ],
      "text/plain": [
       "     id_product order_date  product_quantity  product_price entry_date  \\\n",
       "0           401 2021-01-23               1.0     541.487603 2018-12-04   \n",
       "1           416 2020-04-02               1.0     131.181818 2018-12-04   \n",
       "2           717 2019-03-10               1.0    2035.488500 2018-12-04   \n",
       "3           778 2019-12-27               1.0     335.988000 2018-12-04   \n",
       "4           826 2020-02-19               1.0     342.292302 2018-12-04   \n",
       "..          ...        ...               ...            ...        ...   \n",
       "906     1536842 2020-11-24               1.0    1186.776860 2020-10-07   \n",
       "907     1536842 2020-11-24               1.0    1186.776860 2020-10-07   \n",
       "908     1536887 2020-11-22               1.0       0.000000 2020-11-13   \n",
       "909     1536952 2021-01-26               1.0     988.429752 2020-11-24   \n",
       "910     1536974 2020-12-06               1.0       0.000000 2020-11-26   \n",
       "\n",
       "     time_delta  passing_time_to_firstsale passing_time_from_lastsale  \n",
       "0           781                        781                    35 days  \n",
       "1           485                        485                   331 days  \n",
       "2            96                         96                   720 days  \n",
       "3           388                        388                   428 days  \n",
       "4           442                        442                   374 days  \n",
       "..          ...                        ...                        ...  \n",
       "906          48                         48                    95 days  \n",
       "907          48                         48                    95 days  \n",
       "908           9                          9                    97 days  \n",
       "909          63                         63                    32 days  \n",
       "910          10                         10                    83 days  \n",
       "\n",
       "[911 rows x 8 columns]"
      ]
     },
     "execution_count": 132,
     "metadata": {},
     "output_type": "execute_result"
    }
   ],
   "source": [
    "df"
   ]
  },
  {
   "cell_type": "code",
   "execution_count": 133,
   "metadata": {
    "id": "AwKG1Fc0Agbr",
    "outputId": "3e2b3258-392d-4ea0-f930-1f8ab8c9876c"
   },
   "outputs": [
    {
     "data": {
      "text/html": [
       "<div>\n",
       "<style scoped>\n",
       "    .dataframe tbody tr th:only-of-type {\n",
       "        vertical-align: middle;\n",
       "    }\n",
       "\n",
       "    .dataframe tbody tr th {\n",
       "        vertical-align: top;\n",
       "    }\n",
       "\n",
       "    .dataframe thead th {\n",
       "        text-align: right;\n",
       "    }\n",
       "</style>\n",
       "<table border=\"1\" class=\"dataframe\">\n",
       "  <thead>\n",
       "    <tr style=\"text-align: right;\">\n",
       "      <th></th>\n",
       "      <th>id_product</th>\n",
       "      <th>order_date</th>\n",
       "      <th>product_quantity</th>\n",
       "      <th>product_price</th>\n",
       "      <th>entry_date</th>\n",
       "      <th>time_delta</th>\n",
       "      <th>passing_time_to_firstsale</th>\n",
       "      <th>passing_time_from_lastsale</th>\n",
       "    </tr>\n",
       "  </thead>\n",
       "  <tbody>\n",
       "    <tr>\n",
       "      <th>0</th>\n",
       "      <td>401</td>\n",
       "      <td>2021-01-23</td>\n",
       "      <td>1.0</td>\n",
       "      <td>541.487603</td>\n",
       "      <td>2018-12-04</td>\n",
       "      <td>781</td>\n",
       "      <td>781</td>\n",
       "      <td>35</td>\n",
       "    </tr>\n",
       "    <tr>\n",
       "      <th>1</th>\n",
       "      <td>416</td>\n",
       "      <td>2020-04-02</td>\n",
       "      <td>1.0</td>\n",
       "      <td>131.181818</td>\n",
       "      <td>2018-12-04</td>\n",
       "      <td>485</td>\n",
       "      <td>485</td>\n",
       "      <td>331</td>\n",
       "    </tr>\n",
       "    <tr>\n",
       "      <th>2</th>\n",
       "      <td>717</td>\n",
       "      <td>2019-03-10</td>\n",
       "      <td>1.0</td>\n",
       "      <td>2035.488500</td>\n",
       "      <td>2018-12-04</td>\n",
       "      <td>96</td>\n",
       "      <td>96</td>\n",
       "      <td>720</td>\n",
       "    </tr>\n",
       "    <tr>\n",
       "      <th>3</th>\n",
       "      <td>778</td>\n",
       "      <td>2019-12-27</td>\n",
       "      <td>1.0</td>\n",
       "      <td>335.988000</td>\n",
       "      <td>2018-12-04</td>\n",
       "      <td>388</td>\n",
       "      <td>388</td>\n",
       "      <td>428</td>\n",
       "    </tr>\n",
       "    <tr>\n",
       "      <th>4</th>\n",
       "      <td>826</td>\n",
       "      <td>2020-02-19</td>\n",
       "      <td>1.0</td>\n",
       "      <td>342.292302</td>\n",
       "      <td>2018-12-04</td>\n",
       "      <td>442</td>\n",
       "      <td>442</td>\n",
       "      <td>374</td>\n",
       "    </tr>\n",
       "    <tr>\n",
       "      <th>...</th>\n",
       "      <td>...</td>\n",
       "      <td>...</td>\n",
       "      <td>...</td>\n",
       "      <td>...</td>\n",
       "      <td>...</td>\n",
       "      <td>...</td>\n",
       "      <td>...</td>\n",
       "      <td>...</td>\n",
       "    </tr>\n",
       "    <tr>\n",
       "      <th>906</th>\n",
       "      <td>1536842</td>\n",
       "      <td>2020-11-24</td>\n",
       "      <td>1.0</td>\n",
       "      <td>1186.776860</td>\n",
       "      <td>2020-10-07</td>\n",
       "      <td>48</td>\n",
       "      <td>48</td>\n",
       "      <td>95</td>\n",
       "    </tr>\n",
       "    <tr>\n",
       "      <th>907</th>\n",
       "      <td>1536842</td>\n",
       "      <td>2020-11-24</td>\n",
       "      <td>1.0</td>\n",
       "      <td>1186.776860</td>\n",
       "      <td>2020-10-07</td>\n",
       "      <td>48</td>\n",
       "      <td>48</td>\n",
       "      <td>95</td>\n",
       "    </tr>\n",
       "    <tr>\n",
       "      <th>908</th>\n",
       "      <td>1536887</td>\n",
       "      <td>2020-11-22</td>\n",
       "      <td>1.0</td>\n",
       "      <td>0.000000</td>\n",
       "      <td>2020-11-13</td>\n",
       "      <td>9</td>\n",
       "      <td>9</td>\n",
       "      <td>97</td>\n",
       "    </tr>\n",
       "    <tr>\n",
       "      <th>909</th>\n",
       "      <td>1536952</td>\n",
       "      <td>2021-01-26</td>\n",
       "      <td>1.0</td>\n",
       "      <td>988.429752</td>\n",
       "      <td>2020-11-24</td>\n",
       "      <td>63</td>\n",
       "      <td>63</td>\n",
       "      <td>32</td>\n",
       "    </tr>\n",
       "    <tr>\n",
       "      <th>910</th>\n",
       "      <td>1536974</td>\n",
       "      <td>2020-12-06</td>\n",
       "      <td>1.0</td>\n",
       "      <td>0.000000</td>\n",
       "      <td>2020-11-26</td>\n",
       "      <td>10</td>\n",
       "      <td>10</td>\n",
       "      <td>83</td>\n",
       "    </tr>\n",
       "  </tbody>\n",
       "</table>\n",
       "<p>911 rows × 8 columns</p>\n",
       "</div>"
      ],
      "text/plain": [
       "     id_product order_date  product_quantity  product_price entry_date  \\\n",
       "0           401 2021-01-23               1.0     541.487603 2018-12-04   \n",
       "1           416 2020-04-02               1.0     131.181818 2018-12-04   \n",
       "2           717 2019-03-10               1.0    2035.488500 2018-12-04   \n",
       "3           778 2019-12-27               1.0     335.988000 2018-12-04   \n",
       "4           826 2020-02-19               1.0     342.292302 2018-12-04   \n",
       "..          ...        ...               ...            ...        ...   \n",
       "906     1536842 2020-11-24               1.0    1186.776860 2020-10-07   \n",
       "907     1536842 2020-11-24               1.0    1186.776860 2020-10-07   \n",
       "908     1536887 2020-11-22               1.0       0.000000 2020-11-13   \n",
       "909     1536952 2021-01-26               1.0     988.429752 2020-11-24   \n",
       "910     1536974 2020-12-06               1.0       0.000000 2020-11-26   \n",
       "\n",
       "     time_delta  passing_time_to_firstsale  passing_time_from_lastsale  \n",
       "0           781                        781                          35  \n",
       "1           485                        485                         331  \n",
       "2            96                         96                         720  \n",
       "3           388                        388                         428  \n",
       "4           442                        442                         374  \n",
       "..          ...                        ...                         ...  \n",
       "906          48                         48                          95  \n",
       "907          48                         48                          95  \n",
       "908           9                          9                          97  \n",
       "909          63                         63                          32  \n",
       "910          10                         10                          83  \n",
       "\n",
       "[911 rows x 8 columns]"
      ]
     },
     "execution_count": 133,
     "metadata": {},
     "output_type": "execute_result"
    }
   ],
   "source": [
    "df[\"passing_time_from_lastsale\"] = df[\"passing_time_from_lastsale\"].astype(\"str\").str.split(\" \").str[0].astype(int)\n",
    "df"
   ]
  },
  {
   "cell_type": "code",
   "execution_count": 134,
   "metadata": {},
   "outputs": [
    {
     "data": {
      "text/html": [
       "<div>\n",
       "<style scoped>\n",
       "    .dataframe tbody tr th:only-of-type {\n",
       "        vertical-align: middle;\n",
       "    }\n",
       "\n",
       "    .dataframe tbody tr th {\n",
       "        vertical-align: top;\n",
       "    }\n",
       "\n",
       "    .dataframe thead th {\n",
       "        text-align: right;\n",
       "    }\n",
       "</style>\n",
       "<table border=\"1\" class=\"dataframe\">\n",
       "  <thead>\n",
       "    <tr style=\"text-align: right;\">\n",
       "      <th></th>\n",
       "      <th>id_product</th>\n",
       "      <th>order_date</th>\n",
       "      <th>product_quantity</th>\n",
       "      <th>product_price</th>\n",
       "      <th>entry_date</th>\n",
       "      <th>time_delta</th>\n",
       "      <th>passing_time_to_firstsale</th>\n",
       "      <th>passing_time_from_lastsale</th>\n",
       "    </tr>\n",
       "  </thead>\n",
       "  <tbody>\n",
       "    <tr>\n",
       "      <th>116</th>\n",
       "      <td>3674</td>\n",
       "      <td>2019-06-17</td>\n",
       "      <td>1.0</td>\n",
       "      <td>528.988500</td>\n",
       "      <td>2018-12-04</td>\n",
       "      <td>195</td>\n",
       "      <td>195</td>\n",
       "      <td>82</td>\n",
       "    </tr>\n",
       "    <tr>\n",
       "      <th>117</th>\n",
       "      <td>3674</td>\n",
       "      <td>2020-01-08</td>\n",
       "      <td>1.0</td>\n",
       "      <td>551.988000</td>\n",
       "      <td>2018-12-04</td>\n",
       "      <td>400</td>\n",
       "      <td>195</td>\n",
       "      <td>82</td>\n",
       "    </tr>\n",
       "    <tr>\n",
       "      <th>118</th>\n",
       "      <td>3674</td>\n",
       "      <td>2020-01-13</td>\n",
       "      <td>1.0</td>\n",
       "      <td>551.988000</td>\n",
       "      <td>2018-12-04</td>\n",
       "      <td>405</td>\n",
       "      <td>195</td>\n",
       "      <td>82</td>\n",
       "    </tr>\n",
       "    <tr>\n",
       "      <th>119</th>\n",
       "      <td>3674</td>\n",
       "      <td>2020-01-23</td>\n",
       "      <td>1.0</td>\n",
       "      <td>551.988000</td>\n",
       "      <td>2018-12-04</td>\n",
       "      <td>415</td>\n",
       "      <td>195</td>\n",
       "      <td>82</td>\n",
       "    </tr>\n",
       "    <tr>\n",
       "      <th>120</th>\n",
       "      <td>3674</td>\n",
       "      <td>2020-01-28</td>\n",
       "      <td>1.0</td>\n",
       "      <td>551.988000</td>\n",
       "      <td>2018-12-04</td>\n",
       "      <td>420</td>\n",
       "      <td>195</td>\n",
       "      <td>82</td>\n",
       "    </tr>\n",
       "    <tr>\n",
       "      <th>121</th>\n",
       "      <td>3674</td>\n",
       "      <td>2020-02-16</td>\n",
       "      <td>1.0</td>\n",
       "      <td>607.186800</td>\n",
       "      <td>2018-12-04</td>\n",
       "      <td>439</td>\n",
       "      <td>195</td>\n",
       "      <td>82</td>\n",
       "    </tr>\n",
       "    <tr>\n",
       "      <th>122</th>\n",
       "      <td>3674</td>\n",
       "      <td>2020-02-21</td>\n",
       "      <td>1.0</td>\n",
       "      <td>607.186800</td>\n",
       "      <td>2018-12-04</td>\n",
       "      <td>444</td>\n",
       "      <td>195</td>\n",
       "      <td>82</td>\n",
       "    </tr>\n",
       "    <tr>\n",
       "      <th>123</th>\n",
       "      <td>3674</td>\n",
       "      <td>2020-03-06</td>\n",
       "      <td>1.0</td>\n",
       "      <td>607.186800</td>\n",
       "      <td>2018-12-04</td>\n",
       "      <td>458</td>\n",
       "      <td>195</td>\n",
       "      <td>82</td>\n",
       "    </tr>\n",
       "    <tr>\n",
       "      <th>124</th>\n",
       "      <td>3674</td>\n",
       "      <td>2020-03-08</td>\n",
       "      <td>1.0</td>\n",
       "      <td>607.186800</td>\n",
       "      <td>2018-12-04</td>\n",
       "      <td>460</td>\n",
       "      <td>195</td>\n",
       "      <td>82</td>\n",
       "    </tr>\n",
       "    <tr>\n",
       "      <th>125</th>\n",
       "      <td>3674</td>\n",
       "      <td>2020-03-09</td>\n",
       "      <td>1.0</td>\n",
       "      <td>607.186800</td>\n",
       "      <td>2018-12-04</td>\n",
       "      <td>461</td>\n",
       "      <td>195</td>\n",
       "      <td>82</td>\n",
       "    </tr>\n",
       "    <tr>\n",
       "      <th>126</th>\n",
       "      <td>3674</td>\n",
       "      <td>2020-03-14</td>\n",
       "      <td>1.0</td>\n",
       "      <td>607.186800</td>\n",
       "      <td>2018-12-04</td>\n",
       "      <td>466</td>\n",
       "      <td>195</td>\n",
       "      <td>82</td>\n",
       "    </tr>\n",
       "    <tr>\n",
       "      <th>127</th>\n",
       "      <td>3674</td>\n",
       "      <td>2020-04-12</td>\n",
       "      <td>1.0</td>\n",
       "      <td>607.186800</td>\n",
       "      <td>2018-12-04</td>\n",
       "      <td>495</td>\n",
       "      <td>195</td>\n",
       "      <td>82</td>\n",
       "    </tr>\n",
       "    <tr>\n",
       "      <th>128</th>\n",
       "      <td>3674</td>\n",
       "      <td>2020-04-20</td>\n",
       "      <td>1.0</td>\n",
       "      <td>607.186800</td>\n",
       "      <td>2018-12-04</td>\n",
       "      <td>503</td>\n",
       "      <td>195</td>\n",
       "      <td>82</td>\n",
       "    </tr>\n",
       "    <tr>\n",
       "      <th>129</th>\n",
       "      <td>3674</td>\n",
       "      <td>2020-04-23</td>\n",
       "      <td>2.0</td>\n",
       "      <td>607.186800</td>\n",
       "      <td>2018-12-04</td>\n",
       "      <td>506</td>\n",
       "      <td>195</td>\n",
       "      <td>82</td>\n",
       "    </tr>\n",
       "    <tr>\n",
       "      <th>130</th>\n",
       "      <td>3674</td>\n",
       "      <td>2020-04-26</td>\n",
       "      <td>1.0</td>\n",
       "      <td>607.186800</td>\n",
       "      <td>2018-12-04</td>\n",
       "      <td>509</td>\n",
       "      <td>195</td>\n",
       "      <td>82</td>\n",
       "    </tr>\n",
       "    <tr>\n",
       "      <th>131</th>\n",
       "      <td>3674</td>\n",
       "      <td>2020-05-07</td>\n",
       "      <td>1.0</td>\n",
       "      <td>607.186800</td>\n",
       "      <td>2018-12-04</td>\n",
       "      <td>520</td>\n",
       "      <td>195</td>\n",
       "      <td>82</td>\n",
       "    </tr>\n",
       "    <tr>\n",
       "      <th>132</th>\n",
       "      <td>3674</td>\n",
       "      <td>2020-05-15</td>\n",
       "      <td>1.0</td>\n",
       "      <td>607.186800</td>\n",
       "      <td>2018-12-04</td>\n",
       "      <td>528</td>\n",
       "      <td>195</td>\n",
       "      <td>82</td>\n",
       "    </tr>\n",
       "    <tr>\n",
       "      <th>133</th>\n",
       "      <td>3674</td>\n",
       "      <td>2020-05-17</td>\n",
       "      <td>1.0</td>\n",
       "      <td>610.743802</td>\n",
       "      <td>2018-12-04</td>\n",
       "      <td>530</td>\n",
       "      <td>195</td>\n",
       "      <td>82</td>\n",
       "    </tr>\n",
       "    <tr>\n",
       "      <th>134</th>\n",
       "      <td>3674</td>\n",
       "      <td>2020-06-08</td>\n",
       "      <td>1.0</td>\n",
       "      <td>610.743802</td>\n",
       "      <td>2018-12-04</td>\n",
       "      <td>552</td>\n",
       "      <td>195</td>\n",
       "      <td>82</td>\n",
       "    </tr>\n",
       "    <tr>\n",
       "      <th>135</th>\n",
       "      <td>3674</td>\n",
       "      <td>2020-06-25</td>\n",
       "      <td>1.0</td>\n",
       "      <td>610.743802</td>\n",
       "      <td>2018-12-04</td>\n",
       "      <td>569</td>\n",
       "      <td>195</td>\n",
       "      <td>82</td>\n",
       "    </tr>\n",
       "    <tr>\n",
       "      <th>136</th>\n",
       "      <td>3674</td>\n",
       "      <td>2020-09-06</td>\n",
       "      <td>1.0</td>\n",
       "      <td>555.221638</td>\n",
       "      <td>2018-12-04</td>\n",
       "      <td>642</td>\n",
       "      <td>195</td>\n",
       "      <td>82</td>\n",
       "    </tr>\n",
       "    <tr>\n",
       "      <th>137</th>\n",
       "      <td>3674</td>\n",
       "      <td>2020-09-11</td>\n",
       "      <td>1.0</td>\n",
       "      <td>555.221638</td>\n",
       "      <td>2018-12-04</td>\n",
       "      <td>647</td>\n",
       "      <td>195</td>\n",
       "      <td>82</td>\n",
       "    </tr>\n",
       "    <tr>\n",
       "      <th>138</th>\n",
       "      <td>3674</td>\n",
       "      <td>2020-09-18</td>\n",
       "      <td>1.0</td>\n",
       "      <td>555.221638</td>\n",
       "      <td>2018-12-04</td>\n",
       "      <td>654</td>\n",
       "      <td>195</td>\n",
       "      <td>82</td>\n",
       "    </tr>\n",
       "    <tr>\n",
       "      <th>139</th>\n",
       "      <td>3674</td>\n",
       "      <td>2020-09-20</td>\n",
       "      <td>1.0</td>\n",
       "      <td>555.221638</td>\n",
       "      <td>2018-12-04</td>\n",
       "      <td>656</td>\n",
       "      <td>195</td>\n",
       "      <td>82</td>\n",
       "    </tr>\n",
       "    <tr>\n",
       "      <th>140</th>\n",
       "      <td>3674</td>\n",
       "      <td>2020-09-23</td>\n",
       "      <td>1.0</td>\n",
       "      <td>555.221638</td>\n",
       "      <td>2018-12-04</td>\n",
       "      <td>659</td>\n",
       "      <td>195</td>\n",
       "      <td>82</td>\n",
       "    </tr>\n",
       "    <tr>\n",
       "      <th>141</th>\n",
       "      <td>3674</td>\n",
       "      <td>2020-09-26</td>\n",
       "      <td>1.0</td>\n",
       "      <td>555.221638</td>\n",
       "      <td>2018-12-04</td>\n",
       "      <td>662</td>\n",
       "      <td>195</td>\n",
       "      <td>82</td>\n",
       "    </tr>\n",
       "    <tr>\n",
       "      <th>142</th>\n",
       "      <td>3674</td>\n",
       "      <td>2020-10-08</td>\n",
       "      <td>1.0</td>\n",
       "      <td>555.221638</td>\n",
       "      <td>2018-12-04</td>\n",
       "      <td>674</td>\n",
       "      <td>195</td>\n",
       "      <td>82</td>\n",
       "    </tr>\n",
       "    <tr>\n",
       "      <th>143</th>\n",
       "      <td>3674</td>\n",
       "      <td>2020-10-11</td>\n",
       "      <td>1.0</td>\n",
       "      <td>555.221638</td>\n",
       "      <td>2018-12-04</td>\n",
       "      <td>677</td>\n",
       "      <td>195</td>\n",
       "      <td>82</td>\n",
       "    </tr>\n",
       "    <tr>\n",
       "      <th>144</th>\n",
       "      <td>3674</td>\n",
       "      <td>2020-11-04</td>\n",
       "      <td>1.0</td>\n",
       "      <td>555.221638</td>\n",
       "      <td>2018-12-04</td>\n",
       "      <td>701</td>\n",
       "      <td>195</td>\n",
       "      <td>82</td>\n",
       "    </tr>\n",
       "    <tr>\n",
       "      <th>145</th>\n",
       "      <td>3674</td>\n",
       "      <td>2020-11-23</td>\n",
       "      <td>1.0</td>\n",
       "      <td>555.221638</td>\n",
       "      <td>2018-12-04</td>\n",
       "      <td>720</td>\n",
       "      <td>195</td>\n",
       "      <td>82</td>\n",
       "    </tr>\n",
       "    <tr>\n",
       "      <th>146</th>\n",
       "      <td>3674</td>\n",
       "      <td>2020-11-25</td>\n",
       "      <td>1.0</td>\n",
       "      <td>555.221638</td>\n",
       "      <td>2018-12-04</td>\n",
       "      <td>722</td>\n",
       "      <td>195</td>\n",
       "      <td>82</td>\n",
       "    </tr>\n",
       "    <tr>\n",
       "      <th>147</th>\n",
       "      <td>3674</td>\n",
       "      <td>2020-11-29</td>\n",
       "      <td>1.0</td>\n",
       "      <td>555.221638</td>\n",
       "      <td>2018-12-04</td>\n",
       "      <td>726</td>\n",
       "      <td>195</td>\n",
       "      <td>82</td>\n",
       "    </tr>\n",
       "    <tr>\n",
       "      <th>148</th>\n",
       "      <td>3674</td>\n",
       "      <td>2020-12-07</td>\n",
       "      <td>1.0</td>\n",
       "      <td>333.801653</td>\n",
       "      <td>2018-12-04</td>\n",
       "      <td>734</td>\n",
       "      <td>195</td>\n",
       "      <td>82</td>\n",
       "    </tr>\n",
       "  </tbody>\n",
       "</table>\n",
       "</div>"
      ],
      "text/plain": [
       "     id_product order_date  product_quantity  product_price entry_date  \\\n",
       "116        3674 2019-06-17               1.0     528.988500 2018-12-04   \n",
       "117        3674 2020-01-08               1.0     551.988000 2018-12-04   \n",
       "118        3674 2020-01-13               1.0     551.988000 2018-12-04   \n",
       "119        3674 2020-01-23               1.0     551.988000 2018-12-04   \n",
       "120        3674 2020-01-28               1.0     551.988000 2018-12-04   \n",
       "121        3674 2020-02-16               1.0     607.186800 2018-12-04   \n",
       "122        3674 2020-02-21               1.0     607.186800 2018-12-04   \n",
       "123        3674 2020-03-06               1.0     607.186800 2018-12-04   \n",
       "124        3674 2020-03-08               1.0     607.186800 2018-12-04   \n",
       "125        3674 2020-03-09               1.0     607.186800 2018-12-04   \n",
       "126        3674 2020-03-14               1.0     607.186800 2018-12-04   \n",
       "127        3674 2020-04-12               1.0     607.186800 2018-12-04   \n",
       "128        3674 2020-04-20               1.0     607.186800 2018-12-04   \n",
       "129        3674 2020-04-23               2.0     607.186800 2018-12-04   \n",
       "130        3674 2020-04-26               1.0     607.186800 2018-12-04   \n",
       "131        3674 2020-05-07               1.0     607.186800 2018-12-04   \n",
       "132        3674 2020-05-15               1.0     607.186800 2018-12-04   \n",
       "133        3674 2020-05-17               1.0     610.743802 2018-12-04   \n",
       "134        3674 2020-06-08               1.0     610.743802 2018-12-04   \n",
       "135        3674 2020-06-25               1.0     610.743802 2018-12-04   \n",
       "136        3674 2020-09-06               1.0     555.221638 2018-12-04   \n",
       "137        3674 2020-09-11               1.0     555.221638 2018-12-04   \n",
       "138        3674 2020-09-18               1.0     555.221638 2018-12-04   \n",
       "139        3674 2020-09-20               1.0     555.221638 2018-12-04   \n",
       "140        3674 2020-09-23               1.0     555.221638 2018-12-04   \n",
       "141        3674 2020-09-26               1.0     555.221638 2018-12-04   \n",
       "142        3674 2020-10-08               1.0     555.221638 2018-12-04   \n",
       "143        3674 2020-10-11               1.0     555.221638 2018-12-04   \n",
       "144        3674 2020-11-04               1.0     555.221638 2018-12-04   \n",
       "145        3674 2020-11-23               1.0     555.221638 2018-12-04   \n",
       "146        3674 2020-11-25               1.0     555.221638 2018-12-04   \n",
       "147        3674 2020-11-29               1.0     555.221638 2018-12-04   \n",
       "148        3674 2020-12-07               1.0     333.801653 2018-12-04   \n",
       "\n",
       "     time_delta  passing_time_to_firstsale  passing_time_from_lastsale  \n",
       "116         195                        195                          82  \n",
       "117         400                        195                          82  \n",
       "118         405                        195                          82  \n",
       "119         415                        195                          82  \n",
       "120         420                        195                          82  \n",
       "121         439                        195                          82  \n",
       "122         444                        195                          82  \n",
       "123         458                        195                          82  \n",
       "124         460                        195                          82  \n",
       "125         461                        195                          82  \n",
       "126         466                        195                          82  \n",
       "127         495                        195                          82  \n",
       "128         503                        195                          82  \n",
       "129         506                        195                          82  \n",
       "130         509                        195                          82  \n",
       "131         520                        195                          82  \n",
       "132         528                        195                          82  \n",
       "133         530                        195                          82  \n",
       "134         552                        195                          82  \n",
       "135         569                        195                          82  \n",
       "136         642                        195                          82  \n",
       "137         647                        195                          82  \n",
       "138         654                        195                          82  \n",
       "139         656                        195                          82  \n",
       "140         659                        195                          82  \n",
       "141         662                        195                          82  \n",
       "142         674                        195                          82  \n",
       "143         677                        195                          82  \n",
       "144         701                        195                          82  \n",
       "145         720                        195                          82  \n",
       "146         722                        195                          82  \n",
       "147         726                        195                          82  \n",
       "148         734                        195                          82  "
      ]
     },
     "execution_count": 134,
     "metadata": {},
     "output_type": "execute_result"
    }
   ],
   "source": [
    "df[(df.id_product == 3674)].sort_values(\"time_delta\")"
   ]
  }
 ],
 "metadata": {
  "colab": {
   "name": "DAwPy-S10 (Working with Text and Time Data).ipynb",
   "provenance": []
  },
  "kernelspec": {
   "display_name": "Python 3 (ipykernel)",
   "language": "python",
   "name": "python3"
  },
  "language_info": {
   "codemirror_mode": {
    "name": "ipython",
    "version": 3
   },
   "file_extension": ".py",
   "mimetype": "text/x-python",
   "name": "python",
   "nbconvert_exporter": "python",
   "pygments_lexer": "ipython3",
   "version": "3.10.9"
  },
  "toc": {
   "base_numbering": 1,
   "nav_menu": {},
   "number_sections": false,
   "sideBar": true,
   "skip_h1_title": false,
   "title_cell": "Table of Contents",
   "title_sidebar": "Contents",
   "toc_cell": false,
   "toc_position": {
    "height": "calc(100% - 180px)",
    "left": "10px",
    "top": "150px",
    "width": "267.102px"
   },
   "toc_section_display": true,
   "toc_window_display": true
  }
 },
 "nbformat": 4,
 "nbformat_minor": 1
}
